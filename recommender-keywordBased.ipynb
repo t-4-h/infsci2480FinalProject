{
 "cells": [
  {
   "cell_type": "code",
   "execution_count": 1,
   "id": "53d4f074-cda4-4aff-9653-b292d719f5b2",
   "metadata": {},
   "outputs": [],
   "source": [
    "import pandas as pd\n",
    "import numpy as np\n",
    "import matplotlib as plt\n",
    "from sklearn.feature_extraction.text import TfidfVectorizer\n",
    "from sklearn.metrics.pairwise import cosine_similarity\n",
    "import ipywidgets as widgets\n",
    "from __future__ import print_function\n",
    "from ipywidgets import interact, interactive, fixed, interact_manual\n",
    "from ipywidgets import HBox, VBox\n",
    "from IPython.display import display\n",
    "%matplotlib inline\n",
    "pd.set_option('display.max_colwidth', None)"
   ]
  },
  {
   "cell_type": "code",
   "execution_count": 2,
   "id": "dbbb914e",
   "metadata": {},
   "outputs": [],
   "source": [
    "df = pd.read_csv('newsData.csv')"
   ]
  },
  {
   "cell_type": "markdown",
   "id": "b0fb7b03",
   "metadata": {},
   "source": [
    "### Text cleaning (remove special characters from keywords)"
   ]
  },
  {
   "cell_type": "code",
   "execution_count": 3,
   "id": "9a39ac73",
   "metadata": {},
   "outputs": [],
   "source": [
    "df = df.replace({'\\'': ''}, regex=True)"
   ]
  },
  {
   "cell_type": "code",
   "execution_count": 4,
   "id": "0e0badc6",
   "metadata": {},
   "outputs": [],
   "source": [
    "df = df.replace({'\\]': ''}, regex=True)"
   ]
  },
  {
   "cell_type": "code",
   "execution_count": 5,
   "id": "5f55d6f3",
   "metadata": {},
   "outputs": [],
   "source": [
    "df = df.replace({'\\[': ''}, regex=True)"
   ]
  },
  {
   "cell_type": "code",
   "execution_count": 6,
   "id": "714306cc",
   "metadata": {
    "scrolled": true
   },
   "outputs": [
    {
     "data": {
      "text/plain": [
       "(1720, 4)"
      ]
     },
     "execution_count": 6,
     "metadata": {},
     "output_type": "execute_result"
    }
   ],
   "source": [
    "df = df[['title','text','keywords','link']]\n",
    "df.shape"
   ]
  },
  {
   "cell_type": "markdown",
   "id": "dd2416ad",
   "metadata": {},
   "source": [
    "### convert keywords to string array"
   ]
  },
  {
   "cell_type": "code",
   "execution_count": 7,
   "id": "91988aef",
   "metadata": {},
   "outputs": [],
   "source": [
    "keywords = df['keywords'].str.split(',')"
   ]
  },
  {
   "cell_type": "code",
   "execution_count": 8,
   "id": "5f4b277e",
   "metadata": {},
   "outputs": [],
   "source": [
    "keywords = df['keywords'].fillna(\"\").astype('str')"
   ]
  },
  {
   "cell_type": "markdown",
   "id": "3931275f",
   "metadata": {},
   "source": [
    "### create tfidf matrix using sklearn TfidfVectorizer"
   ]
  },
  {
   "cell_type": "code",
   "execution_count": 9,
   "id": "4b36ed3e",
   "metadata": {},
   "outputs": [],
   "source": [
    "tf = TfidfVectorizer(analyzer='word',ngram_range=(1, 2),min_df=0, stop_words='english')"
   ]
  },
  {
   "cell_type": "code",
   "execution_count": 10,
   "id": "27c151eb",
   "metadata": {},
   "outputs": [
    {
     "data": {
      "text/plain": [
       "(1720, 30314)"
      ]
     },
     "execution_count": 10,
     "metadata": {},
     "output_type": "execute_result"
    }
   ],
   "source": [
    "matrix = tf.fit_transform(keywords)\n",
    "##show matrix dimensions\n",
    "matrix.shape"
   ]
  },
  {
   "cell_type": "markdown",
   "id": "90f3b1cc",
   "metadata": {},
   "source": [
    "### find cosine similarity using sklearn cosine_similarity"
   ]
  },
  {
   "cell_type": "code",
   "execution_count": 11,
   "id": "1982a9e8",
   "metadata": {},
   "outputs": [
    {
     "data": {
      "text/plain": [
       "array([[1.        , 0.02245185, 0.01624453, 0.01527454, 0.01451524,\n",
       "        0.03182148, 0.02852832, 0.01732251, 0.02998594, 0.03484808],\n",
       "       [0.02245185, 1.        , 0.02796744, 0.0379288 , 0.01288564,\n",
       "        0.02812955, 0.01284527, 0.01537774, 0.02508307, 0.01732719],\n",
       "       [0.01624453, 0.02796744, 1.        , 0.02930386, 0.01435876,\n",
       "        0.01596608, 0.01431377, 0.01713577, 0.01504512, 0.00559133],\n",
       "       [0.01527454, 0.0379288 , 0.02930386, 1.        , 0.01350138,\n",
       "        0.02370218, 0.07858818, 0.08524931, 0.05140995, 0.04586832],\n",
       "       [0.01451524, 0.01288564, 0.01435876, 0.01350138, 1.        ,\n",
       "        0.01426644, 0.01279002, 0.01531161, 0.01344351, 0.00499611],\n",
       "       [0.03182148, 0.02812955, 0.01596608, 0.02370218, 0.01426644,\n",
       "        1.        , 0.03627095, 0.0268801 , 0.04775603, 0.03018799],\n",
       "       [0.02852832, 0.01284527, 0.01431377, 0.07858818, 0.01279002,\n",
       "        0.03627095, 1.        , 0.02409832, 0.05022627, 0.04507248],\n",
       "       [0.01732251, 0.01537774, 0.01713577, 0.08524931, 0.01531161,\n",
       "        0.0268801 , 0.02409832, 1.        , 0.02532959, 0.03679763],\n",
       "       [0.02998594, 0.02508307, 0.01504512, 0.05140995, 0.01344351,\n",
       "        0.04775603, 0.05022627, 0.02532959, 1.        , 0.13040678],\n",
       "       [0.03484808, 0.01732719, 0.00559133, 0.04586832, 0.00499611,\n",
       "        0.03018799, 0.04507248, 0.03679763, 0.13040678, 1.        ]])"
      ]
     },
     "execution_count": 11,
     "metadata": {},
     "output_type": "execute_result"
    }
   ],
   "source": [
    "cosSim= cosine_similarity(matrix, matrix)\n",
    "##show sample of cosine similarity array\n",
    "cosSim[:10, :10]"
   ]
  },
  {
   "cell_type": "code",
   "execution_count": null,
   "id": "5638ff13-5a52-4a24-a7ff-27704af62e57",
   "metadata": {},
   "outputs": [],
   "source": []
  },
  {
   "cell_type": "code",
   "execution_count": 12,
   "id": "127ed901",
   "metadata": {},
   "outputs": [],
   "source": [
    "def recommender(title):\n",
    "    ##create indices for titles/links\n",
    "    titles = df['title']\n",
    "    link = df['link']\n",
    "    indices = pd.Series(df.index, index=df['title'])\n",
    "    \n",
    "    ##find recommendations using cosine similarity\n",
    "    idx = indices[title]\n",
    "    similarity = list(enumerate(cosSim[idx]))\n",
    "    similarity = sorted(similarity, key=lambda x: x[1], reverse=True)\n",
    "    similarity = similarity[1:21]\n",
    "    news_indices = [i[0] for i in similarity]\n",
    "    newsTitle = titles.iloc[news_indices]\n",
    "    newsLink = link.iloc[news_indices]\n",
    "    result = newsTitle, newsLink\n",
    "    return result"
   ]
  },
  {
   "cell_type": "markdown",
   "id": "fae024a2-9e6a-4aa7-86d8-4af04a8d1a0a",
   "metadata": {},
   "source": [
    "## test recommender"
   ]
  },
  {
   "cell_type": "code",
   "execution_count": 13,
   "id": "a6d2c729",
   "metadata": {},
   "outputs": [
    {
     "data": {
      "text/plain": [
       "(1684                      Australia central bank policy measures working as expected - official\n",
       " 1633                   UPDATE 1-Australia central bank holds rates, expands bank funding scheme\n",
       " 1631                     Australia central bank expands low-cost funding as dire GDP data looms\n",
       " 1519                        UPDATE 1-Indonesia c.bank keeps rates on hold, eases car loan rules\n",
       " 1681                                            Stimulus deal unlikely until after the election\n",
       " 1600                           Bank of England policymakers warn of bigger risks for UK economy\n",
       " 1620                           Bank of England policymakers warn UK economy facing bigger risks\n",
       " 1560    Indian government consumption key to growth in economy amid pandemic, central bank says\n",
       " 1707        Taiwan central bank likely to stand pat as economy weathers pandemic - Reuters poll\n",
       " 1374                                 Sensex, Nifty end lower after broader selloff; banks weigh\n",
       " 296                      UPDATE 3-Lebanon c. bank urges banks to recapitalise, repatriate funds\n",
       " 1561             Top Japan government spokesman signals push to re-open economy, boost stimulus\n",
       " 1658                                        ECB must keep up support for the economy - Villeroy\n",
       " 1666                        Thailand hunts for new finance minister to tackle economy in crisis\n",
       " 1615                 Russia to cut rates in 2020, helping economy to grow in 2021: Reuters Poll\n",
       " 1624                    South Korea ramps up economic stimulus as coronavirus restrictions bite\n",
       " 1628                           Nifty, Sensex end lower after China border tensions; banks weigh\n",
       " 1552                      French central banker says any 2020 GDP forecast revision would be up\n",
       " 1562        Brazil cenbank chief Campos Neto says replacing Economy Minister Guedes a non-issue\n",
       " 1603                              Thai July economy improves but foreign tourist ban a big drag\n",
       " Name: title, dtype: object,\n",
       " 1684                       https://www.reuters.com/article/australia-economy-rba-int-idUSKBN26807S\n",
       " 1633                         https://www.reuters.com/article/australia-economy-rates-idUSL4N2FY1EP\n",
       " 1631                         https://www.reuters.com/article/australia-economy-rates-idUSL4N2FY1GN\n",
       " 1519                         https://www.reuters.com/article/indonesia-economy-rates-idUSL4N2FK2BV\n",
       " 1681    https://www.cnn.com/2020/09/12/politics/stimulus-negotiations-congress-election/index.html\n",
       " 1600                                     https://www.reuters.com/article/britain-boe-idUSL8N2FZ41G\n",
       " 1620                                     https://www.reuters.com/article/britain-boe-idUSL9N2ER032\n",
       " 1560                            https://www.reuters.com/article/india-cenbank-report-idUSL4N2FR1QW\n",
       " 1707                   https://www.reuters.com/article/taiwan-economy-rates-poll-int-idUSKBN2650Z9\n",
       " 1374                                     https://in.reuters.com/article/india-stocks-idINKBN25V0FV\n",
       " 296                        https://in.reuters.com/article/lebanon-crisis-centralbank-idINL8N2FT4EN\n",
       " 1561                 https://in.reuters.com/article/us-japan-politics-suga-interview-idINKBN25M12O\n",
       " 1658                           https://uk.reuters.com/article/uk-ecb-policy-villeroy-idUKKBN2612WC\n",
       " 1666                     https://www.reuters.com/article/us-thailand-economy-finance-idUSKBN25Y0KZ\n",
       " 1615                          https://www.reuters.com/article/us-russia-economy-poll-idUSKBN25R1UI\n",
       " 1624                https://www.reuters.com/article/us-health-coronavirus-southkorea-idUSKBN25S3BB\n",
       " 1628                                     https://in.reuters.com/article/india-stocks-idINKBN25R0EM\n",
       " 1552                      https://www.reuters.com/article/us-france-economy-villeroy-idUSKBN25N2RE\n",
       " 1562                               https://www.reuters.com/article/us-brazil-cenbank-idUSKBN25L01R\n",
       " 1603                  https://www.reuters.com/article/us-thailand-economy-indicators-idUSKBN25R1F0\n",
       " Name: link, dtype: object)"
      ]
     },
     "execution_count": 13,
     "metadata": {},
     "output_type": "execute_result"
    }
   ],
   "source": [
    "recommender('Bank of England gears up for next stimulus push')"
   ]
  },
  {
   "cell_type": "code",
   "execution_count": 14,
   "id": "31de1bc1-1933-4325-b63a-22d98233343a",
   "metadata": {},
   "outputs": [
    {
     "data": {
      "text/plain": [
       "(1706                       Japans economy minister instructed by new PM to take steps without hesitation\n",
       " 1659                     Japans worst postwar economic downturn could force new leader to boost stimulus\n",
       " 256                     Suga seen top contender in Japan PM race as ruling party plans slimmed-down vote\n",
       " 1597                                Japan shares rise on hopes for U.S. economy, new prime minister eyed\n",
       " 1678                               Yoshihide Suga picked by Japans governing party to succeed Shinzo Abe\n",
       " 273     How Shinzo Abes exit could threaten regional stability and Japans alliance with the US (Opinion)\n",
       " 1664                                   Japans Suga says strong economy necessary to pursue fiscal reform\n",
       " 1574                   Newsmaker: Japans Shinzo Abe sought to revive economy, fulfil conservative agenda\n",
       " 272                                            Shinzo Abe: Revisionist nationalist or pragmatic realist?\n",
       " 1626         UPDATE 1-Thailand announces $2.2 bln worth of additional stimulus in handouts, job measures\n",
       " 1611                       Japan LDPs Kishida says can show strength in areas of economy, foreign policy\n",
       " 319                                       Hong Kong to ease some coronavirus measures starting on Friday\n",
       " 1717                                                     Bank of England gears up for next stimulus push\n",
       " 1627              Chinas slower factory growth eclipsed by robust services in boost to economic recovery\n",
       " 166                                    UPDATE 1-Indonesia faces struggle to avoid recession, finmin says\n",
       " 1550                                      Chinese premier says economy could grow this year: state radio\n",
       " 1556                                     Chinese premier says economy could grow this year - state radio\n",
       " 1624                             South Korea ramps up economic stimulus as coronavirus restrictions bite\n",
       " 1653         Japans new government should focus on response to coronavirus, digitalization: Reuters poll\n",
       " 1491                                     Coronavirus: Japan suffers its biggest economic slump on record\n",
       " Name: title, dtype: object,\n",
       " 1706                    https://uk.reuters.com/article/us-japan-economy-nishimura-idUKKBN268069\n",
       " 1659                             https://uk.reuters.com/article/japan-economy-gdp-idINKBN25Z08A\n",
       " 256                                 https://in.reuters.com/article/japan-politics-idINL4N2FX52L\n",
       " 1597                          https://www.reuters.com/article/japan-stocks-closer-idUSL4N2FZ196\n",
       " 1678                                             https://www.bbc.co.uk/news/world-asia-54070281\n",
       " 273     https://www.cnn.com/2020/08/30/opinions/japan-us-relations-shinzo-abe-sracic/index.html\n",
       " 1664                   https://uk.reuters.com/article/japan-politics-suga-economy-idINKBN2600N9\n",
       " 1574                  https://in.reuters.com/article/japan-politics-abe-newsmaker-idINKBN25O0KI\n",
       " 272                                              https://www.bbc.co.uk/news/world-asia-53950704\n",
       " 1626         https://www.reuters.com/article/health-coronavirus-thailand-measures-idUSL4N2FZ1GW\n",
       " 1611                       https://www.reuters.com/article/japan-politics-kishida-idUST9N2DA02N\n",
       " 319                    https://in.reuters.com/article/health-coronavirus-hongkong-idINKBN25L0HG\n",
       " 1717                               https://www.reuters.com/article/us-britain-boe-idUSKBN2673NS\n",
       " 1627                          https://uk.reuters.com/article/uk-china-economy-pmi-idUKKBN25R038\n",
       " 166                              https://in.reuters.com/article/indonesia-economy-idINL4N2FR18P\n",
       " 1550                          https://www.reuters.com/article/us-china-economy-li-idUSKBN25J0CW\n",
       " 1556                              https://in.reuters.com/article/china-economy-li-idINKBN25J0DG\n",
       " 1624             https://www.reuters.com/article/us-health-coronavirus-southkorea-idUSKBN25S3BB\n",
       " 1653                        https://www.reuters.com/article/us-japan-economy-poll-idUSKBN2620FB\n",
       " 1491                                               https://www.bbc.co.uk/news/business-53802967\n",
       " Name: link, dtype: object)"
      ]
     },
     "execution_count": 14,
     "metadata": {},
     "output_type": "execute_result"
    }
   ],
   "source": [
    "recommender('Top Japan government spokesman signals push to re-open economy, boost stimulus')"
   ]
  },
  {
   "cell_type": "markdown",
   "id": "8fbf023d-a00f-4d3a-b0c7-600f5d8bde8c",
   "metadata": {},
   "source": [
    "*notice that the titles are in similar rankings in each others lists (good sign)"
   ]
  },
  {
   "cell_type": "markdown",
   "id": "fcca5594-a954-4661-80c9-78faaa9b120f",
   "metadata": {},
   "source": [
    " ## Get recommendations based on keywords\n",
    " ### enter a title to view top 20 recommendations"
   ]
  },
  {
   "cell_type": "code",
   "execution_count": 15,
   "id": "1dcfba2e-f065-4a16-89a2-8df84f159cc6",
   "metadata": {},
   "outputs": [
    {
     "data": {
      "application/vnd.jupyter.widget-view+json": {
       "model_id": "69fe294546544b89b92559887b7b41ee",
       "version_major": 2,
       "version_minor": 0
      },
      "text/plain": [
       "interactive(children=(Text(value='Brazils Guedes finds influence waning as Bolsonaro takes up spending reins',…"
      ]
     },
     "metadata": {},
     "output_type": "display_data"
    },
    {
     "data": {
      "text/plain": [
       "<function __main__.recommender(title)>"
      ]
     },
     "metadata": {},
     "output_type": "display_data"
    }
   ],
   "source": [
    "interact = interact_manual.options(manual_name=\"find recommendations\")\n",
    "im = interact(recommender, title='Brazils Guedes finds influence waning as Bolsonaro takes up spending reins')\n",
    "im.widget.children[0].description = 'enter title'\n",
    "display(im)"
   ]
  }
 ],
 "metadata": {
  "kernelspec": {
   "display_name": "Python 3",
   "language": "python",
   "name": "python3"
  },
  "language_info": {
   "codemirror_mode": {
    "name": "ipython",
    "version": 3
   },
   "file_extension": ".py",
   "mimetype": "text/x-python",
   "name": "python",
   "nbconvert_exporter": "python",
   "pygments_lexer": "ipython3",
   "version": "3.9.2"
  },
  "widgets": {
   "application/vnd.jupyter.widget-state+json": {
    "state": {
     "071a07cc46b94f13b8e19b6bc12c8f54": {
      "model_module": "@jupyter-widgets/base",
      "model_module_version": "1.2.0",
      "model_name": "LayoutModel",
      "state": {}
     },
     "140983b026074ead8f85933c3abdc4fb": {
      "model_module": "@jupyter-widgets/controls",
      "model_module_version": "1.5.0",
      "model_name": "TextModel",
      "state": {
       "description": "enter title",
       "layout": "IPY_MODEL_071a07cc46b94f13b8e19b6bc12c8f54",
       "style": "IPY_MODEL_3eaae366f4ed4415b13da3dde42484cb",
       "value": "Why Trash Is Piling Up at N.Y.C. Parks"
      }
     },
     "3eaae366f4ed4415b13da3dde42484cb": {
      "model_module": "@jupyter-widgets/controls",
      "model_module_version": "1.5.0",
      "model_name": "DescriptionStyleModel",
      "state": {
       "description_width": ""
      }
     },
     "49c4475654c64a7cbaf055d37cdd29c7": {
      "model_module": "@jupyter-widgets/base",
      "model_module_version": "1.2.0",
      "model_name": "LayoutModel",
      "state": {}
     },
     "519c1894efec45268218c1d9e20442b9": {
      "model_module": "@jupyter-widgets/controls",
      "model_module_version": "1.5.0",
      "model_name": "ButtonStyleModel",
      "state": {}
     },
     "69fe294546544b89b92559887b7b41ee": {
      "model_module": "@jupyter-widgets/controls",
      "model_module_version": "1.5.0",
      "model_name": "VBoxModel",
      "state": {
       "_dom_classes": [
        "widget-interact"
       ],
       "children": [
        "IPY_MODEL_140983b026074ead8f85933c3abdc4fb",
        "IPY_MODEL_fbd8997b451441e3873b57db93375174",
        "IPY_MODEL_d4cc7913be1a4f4d8d7a7246c10b75ce"
       ],
       "layout": "IPY_MODEL_eb2f569021214c24b7d34e79a2d7a666"
      }
     },
     "8927b48c61924a48a4374f4a27925846": {
      "model_module": "@jupyter-widgets/base",
      "model_module_version": "1.2.0",
      "model_name": "LayoutModel",
      "state": {}
     },
     "d4cc7913be1a4f4d8d7a7246c10b75ce": {
      "model_module": "@jupyter-widgets/output",
      "model_module_version": "1.0.0",
      "model_name": "OutputModel",
      "state": {
       "layout": "IPY_MODEL_49c4475654c64a7cbaf055d37cdd29c7",
       "outputs": [
        {
         "data": {
          "text/plain": "(511                                         Trash Piles Up in Parks, Just When New Yorkers Need Them the Most\n 512                                                                                  Is New York City ‘Over’?\n 339                                                  How to Get Free Admission to National Parks on August 25\n 1246    Desktop Metal going public in SPAC-led deal that could value 3D printer company at $2.5B – TechCrunch\n 1716                               Brazils Guedes finds influence waning as Bolsonaro takes up spending reins\n 672                                                         New Apartments in the Suburbs Attract New Yorkers\n 896                    Tiger King zookeeper Jeff Lowe willfully violated animal welfare regulations, feds say\n 1381          Tesla shares drop sharply in broader tech sell-off, falling 17% in morning trading – TechCrunch\n 90                                               Solar Panels Are Starting to Die, Leaving Behind Toxic Trash\n 1140                                     Cops in Miami, NYC arrest protesters from facial recognition matches\n 219                                                                                             LPGA Rankings\n 586                                     A Violent August in N.Y.C.: Shootings Double, and Murder Is Up by 50%\n 590                                                         N.Y.C. Surpasses 1,000 Shootings Before Labor Day\n 1639                                                                   US budget deficit soars to $3tn record\n 799                                          As N.Y.C. Reopens Schools, Homeless Families Face New Challenges\n 203                                           These wildlife photography finalists will take your breath away\n 1593                          Spains Economy minister calls for parties responsibility to approve budget soon\n 1580                            CBO report: US debt will overtake GDP next year for the first time since 1946\n 380         Netflix is re-creating iconic Stranger Things sets in LA, and you can drive your car through them\n 1504                                               Vanuatus citizenships-for-sale scheme keeps economy afloat\n Name: title, dtype: object,\n 511                                                                                      https://www.nytimes.com/2020/08/27/nyregion/nyc-parks-trash.html\n 512                                                                            https://www.nytimes.com/2020/08/25/nyregion/nyc-coronavirus-reopening.html\n 339                                                                      https://lifehacker.com/how-to-visit-a-national-park-for-free-tomorrow-1844828296\n 1246                            http://techcrunch.com/2020/08/26/desktop-metal-going-public-in-spac-led-deal-that-could-value-3d-printer-company-at-2-5b/\n 1716                                                                       https://uk.reuters.com/article/uk-brazil-economy-guedes-analysis-idUKKBN26735I\n 672                                                                        https://www.nytimes.com/2020/09/08/realestate/suburbs-attract-new-yorkers.html\n 896     https://www.usatoday.com/story/entertainment/celebrities/2020/08/24/tiger-king-jeff-lowe-violated-animal-welfare-regulations-feds-say/3428112001/\n 1381                                    http://techcrunch.com/2020/09/08/tesla-shares-drop-sharply-in-broader-tech-selloff-falling-17-in-morning-trading/\n 90                                                               https://www.wired.com/story/solar-panels-are-starting-to-die-leaving-behind-toxic-trash/\n 1140                                     https://arstechnica.com/tech-policy/2020/08/cops-in-miami-nyc-arrest-protesters-from-facial-recognition-matches/\n 219                                                                                  https://in.reuters.com/article/golf-lpga-rankings-idINMTZXEG8VXLUWN3\n 586                                                                                https://www.nytimes.com/2020/09/02/nyregion/nyc-shootings-murders.html\n 590                                                                                        https://www.nytimes.com/2020/09/03/nyregion/nyc-shootings.html\n 1639                                                                                                         https://www.bbc.co.uk/news/business-54126226\n 799                                                                        https://www.nytimes.com/2020/09/14/nyregion/nyc-schools-homeless-students.html\n 203                                                                 https://mashable.com/article/wildlife-photographer-of-the-year-highly-commended-2020/\n 1593                                                                    https://www.reuters.com/article/us-health-coronavirus-spain-finance-idUSKBN25R16H\n 1580                                                             https://www.cnn.com/2020/09/02/politics/cbo-us-debt-projected-to-overtake-gdp/index.html\n 380                                  https://www.theverge.com/2020/8/20/21377620/netflix-stranger-things-immersive-theater-drive-into-experience-location\n 1504                                                                                https://www.reuters.com/article/us-pacific-vanuatu-debt-idUSKBN25H0B8\n Name: link, dtype: object)"
         },
         "metadata": {},
         "output_type": "display_data"
        }
       ]
      }
     },
     "eb2f569021214c24b7d34e79a2d7a666": {
      "model_module": "@jupyter-widgets/base",
      "model_module_version": "1.2.0",
      "model_name": "LayoutModel",
      "state": {}
     },
     "fbd8997b451441e3873b57db93375174": {
      "model_module": "@jupyter-widgets/controls",
      "model_module_version": "1.5.0",
      "model_name": "ButtonModel",
      "state": {
       "description": "find recommendations",
       "layout": "IPY_MODEL_8927b48c61924a48a4374f4a27925846",
       "style": "IPY_MODEL_519c1894efec45268218c1d9e20442b9"
      }
     }
    },
    "version_major": 2,
    "version_minor": 0
   }
  }
 },
 "nbformat": 4,
 "nbformat_minor": 5
}
