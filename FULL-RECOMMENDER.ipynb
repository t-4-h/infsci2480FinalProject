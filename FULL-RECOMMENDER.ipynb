{
 "cells": [
  {
   "cell_type": "code",
   "execution_count": 22,
   "id": "8a0d131e-c4ab-41d0-843a-cb21c4795a44",
   "metadata": {
    "tags": [
     "hide",
     "hide-cell"
    ]
   },
   "outputs": [],
   "source": [
    "import pandas as pd\n",
    "import numpy as np\n",
    "import matplotlib as plt\n",
    "from sklearn.feature_extraction.text import TfidfVectorizer\n",
    "from sklearn.metrics.pairwise import cosine_similarity\n",
    "import ipywidgets as widgets\n",
    "from __future__ import print_function\n",
    "from ipywidgets import interact, interactive, fixed, interact_manual\n",
    "from ipywidgets import HBox, VBox\n",
    "from IPython.display import display\n",
    "from nltk.corpus import stopwords\n",
    "from nltk.tokenize import RegexpTokenizer\n",
    "import re\n",
    "import string\n",
    "import random\n",
    "import nbinteract as nbi\n",
    "%matplotlib inline\n",
    "pd.set_option('display.max_colwidth', None)"
   ]
  },
  {
   "cell_type": "code",
   "execution_count": 23,
   "id": "dbbb914e",
   "metadata": {
    "tags": [
     "hide-cell",
     "hide"
    ]
   },
   "outputs": [],
   "source": [
    "df = pd.read_csv('newsData.csv')"
   ]
  },
  {
   "cell_type": "code",
   "execution_count": 24,
   "id": "dd38e65c-fd1a-4496-b46a-8c739af1d770",
   "metadata": {
    "tags": [
     "hide-cell",
     "hide"
    ]
   },
   "outputs": [],
   "source": [
    "# Function for converting into lower case\n",
    "def make_lower_case(text):\n",
    "    return text.lower()\n",
    "\n",
    "\n",
    "# Function for removing punctuation\n",
    "def remove_punctuation(text):\n",
    "    tokenizer = RegexpTokenizer(r'\\w+')\n",
    "    text = tokenizer.tokenize(text)\n",
    "    text = \" \".join(text)\n",
    "    return text\n",
    "\n",
    "# Function for removing the html tags\n",
    "def remove_html(text):\n",
    "    html_pattern = re.compile('<.*?>')\n",
    "    return html_pattern.sub(r'', text)\n",
    "\n",
    "# Applying all the functions in description and storing as \"cleaned\"\n",
    "df['cleaned'] = df['text'].apply(func = make_lower_case)\n",
    "df['cleaned'] = df.cleaned.apply(func=remove_punctuation)\n",
    "df['cleaned'] = df.cleaned.apply(func=remove_html)"
   ]
  },
  {
   "cell_type": "code",
   "execution_count": 25,
   "id": "4b36ed3e",
   "metadata": {
    "tags": [
     "hide-cell",
     "hide"
    ]
   },
   "outputs": [],
   "source": [
    "tf = TfidfVectorizer(analyzer='word',ngram_range=(1, 3),max_df=0.8, min_df=0, stop_words='english')"
   ]
  },
  {
   "cell_type": "code",
   "execution_count": 26,
   "id": "27c151eb",
   "metadata": {
    "tags": [
     "hide-cell",
     "hide"
    ]
   },
   "outputs": [],
   "source": [
    "matrix = tf.fit_transform(df['cleaned'])\n"
   ]
  },
  {
   "cell_type": "code",
   "execution_count": 27,
   "id": "1982a9e8",
   "metadata": {
    "tags": [
     "hide"
    ]
   },
   "outputs": [],
   "source": [
    "cosSim= cosine_similarity(matrix, matrix)\n"
   ]
  },
  {
   "cell_type": "code",
   "execution_count": 28,
   "id": "127ed901",
   "metadata": {
    "tags": [
     "hide-cell",
     "hide-output",
     "hide"
    ]
   },
   "outputs": [],
   "source": [
    "def recommender(title):\n",
    "    #create indices for titles\n",
    "    titles = df['title']\n",
    "    link = df['link']\n",
    "    indices = pd.Series(df.index, index=df['title'])\n",
    "    ##recommend based on cosine similarity\n",
    "    idx = indices[title]\n",
    "    similarity = list(enumerate(cosSim[idx]))\n",
    "    similarity = sorted(similarity, key=lambda x: x[1], reverse=True)\n",
    "    similarity = similarity[1:21]\n",
    "    news_indices = [i[0] for i in similarity]\n",
    "    newsTitle = titles.iloc[news_indices]\n",
    "    newsLink = link.iloc[news_indices]\n",
    "    return [newsTitle, newsLink]"
   ]
  },
  {
   "cell_type": "code",
   "execution_count": 29,
   "id": "708c02ef-80a4-4e75-b828-b3ad8e6756ce",
   "metadata": {},
   "outputs": [],
   "source": [
    "df2 = pd.read_csv('newsData.csv')"
   ]
  },
  {
   "cell_type": "code",
   "execution_count": 30,
   "id": "88833e81-3e53-441a-89fd-a60d2ac83fc2",
   "metadata": {},
   "outputs": [],
   "source": [
    "df2 = df2.replace({'\\'': ''}, regex=True)"
   ]
  },
  {
   "cell_type": "code",
   "execution_count": 31,
   "id": "88e17540-c61a-47da-83b1-c2ed946703ef",
   "metadata": {},
   "outputs": [],
   "source": [
    "df2 = df2.replace({'\\]': ''}, regex=True)"
   ]
  },
  {
   "cell_type": "code",
   "execution_count": 32,
   "id": "583a6baf-6f2d-4f30-90e9-7f931cdfe30e",
   "metadata": {},
   "outputs": [],
   "source": [
    "df2 = df2.replace({'\\[': ''}, regex=True)"
   ]
  },
  {
   "cell_type": "code",
   "execution_count": 33,
   "id": "628351a0-79d6-4efa-92c0-f285e7aa44a4",
   "metadata": {},
   "outputs": [],
   "source": [
    "df2 = df2[['title','text','keywords','link']]"
   ]
  },
  {
   "cell_type": "code",
   "execution_count": 34,
   "id": "f5f85c3e-71d0-42cd-936b-39657a102681",
   "metadata": {},
   "outputs": [],
   "source": [
    "keywords = df2['keywords'].str.split(',')"
   ]
  },
  {
   "cell_type": "code",
   "execution_count": 35,
   "id": "36bd3065-7e20-44a4-8596-80338ab4bf8a",
   "metadata": {},
   "outputs": [],
   "source": [
    "keywords = df2['keywords'].fillna(\"\").astype('str')"
   ]
  },
  {
   "cell_type": "code",
   "execution_count": 36,
   "id": "47c0bf2d-06ef-4d59-ba88-89631f4d4057",
   "metadata": {},
   "outputs": [],
   "source": [
    "tf2 = TfidfVectorizer(analyzer='word',ngram_range=(1, 2),min_df=0, stop_words='english')"
   ]
  },
  {
   "cell_type": "code",
   "execution_count": 37,
   "id": "c41f10fc-5bc7-4659-8ccb-d72f78f6afba",
   "metadata": {},
   "outputs": [],
   "source": [
    "matrix2 = tf2.fit_transform(keywords)\n",
    "##show matrix dimensions"
   ]
  },
  {
   "cell_type": "code",
   "execution_count": 38,
   "id": "d62b4063-de0c-414d-bcd2-7dc5fbf38148",
   "metadata": {
    "tags": []
   },
   "outputs": [],
   "source": [
    "cosSim2= cosine_similarity(matrix2, matrix2)"
   ]
  },
  {
   "cell_type": "code",
   "execution_count": 39,
   "id": "a14b6cb3-e45f-4767-9c4e-687f6075f862",
   "metadata": {},
   "outputs": [],
   "source": [
    "def recommender2(title):\n",
    "    #create indices for titles\n",
    "    titles = df['title']\n",
    "    link = df['link']\n",
    "    indices = pd.Series(df.index, index=df['title'])\n",
    "    ##recommend based on cosine similarity\n",
    "    idx = indices[title]\n",
    "    similarity = list(enumerate(cosSim2[idx]))\n",
    "    similarity = sorted(similarity, key=lambda x: x[1], reverse=True)\n",
    "    similarity = similarity[1:21]\n",
    "    news_indices = [i[0] for i in similarity]\n",
    "    newsTitle = titles.iloc[news_indices]\n",
    "    newsLink = link.iloc[news_indices]\n",
    "    return [newsTitle, newsLink]"
   ]
  },
  {
   "cell_type": "markdown",
   "id": "fcca5594-a954-4661-80c9-78faaa9b120f",
   "metadata": {},
   "source": [
    " # News Recommender system\n",
    " ## | Get recommendations based on article text |\n",
    " ### enter a title to view top 20 recommendations"
   ]
  },
  {
   "cell_type": "code",
   "execution_count": 53,
   "id": "7c7c06c6",
   "metadata": {
    "tags": [
     "hide-input"
    ]
   },
   "outputs": [
    {
     "data": {
      "application/vnd.jupyter.widget-view+json": {
       "model_id": "9dd292a229944095adc3b93868df6238",
       "version_major": 2,
       "version_minor": 0
      },
      "text/plain": [
       "interactive(children=(Text(value='', description='title'), Button(description='find recommendations', style=Bu…"
      ]
     },
     "metadata": {},
     "output_type": "display_data"
    },
    {
     "data": {
      "text/plain": [
       "<function __main__.recommender(title)>"
      ]
     },
     "metadata": {},
     "output_type": "display_data"
    }
   ],
   "source": [
    "interact = interact_manual.options(manual_name=\"find recommendations\")\n",
    "im = interact(recommender, title='')\n",
    "im.widget.children[0].description = 'enter title'\n",
    "display(im)"
   ]
  },
  {
   "cell_type": "markdown",
   "id": "94691a94-b838-40b4-a27d-ef27e2200c67",
   "metadata": {},
   "source": [
    " ## | Get recommendations based on keyword tags |\n",
    " ### enter a title to view top 20 recommendations"
   ]
  },
  {
   "cell_type": "code",
   "execution_count": 54,
   "id": "1dcfba2e-f065-4a16-89a2-8df84f159cc6",
   "metadata": {},
   "outputs": [
    {
     "data": {
      "application/vnd.jupyter.widget-view+json": {
       "model_id": "6355cb91d9524e9ca55639c5879af2e8",
       "version_major": 2,
       "version_minor": 0
      },
      "text/plain": [
       "interactive(children=(Text(value='', description='title'), Button(description='find recommendations', style=Bu…"
      ]
     },
     "metadata": {},
     "output_type": "display_data"
    },
    {
     "data": {
      "text/plain": [
       "<function __main__.recommender2(title)>"
      ]
     },
     "metadata": {},
     "output_type": "display_data"
    }
   ],
   "source": [
    "interact2 = interact_manual.options(manual_name=\"find recommendations\")\n",
    "im2 = interact(recommender2, title='')\n",
    "im2.widget.children[0].description = 'enter title'\n",
    "display(im2)"
   ]
  },
  {
   "cell_type": "code",
   "execution_count": null,
   "id": "c6bdb443-e83f-4d0e-8cd3-e2e294e8482a",
   "metadata": {},
   "outputs": [],
   "source": []
  }
 ],
 "metadata": {
  "kernelspec": {
   "display_name": "Python 3",
   "language": "python",
   "name": "python3"
  },
  "language_info": {
   "codemirror_mode": {
    "name": "ipython",
    "version": 3
   },
   "file_extension": ".py",
   "mimetype": "text/x-python",
   "name": "python",
   "nbconvert_exporter": "python",
   "pygments_lexer": "ipython3",
   "version": "3.9.2"
  },
  "widgets": {
   "application/vnd.jupyter.widget-state+json": {
    "state": {
     "057e67d19c134a0d97b827218a53f5b0": {
      "model_module": "@jupyter-widgets/base",
      "model_module_version": "1.2.0",
      "model_name": "LayoutModel",
      "state": {}
     },
     "05851f0cffec45e6b44059e739affef8": {
      "model_module": "@jupyter-widgets/base",
      "model_module_version": "1.2.0",
      "model_name": "LayoutModel",
      "state": {}
     },
     "0708cefbe622451fa46a962408be7492": {
      "model_module": "@jupyter-widgets/controls",
      "model_module_version": "1.5.0",
      "model_name": "ButtonModel",
      "state": {
       "description": "find recommendations",
       "layout": "IPY_MODEL_e1fbd121c0b4417f9eedf3519ea5a6dc",
       "style": "IPY_MODEL_0aa288af940e4d67b4d1e91fb355f21e"
      }
     },
     "07505c7c04404ae89c629deda79ea798": {
      "model_module": "@jupyter-widgets/base",
      "model_module_version": "1.2.0",
      "model_name": "LayoutModel",
      "state": {
       "width": "500px"
      }
     },
     "0790726e654a420e8e9c055964511111": {
      "model_module": "@jupyter-widgets/base",
      "model_module_version": "1.2.0",
      "model_name": "LayoutModel",
      "state": {}
     },
     "080cd6c052334135826844b918f2122a": {
      "model_module": "@jupyter-widgets/output",
      "model_module_version": "1.0.0",
      "model_name": "OutputModel",
      "state": {
       "layout": "IPY_MODEL_92432b0ec8224105834427bf97081da0",
       "outputs": [
        {
         "data": {
          "text/plain": "[1620                                      Bank of England policymakers warn UK economy facing bigger risks\n 1619                                   UK economy might take years to recover from COVID hit-BoE's Vlieghe\n 1717                                                       Bank of England gears up for next stimulus push\n 1526                             Britons a bit more upbeat on finances but worried about economy, GfK says\n 1654                                      UK economy extends recovery from COVID crash, growth seen fading\n 305                          UK's Sunak considers sweeping tax hikes to plug COVID-19 hole, newspapers say\n 1509                                             UK economy rebounding for now, as public borrowing mounts\n 1671                       Exclusive: BOJ to offer brighter view on economy as COVID crisis eases: sources\n 1426                                   Britain plans hiring spree to harness big data in pandemic recovery\n 1713                                  British business calls for green recovery, policies to meet net zero\n 1701                              BOJ holds fire, offers brighter view of economy as pandemic impact eases\n 1649                                                          UK economy extends recovery from COVID crash\n 1658                                                   ECB must keep up support for the economy - Villeroy\n 1634                                    Japan's second-quarter capex falls most in decade on pandemic blow\n 1688    German economic recovery to continue in second-half, third-quarter to show strong growth: ministry\n 1691                        German economic recovery to continue in H2, Q3 to show strong growth: ministry\n 1552                                 French central banker says any 2020 GDP forecast revision would be up\n 1613                               India's recovery to take time after economy shrinks 24% in June quarter\n 1202                                                  UK plans to drop 'Facebook tax', Mail on Sunday says\n 255                                 UK says always reviewing quarantine data, no comment on Portugal shift\n Name: title, dtype: object,\n 1620                                https://www.reuters.com/article/britain-boe-idUSL9N2ER032\n 1619                      https://in.reuters.com/article/us-britain-boe-vlieghe-idINKBN25T261\n 1717                             https://www.reuters.com/article/us-britain-boe-idUSKBN2673NS\n 1526          https://www.reuters.com/article/britain-economy-consumersentiment-idUSL8N2FM2YN\n 1654         https://www.reuters.com/article/health-coronavirus-britain-economy-idINKBN2620MS\n 305               https://in.reuters.com/article/health-coronavirus-britain-tax-idINL8N2FW03T\n 1509          https://www.reuters.com/article/healthcoronavirus-britain-economy-idUSL8N2FN2UX\n 1671                          https://www.reuters.com/article/japan-economy-boj-idUSL4N2G714U\n 1426                    https://uk.reuters.com/article/uk-britain-politics-data-idUKKBN25Z3CD\n 1713                  https://www.reuters.com/article/us-climate-change-britain-idUSKBN26410M\n 1701                 https://www.reuters.com/article/japan-economy-boj-decision-idUSKBN268090\n 1649                                          https://www.reuters.com/video/watch/idOVCV929AJ\n 1658                      https://uk.reuters.com/article/uk-ecb-policy-villeroy-idUKKBN2612WC\n 1634                      https://in.reuters.com/article/us-japan-economy-capex-idINKBN25S35N\n 1688                         https://www.reuters.com/article/us-germany-economy-idUKKBN2650ZK\n 1691                         https://www.reuters.com/article/us-germany-economy-idUSKBN2650ZK\n 1552                 https://www.reuters.com/article/us-france-economy-villeroy-idUSKBN25N2RE\n 1613                       https://www.reuters.com/article/us-india-economy-gdp-idUSKBN25R1MT\n 1202                         https://www.reuters.com/article/us-britain-usa-tax-idUSKBN25J09E\n 255     https://in.reuters.com/article/health-coronavirus-portugal-britain-quar-idINL8N2FY3VF\n Name: link, dtype: object]"
         },
         "metadata": {},
         "output_type": "display_data"
        }
       ]
      }
     },
     "09a68011a31b41c29d802f14cda24f2c": {
      "model_module": "@jupyter-widgets/base",
      "model_module_version": "1.2.0",
      "model_name": "LayoutModel",
      "state": {}
     },
     "0aa288af940e4d67b4d1e91fb355f21e": {
      "model_module": "@jupyter-widgets/controls",
      "model_module_version": "1.5.0",
      "model_name": "ButtonStyleModel",
      "state": {}
     },
     "0d544d8edefd42d687e012b79a3a05af": {
      "model_module": "@jupyter-widgets/controls",
      "model_module_version": "1.5.0",
      "model_name": "TextModel",
      "state": {
       "description": "enter title",
       "layout": "IPY_MODEL_4029cb356cfc4191826110698c58ff63",
       "style": "IPY_MODEL_c80779ca61cd47848276c453e0fab16e",
       "value": "Bank of England policymakers warn of bigger risks for UK economy"
      }
     },
     "103c8dcc3d6249a6a53f64e657fedda2": {
      "model_module": "@jupyter-widgets/base",
      "model_module_version": "1.2.0",
      "model_name": "LayoutModel",
      "state": {}
     },
     "10dca6ff85a049cebe362a9a1e6ecedc": {
      "model_module": "@jupyter-widgets/base",
      "model_module_version": "1.2.0",
      "model_name": "LayoutModel",
      "state": {}
     },
     "16552558e44541a9a1712b30c853b3f7": {
      "model_module": "@jupyter-widgets/controls",
      "model_module_version": "1.5.0",
      "model_name": "VBoxModel",
      "state": {
       "_dom_classes": [
        "widget-interact"
       ],
       "children": [
        "IPY_MODEL_53b51b25825e43f68335dd80740b52ff",
        "IPY_MODEL_aac54c899e844f17928abbe593da3acf",
        "IPY_MODEL_365a03b32e8343a1a653e91285a28d4e"
       ],
       "layout": "IPY_MODEL_4e4be52a288c4144af4c50315c848a16"
      }
     },
     "171111dd8dbf4f0892c7cc024a7b7a9e": {
      "model_module": "@jupyter-widgets/controls",
      "model_module_version": "1.5.0",
      "model_name": "TextModel",
      "state": {
       "description": "enter title",
       "layout": "IPY_MODEL_05851f0cffec45e6b44059e739affef8",
       "style": "IPY_MODEL_d0d720265dad4e3dbade49e1f1b7154c",
       "value": "Bank of England policymakers warn of bigger risks for UK economy"
      }
     },
     "1721e4382d264b5e92ba0209bb6c7bdb": {
      "model_module": "@jupyter-widgets/base",
      "model_module_version": "1.2.0",
      "model_name": "LayoutModel",
      "state": {}
     },
     "1748829b54e0453f9504b23aa57c14e5": {
      "model_module": "@jupyter-widgets/controls",
      "model_module_version": "1.5.0",
      "model_name": "DescriptionStyleModel",
      "state": {
       "description_width": ""
      }
     },
     "1b56d6711d98499cba653091d5e19fb4": {
      "model_module": "@jupyter-widgets/controls",
      "model_module_version": "1.5.0",
      "model_name": "ButtonModel",
      "state": {
       "description": "find recommendations",
       "layout": "IPY_MODEL_32c3f27fdd854ae782be48b831e166bb",
       "style": "IPY_MODEL_2eb94b42331f4058bc1a3577dc9228b7"
      }
     },
     "20af0df2a80542ad8c80c98832bc8abd": {
      "model_module": "@jupyter-widgets/output",
      "model_module_version": "1.0.0",
      "model_name": "OutputModel",
      "state": {
       "layout": "IPY_MODEL_10dca6ff85a049cebe362a9a1e6ecedc"
      }
     },
     "232034246eba462d848cd9dbc4039be3": {
      "model_module": "@jupyter-widgets/base",
      "model_module_version": "1.2.0",
      "model_name": "LayoutModel",
      "state": {
       "height": "100%"
      }
     },
     "23791be7df8446c0a771ac2dbfc75f4a": {
      "model_module": "@jupyter-widgets/controls",
      "model_module_version": "1.5.0",
      "model_name": "TextModel",
      "state": {
       "description": "enter title",
       "layout": "IPY_MODEL_4fec6ef2cfb7487391ef19275327d34a",
       "style": "IPY_MODEL_591b26b1ed52439eb32b4729e119ff6f"
      }
     },
     "28767f4f6d1640ca9b901ed6ef3e6386": {
      "model_module": "@jupyter-widgets/base",
      "model_module_version": "1.2.0",
      "model_name": "LayoutModel",
      "state": {}
     },
     "2977811f3a2447f4a01bfa60ad93ad15": {
      "model_module": "@jupyter-widgets/base",
      "model_module_version": "1.2.0",
      "model_name": "LayoutModel",
      "state": {
       "width": "500px"
      }
     },
     "2c4d0483839b4b1c847109904922bf72": {
      "model_module": "@jupyter-widgets/controls",
      "model_module_version": "1.5.0",
      "model_name": "TextModel",
      "state": {
       "description": "enter title",
       "layout": "IPY_MODEL_5e939e20c4264ee289e2ca130dc291f2",
       "style": "IPY_MODEL_1748829b54e0453f9504b23aa57c14e5",
       "value": "UK economy extends recovery from COVID crash"
      }
     },
     "2eb94b42331f4058bc1a3577dc9228b7": {
      "model_module": "@jupyter-widgets/controls",
      "model_module_version": "1.5.0",
      "model_name": "ButtonStyleModel",
      "state": {}
     },
     "30348178b7054d3fbdc4a17528a52adb": {
      "model_module": "@jupyter-widgets/base",
      "model_module_version": "1.2.0",
      "model_name": "LayoutModel",
      "state": {}
     },
     "32134ce9e78449afa0b3e500b962389b": {
      "model_module": "@jupyter-widgets/controls",
      "model_module_version": "1.5.0",
      "model_name": "VBoxModel",
      "state": {
       "_dom_classes": [
        "widget-interact"
       ],
       "children": [
        "IPY_MODEL_cca04ccafe9d465ba38ca6ac845946bc",
        "IPY_MODEL_5164f202f5e2407693b84e76d8e604b5",
        "IPY_MODEL_af37c42216f14b85a42490cc52071cb5"
       ],
       "layout": "IPY_MODEL_36b3717a722f42dca4ac230cb625f1c7"
      }
     },
     "3224969be9184deb82fadf78224e1bb8": {
      "model_module": "@jupyter-widgets/base",
      "model_module_version": "1.2.0",
      "model_name": "LayoutModel",
      "state": {}
     },
     "32c3f27fdd854ae782be48b831e166bb": {
      "model_module": "@jupyter-widgets/base",
      "model_module_version": "1.2.0",
      "model_name": "LayoutModel",
      "state": {}
     },
     "333b325c45b84c5a887364cba374ec79": {
      "model_module": "@jupyter-widgets/controls",
      "model_module_version": "1.5.0",
      "model_name": "VBoxModel",
      "state": {
       "_dom_classes": [
        "widget-interact"
       ],
       "children": [
        "IPY_MODEL_2c4d0483839b4b1c847109904922bf72",
        "IPY_MODEL_0708cefbe622451fa46a962408be7492",
        "IPY_MODEL_cde657db37fb4dd3ade0325e8fbeb4b5"
       ],
       "layout": "IPY_MODEL_5a1cf768cbf64ef09088ab5b9dba0325"
      }
     },
     "35689ae3e92a44d08c2ebdac94c3249d": {
      "model_module": "@jupyter-widgets/controls",
      "model_module_version": "1.5.0",
      "model_name": "VBoxModel",
      "state": {
       "_dom_classes": [
        "widget-interact"
       ],
       "children": [
        "IPY_MODEL_fdbb88861d18426988489ead831bc6e1",
        "IPY_MODEL_9190e360f04741aebc0dd926be5649fd",
        "IPY_MODEL_f41fdda0b6ce471884ac05683e7c925b"
       ],
       "layout": "IPY_MODEL_76a58ba950f04b7984a951d52eff4fd5"
      }
     },
     "365a03b32e8343a1a653e91285a28d4e": {
      "model_module": "@jupyter-widgets/output",
      "model_module_version": "1.0.0",
      "model_name": "OutputModel",
      "state": {
       "layout": "IPY_MODEL_bbfd40e42d7d4cc0b5951f7d7927d7f8",
       "outputs": [
        {
         "data": {
          "text/plain": "[1654                                        UK economy extends recovery from COVID crash, growth seen fading\n 1704                             New COVID-19 wave must be prevented to support German economy: stats office\n 807                             Businesses working with slavery survivors in India seek ways to offset COVID\n 1619                                     UK economy might take years to recover from COVID hit-BoE's Vlieghe\n 1509                                               UK economy rebounding for now, as public borrowing mounts\n 1570                                        India coronavirus cases cross 3 million mark as economy opens up\n 1543                                  Spain's economy is already recovering from pandemic hit, minister says\n 1372                                                                           Stocks drop in choppy session\n 255                                   UK says always reviewing quarantine data, no comment on Portugal shift\n 700                                                 New York’s Reopened Museums: Where to Go and What to See\n 1554                                           German business morale brightens more than expected in August\n 1318                                                 Uber extends mask selfie verification feature to riders\n 512                                                                                 Is New York City ‘Over’?\n 757                      Trump's HHS Goons Smear CDC as 'Deep State,' Routinely Meddle with Covid-19 Reports\n 306                   U.S. consumer confidence at six-year low; underscores concerns about economic recovery\n 294                                         Australia's Woolworths says virus hits pubs, boosts supermarkets\n 1302                                         U.S. extends some China tariff exclusions only through year end\n 157                                UPDATE 2-TJX forecasts current-quarter comparable sales to drop up to 20%\n 207     Drinking bans are back in fashion during the Covid pandemic. But experts are wary of Prohibition 2.0\n 1228                                                           UPDATE 1-UK Stocks-Factors to watch on Aug 24\n Name: title, dtype: object,\n 1654                    https://www.reuters.com/article/health-coronavirus-britain-economy-idINKBN2620MS\n 1704                 https://www.reuters.com/article/us-health-coronavirus-germany-economy-idINKBN26613C\n 807                https://www.reuters.com/article/us-health-coronavirus-india-trafficking-idUSKCN25E1R7\n 1619                                 https://in.reuters.com/article/us-britain-boe-vlieghe-idINKBN25T261\n 1509                     https://www.reuters.com/article/healthcoronavirus-britain-economy-idUSL8N2FN2UX\n 1570                           https://www.reuters.com/article/us-health-coronavirus-india-idUSKBN25J0E4\n 1543                                         https://www.reuters.com/article/spain-economy-idUSE8N2BG019\n 1372                                                      https://uk.reuters.com/video/watch/idOVCUA40AZ\n 255                https://in.reuters.com/article/health-coronavirus-portugal-britain-quar-idINL8N2FY3VF\n 700              https://www.nytimes.com/2020/09/10/arts/design/new-york-museums-reopen-coronavirus.html\n 1554                                   https://www.reuters.com/article/germany-economy-ifo-idUSS8N27Z072\n 1318                             https://in.reuters.com/article/us-health-coronavirus-uber-idINKBN25S4Z5\n 512                           https://www.nytimes.com/2020/08/25/nyregion/nyc-coronavirus-reopening.html\n 757                https://gizmodo.com/trumps-hhs-goons-smear-cdc-as-deep-state-routinely-med-1845037621\n 306                                  https://in.reuters.com/article/us-usa-economy-housing-idINKBN25L1SC\n 294                                  https://in.reuters.com/article/woolworths-grp-results-idINL4N2FS4ER\n 1302                            https://www.reuters.com/article/us-usa-trade-china-tariffs-idUSKBN25S5CT\n 157                                             https://in.reuters.com/article/tjx-results-idINL4N2FL2UR\n 207     https://www.cnn.com/2020/08/31/health/drinking-bans-alcohol-coronavirus-wellness-intl/index.html\n 1228                                 https://uk.reuters.com/article/britain-stocks-factors-idUKL4N2FQ1KP\n Name: link, dtype: object]"
         },
         "metadata": {},
         "output_type": "display_data"
        }
       ]
      }
     },
     "36b3717a722f42dca4ac230cb625f1c7": {
      "model_module": "@jupyter-widgets/base",
      "model_module_version": "1.2.0",
      "model_name": "LayoutModel",
      "state": {}
     },
     "38dd95f0a4a34bc6965b16fc80e4dae3": {
      "model_module": "@jupyter-widgets/controls",
      "model_module_version": "1.5.0",
      "model_name": "ButtonStyleModel",
      "state": {}
     },
     "39cfd5e2356b4817bd08390aec694c01": {
      "model_module": "@jupyter-widgets/controls",
      "model_module_version": "1.5.0",
      "model_name": "TextareaModel",
      "state": {
       "layout": "IPY_MODEL_232034246eba462d848cd9dbc4039be3",
       "style": "IPY_MODEL_a3bbaa23ffd84c6794d9998df6601642"
      }
     },
     "3a2f3bb3967943798456645305b1cc4d": {
      "model_module": "@jupyter-widgets/base",
      "model_module_version": "1.2.0",
      "model_name": "LayoutModel",
      "state": {}
     },
     "3a7dfb3d3c4b45b8a3c37e4157faa089": {
      "model_module": "@jupyter-widgets/base",
      "model_module_version": "1.2.0",
      "model_name": "LayoutModel",
      "state": {}
     },
     "3bcd19e44f674924809ce75be59c947c": {
      "model_module": "@jupyter-widgets/base",
      "model_module_version": "1.2.0",
      "model_name": "LayoutModel",
      "state": {}
     },
     "3e1fcdb6702a41b2a36b2897050d15c6": {
      "model_module": "@jupyter-widgets/controls",
      "model_module_version": "1.5.0",
      "model_name": "DescriptionStyleModel",
      "state": {
       "description_width": ""
      }
     },
     "4029cb356cfc4191826110698c58ff63": {
      "model_module": "@jupyter-widgets/base",
      "model_module_version": "1.2.0",
      "model_name": "LayoutModel",
      "state": {}
     },
     "405716ed358849678722c806db46dcb9": {
      "model_module": "@jupyter-widgets/base",
      "model_module_version": "1.2.0",
      "model_name": "LayoutModel",
      "state": {}
     },
     "44242da09e504d5fa20e9c2d3ec06c7b": {
      "model_module": "@jupyter-widgets/controls",
      "model_module_version": "1.5.0",
      "model_name": "ButtonStyleModel",
      "state": {}
     },
     "44be4005712c4bd7b7be922e1ca08d2d": {
      "model_module": "@jupyter-widgets/controls",
      "model_module_version": "1.5.0",
      "model_name": "VBoxModel",
      "state": {
       "_dom_classes": [
        "widget-interact"
       ],
       "children": [
        "IPY_MODEL_b91a9eb026c94dd3b4d5c7a25212fff1",
        "IPY_MODEL_6e07d0a456084a88b6cfdbfa2f574bd0",
        "IPY_MODEL_9e06072c2c6646b0a759d34ab91aa936"
       ],
       "layout": "IPY_MODEL_0790726e654a420e8e9c055964511111"
      }
     },
     "45a1d46c2192427285b036939c90a234": {
      "model_module": "@jupyter-widgets/base",
      "model_module_version": "1.2.0",
      "model_name": "LayoutModel",
      "state": {}
     },
     "46acf3d09fb943a58a5584adfdbd274d": {
      "model_module": "@jupyter-widgets/base",
      "model_module_version": "1.2.0",
      "model_name": "LayoutModel",
      "state": {}
     },
     "49b67fd43a8b4b8c9df73b906f0ea075": {
      "model_module": "@jupyter-widgets/base",
      "model_module_version": "1.2.0",
      "model_name": "LayoutModel",
      "state": {}
     },
     "4a6fec815f5e451c9b870e313d9df06b": {
      "model_module": "@jupyter-widgets/controls",
      "model_module_version": "1.5.0",
      "model_name": "ButtonStyleModel",
      "state": {}
     },
     "4b88e4a968834914b78c0e12adb54238": {
      "model_module": "@jupyter-widgets/controls",
      "model_module_version": "1.5.0",
      "model_name": "ButtonStyleModel",
      "state": {}
     },
     "4c5a38782bb540028250def2b3f5ebc4": {
      "model_module": "@jupyter-widgets/controls",
      "model_module_version": "1.5.0",
      "model_name": "ButtonStyleModel",
      "state": {}
     },
     "4c699f47f18b4d8ba51a4ac6130d1442": {
      "model_module": "@jupyter-widgets/base",
      "model_module_version": "1.2.0",
      "model_name": "LayoutModel",
      "state": {}
     },
     "4e4be52a288c4144af4c50315c848a16": {
      "model_module": "@jupyter-widgets/base",
      "model_module_version": "1.2.0",
      "model_name": "LayoutModel",
      "state": {}
     },
     "4fec6ef2cfb7487391ef19275327d34a": {
      "model_module": "@jupyter-widgets/base",
      "model_module_version": "1.2.0",
      "model_name": "LayoutModel",
      "state": {}
     },
     "4ff286663501419bb1ab160d7d408395": {
      "model_module": "@jupyter-widgets/base",
      "model_module_version": "1.2.0",
      "model_name": "LayoutModel",
      "state": {}
     },
     "5164f202f5e2407693b84e76d8e604b5": {
      "model_module": "@jupyter-widgets/controls",
      "model_module_version": "1.5.0",
      "model_name": "ButtonModel",
      "state": {
       "description": "find recommendations",
       "layout": "IPY_MODEL_c5df6985a739498caf80b9fcab59aa69",
       "style": "IPY_MODEL_4a6fec815f5e451c9b870e313d9df06b"
      }
     },
     "527c26bb274e4649b20a6c6d97f1b474": {
      "model_module": "@jupyter-widgets/controls",
      "model_module_version": "1.5.0",
      "model_name": "ButtonModel",
      "state": {
       "description": "find recommendations",
       "layout": "IPY_MODEL_3a7dfb3d3c4b45b8a3c37e4157faa089",
       "style": "IPY_MODEL_4c5a38782bb540028250def2b3f5ebc4"
      }
     },
     "52b2b1d65aba4ec48ab931c2cf9075f8": {
      "model_module": "@jupyter-widgets/controls",
      "model_module_version": "1.5.0",
      "model_name": "VBoxModel",
      "state": {
       "_dom_classes": [
        "widget-interact"
       ],
       "children": [
        "IPY_MODEL_810db8e1d3874d44849116c18f9a8ef0",
        "IPY_MODEL_f1e7a6d1b8634ab6a29b7fc45325346a",
        "IPY_MODEL_e6df169590ee42c390ed20a58b4291ed"
       ],
       "layout": "IPY_MODEL_6237cbb76c20407b9c55166c36f95d91"
      }
     },
     "53b51b25825e43f68335dd80740b52ff": {
      "model_module": "@jupyter-widgets/controls",
      "model_module_version": "1.5.0",
      "model_name": "TextModel",
      "state": {
       "description": "enter title",
       "layout": "IPY_MODEL_99a80b5dbefc4c4fac61ac957d5c5d9c",
       "style": "IPY_MODEL_5687c1980c5a410da460700d01b2f149",
       "value": "UK economy extends recovery from COVID crash"
      }
     },
     "5687c1980c5a410da460700d01b2f149": {
      "model_module": "@jupyter-widgets/controls",
      "model_module_version": "1.5.0",
      "model_name": "DescriptionStyleModel",
      "state": {
       "description_width": ""
      }
     },
     "57fe2fc5834b4388880857c667715347": {
      "model_module": "@jupyter-widgets/output",
      "model_module_version": "1.0.0",
      "model_name": "OutputModel",
      "state": {
       "layout": "IPY_MODEL_1721e4382d264b5e92ba0209bb6c7bdb",
       "outputs": [
        {
         "data": {
          "text/plain": "[1620                                      Bank of England policymakers warn UK economy facing bigger risks\n 1619                                   UK economy might take years to recover from COVID hit-BoE's Vlieghe\n 1717                                                       Bank of England gears up for next stimulus push\n 1526                             Britons a bit more upbeat on finances but worried about economy, GfK says\n 1654                                      UK economy extends recovery from COVID crash, growth seen fading\n 305                          UK's Sunak considers sweeping tax hikes to plug COVID-19 hole, newspapers say\n 1509                                             UK economy rebounding for now, as public borrowing mounts\n 1671                       Exclusive: BOJ to offer brighter view on economy as COVID crisis eases: sources\n 1426                                   Britain plans hiring spree to harness big data in pandemic recovery\n 1713                                  British business calls for green recovery, policies to meet net zero\n 1701                              BOJ holds fire, offers brighter view of economy as pandemic impact eases\n 1649                                                          UK economy extends recovery from COVID crash\n 1658                                                   ECB must keep up support for the economy - Villeroy\n 1634                                    Japan's second-quarter capex falls most in decade on pandemic blow\n 1688    German economic recovery to continue in second-half, third-quarter to show strong growth: ministry\n 1691                        German economic recovery to continue in H2, Q3 to show strong growth: ministry\n 1552                                 French central banker says any 2020 GDP forecast revision would be up\n 1613                               India's recovery to take time after economy shrinks 24% in June quarter\n 1202                                                  UK plans to drop 'Facebook tax', Mail on Sunday says\n 255                                 UK says always reviewing quarantine data, no comment on Portugal shift\n Name: title, dtype: object,\n 1620                                https://www.reuters.com/article/britain-boe-idUSL9N2ER032\n 1619                      https://in.reuters.com/article/us-britain-boe-vlieghe-idINKBN25T261\n 1717                             https://www.reuters.com/article/us-britain-boe-idUSKBN2673NS\n 1526          https://www.reuters.com/article/britain-economy-consumersentiment-idUSL8N2FM2YN\n 1654         https://www.reuters.com/article/health-coronavirus-britain-economy-idINKBN2620MS\n 305               https://in.reuters.com/article/health-coronavirus-britain-tax-idINL8N2FW03T\n 1509          https://www.reuters.com/article/healthcoronavirus-britain-economy-idUSL8N2FN2UX\n 1671                          https://www.reuters.com/article/japan-economy-boj-idUSL4N2G714U\n 1426                    https://uk.reuters.com/article/uk-britain-politics-data-idUKKBN25Z3CD\n 1713                  https://www.reuters.com/article/us-climate-change-britain-idUSKBN26410M\n 1701                 https://www.reuters.com/article/japan-economy-boj-decision-idUSKBN268090\n 1649                                          https://www.reuters.com/video/watch/idOVCV929AJ\n 1658                      https://uk.reuters.com/article/uk-ecb-policy-villeroy-idUKKBN2612WC\n 1634                      https://in.reuters.com/article/us-japan-economy-capex-idINKBN25S35N\n 1688                         https://www.reuters.com/article/us-germany-economy-idUKKBN2650ZK\n 1691                         https://www.reuters.com/article/us-germany-economy-idUSKBN2650ZK\n 1552                 https://www.reuters.com/article/us-france-economy-villeroy-idUSKBN25N2RE\n 1613                       https://www.reuters.com/article/us-india-economy-gdp-idUSKBN25R1MT\n 1202                         https://www.reuters.com/article/us-britain-usa-tax-idUSKBN25J09E\n 255     https://in.reuters.com/article/health-coronavirus-portugal-britain-quar-idINL8N2FY3VF\n Name: link, dtype: object]"
         },
         "metadata": {},
         "output_type": "display_data"
        }
       ]
      }
     },
     "591b26b1ed52439eb32b4729e119ff6f": {
      "model_module": "@jupyter-widgets/controls",
      "model_module_version": "1.5.0",
      "model_name": "DescriptionStyleModel",
      "state": {
       "description_width": ""
      }
     },
     "5a1cf768cbf64ef09088ab5b9dba0325": {
      "model_module": "@jupyter-widgets/base",
      "model_module_version": "1.2.0",
      "model_name": "LayoutModel",
      "state": {}
     },
     "5acd470eadf84d8d9f511f5185bfcd7a": {
      "model_module": "@jupyter-widgets/controls",
      "model_module_version": "1.5.0",
      "model_name": "ButtonModel",
      "state": {
       "description": "find recommendations",
       "layout": "IPY_MODEL_4c699f47f18b4d8ba51a4ac6130d1442",
       "style": "IPY_MODEL_c6ce7d6e70ee4f238e1a1ff4453e1dd1"
      }
     },
     "5c9c7f1a34ea4a1ca6b0d9e410d4a451": {
      "model_module": "@jupyter-widgets/controls",
      "model_module_version": "1.5.0",
      "model_name": "DescriptionStyleModel",
      "state": {
       "description_width": ""
      }
     },
     "5e939e20c4264ee289e2ca130dc291f2": {
      "model_module": "@jupyter-widgets/base",
      "model_module_version": "1.2.0",
      "model_name": "LayoutModel",
      "state": {}
     },
     "5f65023e60e64d089145bab148e796a0": {
      "model_module": "@jupyter-widgets/controls",
      "model_module_version": "1.5.0",
      "model_name": "ButtonStyleModel",
      "state": {}
     },
     "5fcb72b608a04986bb9d37e61511fb57": {
      "model_module": "@jupyter-widgets/controls",
      "model_module_version": "1.5.0",
      "model_name": "ButtonStyleModel",
      "state": {}
     },
     "60ad6926b57f4951893eb86c30831291": {
      "model_module": "@jupyter-widgets/controls",
      "model_module_version": "1.5.0",
      "model_name": "ButtonStyleModel",
      "state": {}
     },
     "60b43d97c28f4638b221dd325dde09c1": {
      "model_module": "@jupyter-widgets/base",
      "model_module_version": "1.2.0",
      "model_name": "LayoutModel",
      "state": {}
     },
     "6237cbb76c20407b9c55166c36f95d91": {
      "model_module": "@jupyter-widgets/base",
      "model_module_version": "1.2.0",
      "model_name": "LayoutModel",
      "state": {}
     },
     "6355cb91d9524e9ca55639c5879af2e8": {
      "model_module": "@jupyter-widgets/controls",
      "model_module_version": "1.5.0",
      "model_name": "VBoxModel",
      "state": {
       "_dom_classes": [
        "widget-interact"
       ],
       "children": [
        "IPY_MODEL_b393f7cc0b6c487da89ac238aa5ae401",
        "IPY_MODEL_5acd470eadf84d8d9f511f5185bfcd7a",
        "IPY_MODEL_20af0df2a80542ad8c80c98832bc8abd"
       ],
       "layout": "IPY_MODEL_b26cb73f68d54b2cbc3ec820b23b12a8"
      }
     },
     "6b4010eb2a4f47919b01681ea43342ad": {
      "model_module": "@jupyter-widgets/controls",
      "model_module_version": "1.5.0",
      "model_name": "VBoxModel",
      "state": {
       "_dom_classes": [
        "widget-interact"
       ],
       "children": [
        "IPY_MODEL_171111dd8dbf4f0892c7cc024a7b7a9e",
        "IPY_MODEL_7fe2ca4388c64577909599ea60bb6aea",
        "IPY_MODEL_080cd6c052334135826844b918f2122a"
       ],
       "layout": "IPY_MODEL_a707d7372fdf4a39b6a17ad467b3990a"
      }
     },
     "6b5875764d984bb79ed43e7422aee806": {
      "model_module": "@jupyter-widgets/base",
      "model_module_version": "1.2.0",
      "model_name": "LayoutModel",
      "state": {}
     },
     "6d2dde9259a14a4faa81ce1239d480f2": {
      "model_module": "@jupyter-widgets/base",
      "model_module_version": "1.2.0",
      "model_name": "LayoutModel",
      "state": {}
     },
     "6e07d0a456084a88b6cfdbfa2f574bd0": {
      "model_module": "@jupyter-widgets/controls",
      "model_module_version": "1.5.0",
      "model_name": "ButtonModel",
      "state": {
       "description": "find recommendations",
       "layout": "IPY_MODEL_45a1d46c2192427285b036939c90a234",
       "style": "IPY_MODEL_5fcb72b608a04986bb9d37e61511fb57"
      }
     },
     "7097c50d2e1f4ee885a8a43499737408": {
      "model_module": "@jupyter-widgets/controls",
      "model_module_version": "1.5.0",
      "model_name": "ButtonModel",
      "state": {
       "description": "find recommendations",
       "layout": "IPY_MODEL_c9f7f1be0a3a48b8887ae3f1de50212d",
       "style": "IPY_MODEL_4b88e4a968834914b78c0e12adb54238"
      }
     },
     "71284a42bca14e22a92f47339d9f8f74": {
      "model_module": "@jupyter-widgets/base",
      "model_module_version": "1.2.0",
      "model_name": "LayoutModel",
      "state": {}
     },
     "72b7d00e891b44669b636b8d1a3df412": {
      "model_module": "@jupyter-widgets/controls",
      "model_module_version": "1.5.0",
      "model_name": "ButtonStyleModel",
      "state": {}
     },
     "733c15e5625c40d0959e1bfb7cbb27d1": {
      "model_module": "@jupyter-widgets/controls",
      "model_module_version": "1.5.0",
      "model_name": "ButtonStyleModel",
      "state": {}
     },
     "7605241e5a5c4195bc9924f5af82e862": {
      "model_module": "@jupyter-widgets/controls",
      "model_module_version": "1.5.0",
      "model_name": "DescriptionStyleModel",
      "state": {
       "description_width": ""
      }
     },
     "76a58ba950f04b7984a951d52eff4fd5": {
      "model_module": "@jupyter-widgets/base",
      "model_module_version": "1.2.0",
      "model_name": "LayoutModel",
      "state": {}
     },
     "78081dc900fc47fcbef6d12d5e17aee2": {
      "model_module": "@jupyter-widgets/base",
      "model_module_version": "1.2.0",
      "model_name": "LayoutModel",
      "state": {}
     },
     "7e1b66ca59764cfc99f86e26fc7f7104": {
      "model_module": "@jupyter-widgets/base",
      "model_module_version": "1.2.0",
      "model_name": "LayoutModel",
      "state": {}
     },
     "7e236f4fbdc54976ad6cfc7f4cce5874": {
      "model_module": "@jupyter-widgets/controls",
      "model_module_version": "1.5.0",
      "model_name": "VBoxModel",
      "state": {
       "children": [
        "IPY_MODEL_39cfd5e2356b4817bd08390aec694c01"
       ],
       "layout": "IPY_MODEL_910bf9f5a15045f49321ae8fb7371605"
      }
     },
     "7f96fbbb7a2743c3b491355ef7570d4d": {
      "model_module": "@jupyter-widgets/controls",
      "model_module_version": "1.5.0",
      "model_name": "DescriptionStyleModel",
      "state": {
       "description_width": ""
      }
     },
     "7fe2ca4388c64577909599ea60bb6aea": {
      "model_module": "@jupyter-widgets/controls",
      "model_module_version": "1.5.0",
      "model_name": "ButtonModel",
      "state": {
       "description": "find recommendations",
       "layout": "IPY_MODEL_6d2dde9259a14a4faa81ce1239d480f2",
       "style": "IPY_MODEL_5f65023e60e64d089145bab148e796a0"
      }
     },
     "80e0cc603e764e28b8293efb2cf9297e": {
      "model_module": "@jupyter-widgets/controls",
      "model_module_version": "1.5.0",
      "model_name": "TextModel",
      "state": {
       "description": "enter title",
       "layout": "IPY_MODEL_6b5875764d984bb79ed43e7422aee806",
       "style": "IPY_MODEL_e53d4d2f69e043e3b9e99900af3e511d"
      }
     },
     "810db8e1d3874d44849116c18f9a8ef0": {
      "model_module": "@jupyter-widgets/controls",
      "model_module_version": "1.5.0",
      "model_name": "TextModel",
      "state": {
       "description": "enter title",
       "layout": "IPY_MODEL_3a2f3bb3967943798456645305b1cc4d",
       "style": "IPY_MODEL_dbbfb3aa1a2f4881ab428c21103cbd84"
      }
     },
     "8505d4056e72452188f000c2f0dc690f": {
      "model_module": "@jupyter-widgets/base",
      "model_module_version": "1.2.0",
      "model_name": "LayoutModel",
      "state": {}
     },
     "868d521edb6449c9a0ebc3dab8228ab4": {
      "model_module": "@jupyter-widgets/base",
      "model_module_version": "1.2.0",
      "model_name": "LayoutModel",
      "state": {}
     },
     "875b0515d9b44feea0a36a06da988a38": {
      "model_module": "@jupyter-widgets/base",
      "model_module_version": "1.2.0",
      "model_name": "LayoutModel",
      "state": {
       "width": "500"
      }
     },
     "8bc181866aab4ac7b2567f1992bf1728": {
      "model_module": "@jupyter-widgets/controls",
      "model_module_version": "1.5.0",
      "model_name": "TextareaModel",
      "state": {
       "layout": "IPY_MODEL_e0cce7b8a4fa450da20f21925a79324f",
       "style": "IPY_MODEL_a3a6141dcd7440789216f3bba912bf33"
      }
     },
     "8f4d8672ea2e43329710a1e2dd41c199": {
      "model_module": "@jupyter-widgets/controls",
      "model_module_version": "1.5.0",
      "model_name": "DescriptionStyleModel",
      "state": {
       "description_width": ""
      }
     },
     "910bf9f5a15045f49321ae8fb7371605": {
      "model_module": "@jupyter-widgets/base",
      "model_module_version": "1.2.0",
      "model_name": "LayoutModel",
      "state": {
       "height": "500px"
      }
     },
     "9190e360f04741aebc0dd926be5649fd": {
      "model_module": "@jupyter-widgets/controls",
      "model_module_version": "1.5.0",
      "model_name": "ButtonModel",
      "state": {
       "description": "find recommendations",
       "layout": "IPY_MODEL_28767f4f6d1640ca9b901ed6ef3e6386",
       "style": "IPY_MODEL_60ad6926b57f4951893eb86c30831291"
      }
     },
     "92432b0ec8224105834427bf97081da0": {
      "model_module": "@jupyter-widgets/base",
      "model_module_version": "1.2.0",
      "model_name": "LayoutModel",
      "state": {}
     },
     "942f16781eeb4e0c951537c343299dcd": {
      "model_module": "@jupyter-widgets/controls",
      "model_module_version": "1.5.0",
      "model_name": "ButtonModel",
      "state": {
       "description": "find recommendations",
       "layout": "IPY_MODEL_4ff286663501419bb1ab160d7d408395",
       "style": "IPY_MODEL_44242da09e504d5fa20e9c2d3ec06c7b"
      }
     },
     "97bf7b60c5b349f699eda2da3868f9b2": {
      "model_module": "@jupyter-widgets/controls",
      "model_module_version": "1.5.0",
      "model_name": "TextModel",
      "state": {
       "description": "enter title",
       "layout": "IPY_MODEL_8505d4056e72452188f000c2f0dc690f",
       "style": "IPY_MODEL_5c9c7f1a34ea4a1ca6b0d9e410d4a451",
       "value": "Bank of England policymakers warn of bigger risks for UK economy"
      }
     },
     "99a80b5dbefc4c4fac61ac957d5c5d9c": {
      "model_module": "@jupyter-widgets/base",
      "model_module_version": "1.2.0",
      "model_name": "LayoutModel",
      "state": {}
     },
     "9a550fbc82f94a04afbbdfebb0b504ef": {
      "model_module": "@jupyter-widgets/controls",
      "model_module_version": "1.5.0",
      "model_name": "DescriptionStyleModel",
      "state": {
       "description_width": ""
      }
     },
     "9dd292a229944095adc3b93868df6238": {
      "model_module": "@jupyter-widgets/controls",
      "model_module_version": "1.5.0",
      "model_name": "VBoxModel",
      "state": {
       "_dom_classes": [
        "widget-interact"
       ],
       "children": [
        "IPY_MODEL_23791be7df8446c0a771ac2dbfc75f4a",
        "IPY_MODEL_7097c50d2e1f4ee885a8a43499737408",
        "IPY_MODEL_b14473b1cf444ea78e39cb7f2900c0de"
       ],
       "layout": "IPY_MODEL_7e1b66ca59764cfc99f86e26fc7f7104"
      }
     },
     "9e06072c2c6646b0a759d34ab91aa936": {
      "model_module": "@jupyter-widgets/output",
      "model_module_version": "1.0.0",
      "model_name": "OutputModel",
      "state": {
       "layout": "IPY_MODEL_868d521edb6449c9a0ebc3dab8228ab4",
       "outputs": [
        {
         "data": {
          "text/plain": "[1620                                      Bank of England policymakers warn UK economy facing bigger risks\n 1619                                   UK economy might take years to recover from COVID hit-BoE's Vlieghe\n 1717                                                       Bank of England gears up for next stimulus push\n 1526                             Britons a bit more upbeat on finances but worried about economy, GfK says\n 1654                                      UK economy extends recovery from COVID crash, growth seen fading\n 305                          UK's Sunak considers sweeping tax hikes to plug COVID-19 hole, newspapers say\n 1509                                             UK economy rebounding for now, as public borrowing mounts\n 1671                       Exclusive: BOJ to offer brighter view on economy as COVID crisis eases: sources\n 1426                                   Britain plans hiring spree to harness big data in pandemic recovery\n 1713                                  British business calls for green recovery, policies to meet net zero\n 1701                              BOJ holds fire, offers brighter view of economy as pandemic impact eases\n 1649                                                          UK economy extends recovery from COVID crash\n 1658                                                   ECB must keep up support for the economy - Villeroy\n 1634                                    Japan's second-quarter capex falls most in decade on pandemic blow\n 1688    German economic recovery to continue in second-half, third-quarter to show strong growth: ministry\n 1691                        German economic recovery to continue in H2, Q3 to show strong growth: ministry\n 1552                                 French central banker says any 2020 GDP forecast revision would be up\n 1613                               India's recovery to take time after economy shrinks 24% in June quarter\n 1202                                                  UK plans to drop 'Facebook tax', Mail on Sunday says\n 255                                 UK says always reviewing quarantine data, no comment on Portugal shift\n Name: title, dtype: object,\n 1620                                https://www.reuters.com/article/britain-boe-idUSL9N2ER032\n 1619                      https://in.reuters.com/article/us-britain-boe-vlieghe-idINKBN25T261\n 1717                             https://www.reuters.com/article/us-britain-boe-idUSKBN2673NS\n 1526          https://www.reuters.com/article/britain-economy-consumersentiment-idUSL8N2FM2YN\n 1654         https://www.reuters.com/article/health-coronavirus-britain-economy-idINKBN2620MS\n 305               https://in.reuters.com/article/health-coronavirus-britain-tax-idINL8N2FW03T\n 1509          https://www.reuters.com/article/healthcoronavirus-britain-economy-idUSL8N2FN2UX\n 1671                          https://www.reuters.com/article/japan-economy-boj-idUSL4N2G714U\n 1426                    https://uk.reuters.com/article/uk-britain-politics-data-idUKKBN25Z3CD\n 1713                  https://www.reuters.com/article/us-climate-change-britain-idUSKBN26410M\n 1701                 https://www.reuters.com/article/japan-economy-boj-decision-idUSKBN268090\n 1649                                          https://www.reuters.com/video/watch/idOVCV929AJ\n 1658                      https://uk.reuters.com/article/uk-ecb-policy-villeroy-idUKKBN2612WC\n 1634                      https://in.reuters.com/article/us-japan-economy-capex-idINKBN25S35N\n 1688                         https://www.reuters.com/article/us-germany-economy-idUKKBN2650ZK\n 1691                         https://www.reuters.com/article/us-germany-economy-idUSKBN2650ZK\n 1552                 https://www.reuters.com/article/us-france-economy-villeroy-idUSKBN25N2RE\n 1613                       https://www.reuters.com/article/us-india-economy-gdp-idUSKBN25R1MT\n 1202                         https://www.reuters.com/article/us-britain-usa-tax-idUSKBN25J09E\n 255     https://in.reuters.com/article/health-coronavirus-portugal-britain-quar-idINL8N2FY3VF\n Name: link, dtype: object]"
         },
         "metadata": {},
         "output_type": "display_data"
        }
       ]
      }
     },
     "9f96708d12a14093b917dea34d7f035c": {
      "model_module": "@jupyter-widgets/controls",
      "model_module_version": "1.5.0",
      "model_name": "HBoxModel",
      "state": {
       "children": [
        "IPY_MODEL_d538e3e15b314a95a23d9e90011a9d36"
       ],
       "layout": "IPY_MODEL_2977811f3a2447f4a01bfa60ad93ad15"
      }
     },
     "a04f96cbd79b419b897c032b0aa724ca": {
      "model_module": "@jupyter-widgets/controls",
      "model_module_version": "1.5.0",
      "model_name": "VBoxModel",
      "state": {
       "_dom_classes": [
        "widget-interact"
       ],
       "children": [
        "IPY_MODEL_bdeae1d320b849e7a5cf5895c67b46ed",
        "IPY_MODEL_1b56d6711d98499cba653091d5e19fb4",
        "IPY_MODEL_bc56385a5418400bb469b4e6a5695f7b"
       ],
       "layout": "IPY_MODEL_a0e1b827c14c48ba90eea310ff8e7dd1"
      }
     },
     "a0e1b827c14c48ba90eea310ff8e7dd1": {
      "model_module": "@jupyter-widgets/base",
      "model_module_version": "1.2.0",
      "model_name": "LayoutModel",
      "state": {}
     },
     "a3a6141dcd7440789216f3bba912bf33": {
      "model_module": "@jupyter-widgets/controls",
      "model_module_version": "1.5.0",
      "model_name": "DescriptionStyleModel",
      "state": {
       "description_width": ""
      }
     },
     "a3bbaa23ffd84c6794d9998df6601642": {
      "model_module": "@jupyter-widgets/controls",
      "model_module_version": "1.5.0",
      "model_name": "DescriptionStyleModel",
      "state": {
       "description_width": ""
      }
     },
     "a707d7372fdf4a39b6a17ad467b3990a": {
      "model_module": "@jupyter-widgets/base",
      "model_module_version": "1.2.0",
      "model_name": "LayoutModel",
      "state": {}
     },
     "a7ee77444a5e4433a6a22fbdb760fa6e": {
      "model_module": "@jupyter-widgets/base",
      "model_module_version": "1.2.0",
      "model_name": "LayoutModel",
      "state": {}
     },
     "aa4b7023e43a4c5ebad63febbcefb75a": {
      "model_module": "@jupyter-widgets/controls",
      "model_module_version": "1.5.0",
      "model_name": "VBoxModel",
      "state": {
       "_dom_classes": [
        "widget-interact"
       ],
       "children": [
        "IPY_MODEL_97bf7b60c5b349f699eda2da3868f9b2",
        "IPY_MODEL_527c26bb274e4649b20a6c6d97f1b474",
        "IPY_MODEL_cc6db49ab1984df6a380e162c69a78ea"
       ],
       "layout": "IPY_MODEL_cdda09dafe57431c9712670e3d8552d4"
      }
     },
     "aac54c899e844f17928abbe593da3acf": {
      "model_module": "@jupyter-widgets/controls",
      "model_module_version": "1.5.0",
      "model_name": "ButtonModel",
      "state": {
       "description": "find recommendations",
       "layout": "IPY_MODEL_405716ed358849678722c806db46dcb9",
       "style": "IPY_MODEL_72b7d00e891b44669b636b8d1a3df412"
      }
     },
     "ab07966c5cc54e37b38d80af165f7110": {
      "model_module": "@jupyter-widgets/base",
      "model_module_version": "1.2.0",
      "model_name": "LayoutModel",
      "state": {}
     },
     "af37c42216f14b85a42490cc52071cb5": {
      "model_module": "@jupyter-widgets/output",
      "model_module_version": "1.0.0",
      "model_name": "OutputModel",
      "state": {
       "layout": "IPY_MODEL_cb2ea32f0d4048a29d4a64762b88ee58",
       "outputs": [
        {
         "data": {
          "text/plain": "[1192                                   UK denies it plans to drop tax on digital giants\n 277                                                Morning News Call - India, August 26\n 305       UK's Sunak considers sweeping tax hikes to plug COVID-19 hole, newspapers say\n 1301                  Payment tech firm Nuvei files for $500-$600 million IPO in Canada\n 184                      UPDATE 1-Debt collector Arrow Global swings to first-half loss\n 1509                          UK economy rebounding for now, as public borrowing mounts\n 1200            Exclusive: ByteDance investors seek to use stakes to finance TikTok bid\n 1220            Third Point-backed Far Point green lights $2.6 billion Global Blue deal\n 1302                    U.S. extends some China tariff exclusions only through year end\n 1527             G7 'less pessimistic' on global economy, says Italy's finance minister\n 92                                  Facebook plans to expand its news tab beyond the US\n 1292                          Stocks of TikTok U.S. suitors hit by fears of China block\n 150                                         Russian rouble weakens towards 74 vs dollar\n 249                               U.S. dollar's woes are only beginning, some bears say\n 1482                                      McLaren to sell and lease back Woking factory\n 1007                 Learn how to raise your first dollars at Disrupt 2020 – TechCrunch\n 1043                        Villa complete Watkins signing to bolster attacking options\n 1103        Mark Zuckerberg on why he doesn’t want to ‘put an Apple Watch on your face’\n 183     UPDATE 1-UK's DFS Furniture says performing significantly ahead of expectations\n 1056                                      Everton sign midfielder Doucoure from Watford\n Name: title, dtype: object,\n 1192                                                                 https://www.reuters.com/article/us-britain-usa-tax-idUSKBN25K1SW\n 277                                                                    https://in.reuters.com/article/india-morningcall-idINL4N2FS0AL\n 305                                                       https://in.reuters.com/article/health-coronavirus-britain-tax-idINL8N2FW03T\n 1301                                                                     https://www.reuters.com/article/nuvei-corp-ipo-idUSL4N2FY4CE\n 184                                                             https://in.reuters.com/article/arrow-global-grp-results-idINL4N2FR1TI\n 1509                                                  https://www.reuters.com/article/healthcoronavirus-britain-economy-idUSL8N2FN2UX\n 1200                                           https://www.reuters.com/article/us-usa-tiktok-bytedance-investors-exclus-idUSKBN25K0IW\n 1220                                                   https://uk.reuters.com/article/us-far-point-m-a-global-blue-vote-idUKKBN25K2AS\n 1302                                                         https://www.reuters.com/article/us-usa-trade-china-tariffs-idUSKBN25S5CT\n 1527                                                                https://www.reuters.com/article/us-g7-finance-italy-idUSKCN25D1ZT\n 92                          https://www.theverge.com/2020/8/25/21400960/facebook-news-tab-expand-plans-brazil-germany-uk-india-france\n 1292                                                                https://www.reuters.com/article/us-microsoft-stocks-idUSKBN25R1TH\n 150                           https://in.reuters.com/article/russia-markets/russian-rouble-weakens-towards-74-vs-dollar-idINL8N2FM22W\n 249                                                          https://in.reuters.com/article/usa-markets-dollar-analysis-idINKBN25S3KN\n 1482                                                                   https://www.reuters.com/article/motor-f1-mclaren-idINKBN2630JD\n 1007                                          http://techcrunch.com/2020/09/02/learn-how-to-raise-your-first-dollars-at-disrupt-2020/\n 1043                                                          https://in.reuters.com/article/soccer-england-ava-watkins-idINKBN2602RA\n 1103    https://www.theverge.com/interface/2020/9/16/21439741/mark-zuckerberg-facebook-connect-oculus-ar-vr-glasses-quest-apple-watch\n 183                                                                     https://in.reuters.com/article/dfs-furn-outlook-idINL4N2FR1SV\n 1056                                                                  https://in.reuters.com/article/soccer-england-eve-idINKBN26007Q\n Name: link, dtype: object]"
         },
         "metadata": {},
         "output_type": "display_data"
        }
       ]
      }
     },
     "b14473b1cf444ea78e39cb7f2900c0de": {
      "model_module": "@jupyter-widgets/output",
      "model_module_version": "1.0.0",
      "model_name": "OutputModel",
      "state": {
       "layout": "IPY_MODEL_b91c519b4d6743209737460f850e3078"
      }
     },
     "b26cb73f68d54b2cbc3ec820b23b12a8": {
      "model_module": "@jupyter-widgets/base",
      "model_module_version": "1.2.0",
      "model_name": "LayoutModel",
      "state": {}
     },
     "b379e48e6c13457a83949de2eed952d8": {
      "model_module": "@jupyter-widgets/controls",
      "model_module_version": "1.5.0",
      "model_name": "ButtonModel",
      "state": {
       "description": "find recommendations",
       "layout": "IPY_MODEL_b837ebf3ee954f358bad47cecc63fcae",
       "style": "IPY_MODEL_b687a78905434e3daa3bd57761ce11bb"
      }
     },
     "b393f7cc0b6c487da89ac238aa5ae401": {
      "model_module": "@jupyter-widgets/controls",
      "model_module_version": "1.5.0",
      "model_name": "TextModel",
      "state": {
       "description": "enter title",
       "layout": "IPY_MODEL_78081dc900fc47fcbef6d12d5e17aee2",
       "style": "IPY_MODEL_7605241e5a5c4195bc9924f5af82e862"
      }
     },
     "b3ad575f02d84c46857131e17bfdb954": {
      "model_module": "@jupyter-widgets/base",
      "model_module_version": "1.2.0",
      "model_name": "LayoutModel",
      "state": {}
     },
     "b45cb555bb154f34bc412a5fb3c82910": {
      "model_module": "@jupyter-widgets/base",
      "model_module_version": "1.2.0",
      "model_name": "LayoutModel",
      "state": {}
     },
     "b687a78905434e3daa3bd57761ce11bb": {
      "model_module": "@jupyter-widgets/controls",
      "model_module_version": "1.5.0",
      "model_name": "ButtonStyleModel",
      "state": {}
     },
     "b837ebf3ee954f358bad47cecc63fcae": {
      "model_module": "@jupyter-widgets/base",
      "model_module_version": "1.2.0",
      "model_name": "LayoutModel",
      "state": {}
     },
     "b91a9eb026c94dd3b4d5c7a25212fff1": {
      "model_module": "@jupyter-widgets/controls",
      "model_module_version": "1.5.0",
      "model_name": "TextModel",
      "state": {
       "description": "enter title",
       "layout": "IPY_MODEL_30348178b7054d3fbdc4a17528a52adb",
       "style": "IPY_MODEL_3e1fcdb6702a41b2a36b2897050d15c6",
       "value": "Bank of England policymakers warn of bigger risks for UK economy"
      }
     },
     "b91c519b4d6743209737460f850e3078": {
      "model_module": "@jupyter-widgets/base",
      "model_module_version": "1.2.0",
      "model_name": "LayoutModel",
      "state": {}
     },
     "bbfd40e42d7d4cc0b5951f7d7927d7f8": {
      "model_module": "@jupyter-widgets/base",
      "model_module_version": "1.2.0",
      "model_name": "LayoutModel",
      "state": {}
     },
     "bc56385a5418400bb469b4e6a5695f7b": {
      "model_module": "@jupyter-widgets/output",
      "model_module_version": "1.0.0",
      "model_name": "OutputModel",
      "state": {
       "layout": "IPY_MODEL_09a68011a31b41c29d802f14cda24f2c",
       "outputs": [
        {
         "data": {
          "text/plain": "[1192                                            UK denies it plans to drop tax on digital giants\n 1228                                               UPDATE 1-UK Stocks-Factors to watch on Aug 24\n 305                UK's Sunak considers sweeping tax hikes to plug COVID-19 hole, newspapers say\n 1294              IT minister Ravi Shankar Prasad accuses Facebook of bias amid row over content\n 1227                       Facebook pushes for data portability legislation ahead of FTC hearing\n 332                                     Facebook removes 'Kenosha Guard' page following shooting\n 1654                            UK economy extends recovery from COVID crash, growth seen fading\n 60                                 Serum Institute says India trials of COVID-19 vaccine ongoing\n 259                                Netflix, Russia's NMG group team up for fully Russian service\n 1305                   Google, Apple roll out built-in COVID-19 exposure notifications to phones\n 668                    Biden, in Michigan to Push a Jobs Plan, Tears Into Trump’s Virus Response\n 1600                            Bank of England policymakers warn of bigger risks for UK economy\n 1509                                   UK economy rebounding for now, as public borrowing mounts\n 73      Serum Institute gets approval to resume India trial of AstraZeneca COVID vaccine: source\n 1102                                   Factbox: Major incoming transfers by Premier League clubs\n 1062                                     EU's chief Brexit negotiator worried about negotiations\n 1694                           No-deal Brexit would hurt Britain more than EU - Germany's Scholz\n 1609                          Danish Finance Ministry sees 4.5% contraction in economy this year\n 1713                        British business calls for green recovery, policies to meet net zero\n 1526                   Britons a bit more upbeat on finances but worried about economy, GfK says\n Name: title, dtype: object,\n 1192                       https://www.reuters.com/article/us-britain-usa-tax-idUSKBN25K1SW\n 1228                    https://uk.reuters.com/article/britain-stocks-factors-idUKL4N2FQ1KP\n 305             https://in.reuters.com/article/health-coronavirus-britain-tax-idINL8N2FW03T\n 1294                         https://in.reuters.com/article/us-facebook-india-idINKBN25S5BS\n 1227                     https://uk.reuters.com/article/us-facebook-antitrust-idUKKBN25H0BG\n 332         https://in.reuters.com/article/global-race-usa-wisconsin-facebook-idINKBN25N0B5\n 1654       https://www.reuters.com/article/health-coronavirus-britain-economy-idINKBN2620MS\n 60          https://in.reuters.com/article/health-coronavirus-serum-institute-idINKBN2601EB\n 259                             https://in.reuters.com/article/netflix-russia-idINKBN25T1N9\n 1305       https://www.reuters.com/article/us-health-coronavirus-apple-google-idUSKBN25S5LI\n 668     https://www.nytimes.com/2020/09/09/us/politics/biden-trump-michigan-jobs-taxes.html\n 1600                              https://www.reuters.com/article/britain-boe-idUSL8N2FZ41G\n 1509        https://www.reuters.com/article/healthcoronavirus-britain-economy-idUSL8N2FN2UX\n 73      https://www.reuters.com/article/us-health-coronavirus-serum-institute-idUSKBN2670PP\n 1102          https://in.reuters.com/article/soccer-england-transfers-factbox-idINKBN25Z0JJ\n 1062                        https://in.reuters.com/article/britain-eu-barnier-idINKBN25Y0NW\n 1694                      https://uk.reuters.com/article/uk-eu-economy-brexit-idUKKBN2630KS\n 1609                       https://www.reuters.com/article/us-denmark-economy-idUSKBN25R19M\n 1713                https://www.reuters.com/article/us-climate-change-britain-idUSKBN26410M\n 1526        https://www.reuters.com/article/britain-economy-consumersentiment-idUSL8N2FM2YN\n Name: link, dtype: object]"
         },
         "metadata": {},
         "output_type": "display_data"
        }
       ]
      }
     },
     "bdeae1d320b849e7a5cf5895c67b46ed": {
      "model_module": "@jupyter-widgets/controls",
      "model_module_version": "1.5.0",
      "model_name": "TextModel",
      "state": {
       "description": "enter title",
       "layout": "IPY_MODEL_60b43d97c28f4638b221dd325dde09c1",
       "style": "IPY_MODEL_e05a8140b3a046d78ae800056e14271c"
      }
     },
     "bf99717c3de847e4a35ec051aaa4e7a8": {
      "model_module": "@jupyter-widgets/controls",
      "model_module_version": "1.5.0",
      "model_name": "ButtonModel",
      "state": {
       "description": "find recommendations",
       "layout": "IPY_MODEL_71284a42bca14e22a92f47339d9f8f74",
       "style": "IPY_MODEL_38dd95f0a4a34bc6965b16fc80e4dae3"
      }
     },
     "c08ec38dd615442cb7b7eba5176dbc09": {
      "model_module": "@jupyter-widgets/output",
      "model_module_version": "1.0.0",
      "model_name": "OutputModel",
      "state": {
       "layout": "IPY_MODEL_103c8dcc3d6249a6a53f64e657fedda2",
       "outputs": [
        {
         "data": {
          "text/plain": "[1620                                      Bank of England policymakers warn UK economy facing bigger risks\n 1619                                   UK economy might take years to recover from COVID hit-BoE's Vlieghe\n 1717                                                       Bank of England gears up for next stimulus push\n 1526                             Britons a bit more upbeat on finances but worried about economy, GfK says\n 1654                                      UK economy extends recovery from COVID crash, growth seen fading\n 305                          UK's Sunak considers sweeping tax hikes to plug COVID-19 hole, newspapers say\n 1509                                             UK economy rebounding for now, as public borrowing mounts\n 1671                       Exclusive: BOJ to offer brighter view on economy as COVID crisis eases: sources\n 1426                                   Britain plans hiring spree to harness big data in pandemic recovery\n 1713                                  British business calls for green recovery, policies to meet net zero\n 1701                              BOJ holds fire, offers brighter view of economy as pandemic impact eases\n 1649                                                          UK economy extends recovery from COVID crash\n 1658                                                   ECB must keep up support for the economy - Villeroy\n 1634                                    Japan's second-quarter capex falls most in decade on pandemic blow\n 1688    German economic recovery to continue in second-half, third-quarter to show strong growth: ministry\n 1691                        German economic recovery to continue in H2, Q3 to show strong growth: ministry\n 1552                                 French central banker says any 2020 GDP forecast revision would be up\n 1613                               India's recovery to take time after economy shrinks 24% in June quarter\n 1202                                                  UK plans to drop 'Facebook tax', Mail on Sunday says\n 255                                 UK says always reviewing quarantine data, no comment on Portugal shift\n Name: title, dtype: object,\n 1620                                https://www.reuters.com/article/britain-boe-idUSL9N2ER032\n 1619                      https://in.reuters.com/article/us-britain-boe-vlieghe-idINKBN25T261\n 1717                             https://www.reuters.com/article/us-britain-boe-idUSKBN2673NS\n 1526          https://www.reuters.com/article/britain-economy-consumersentiment-idUSL8N2FM2YN\n 1654         https://www.reuters.com/article/health-coronavirus-britain-economy-idINKBN2620MS\n 305               https://in.reuters.com/article/health-coronavirus-britain-tax-idINL8N2FW03T\n 1509          https://www.reuters.com/article/healthcoronavirus-britain-economy-idUSL8N2FN2UX\n 1671                          https://www.reuters.com/article/japan-economy-boj-idUSL4N2G714U\n 1426                    https://uk.reuters.com/article/uk-britain-politics-data-idUKKBN25Z3CD\n 1713                  https://www.reuters.com/article/us-climate-change-britain-idUSKBN26410M\n 1701                 https://www.reuters.com/article/japan-economy-boj-decision-idUSKBN268090\n 1649                                          https://www.reuters.com/video/watch/idOVCV929AJ\n 1658                      https://uk.reuters.com/article/uk-ecb-policy-villeroy-idUKKBN2612WC\n 1634                      https://in.reuters.com/article/us-japan-economy-capex-idINKBN25S35N\n 1688                         https://www.reuters.com/article/us-germany-economy-idUKKBN2650ZK\n 1691                         https://www.reuters.com/article/us-germany-economy-idUSKBN2650ZK\n 1552                 https://www.reuters.com/article/us-france-economy-villeroy-idUSKBN25N2RE\n 1613                       https://www.reuters.com/article/us-india-economy-gdp-idUSKBN25R1MT\n 1202                         https://www.reuters.com/article/us-britain-usa-tax-idUSKBN25J09E\n 255     https://in.reuters.com/article/health-coronavirus-portugal-britain-quar-idINL8N2FY3VF\n Name: link, dtype: object]"
         },
         "metadata": {},
         "output_type": "display_data"
        }
       ]
      }
     },
     "c5df6985a739498caf80b9fcab59aa69": {
      "model_module": "@jupyter-widgets/base",
      "model_module_version": "1.2.0",
      "model_name": "LayoutModel",
      "state": {}
     },
     "c6ce7d6e70ee4f238e1a1ff4453e1dd1": {
      "model_module": "@jupyter-widgets/controls",
      "model_module_version": "1.5.0",
      "model_name": "ButtonStyleModel",
      "state": {}
     },
     "c80779ca61cd47848276c453e0fab16e": {
      "model_module": "@jupyter-widgets/controls",
      "model_module_version": "1.5.0",
      "model_name": "DescriptionStyleModel",
      "state": {
       "description_width": ""
      }
     },
     "c9f7f1be0a3a48b8887ae3f1de50212d": {
      "model_module": "@jupyter-widgets/base",
      "model_module_version": "1.2.0",
      "model_name": "LayoutModel",
      "state": {}
     },
     "cb2ea32f0d4048a29d4a64762b88ee58": {
      "model_module": "@jupyter-widgets/base",
      "model_module_version": "1.2.0",
      "model_name": "LayoutModel",
      "state": {}
     },
     "cc6db49ab1984df6a380e162c69a78ea": {
      "model_module": "@jupyter-widgets/output",
      "model_module_version": "1.0.0",
      "model_name": "OutputModel",
      "state": {
       "layout": "IPY_MODEL_057e67d19c134a0d97b827218a53f5b0",
       "outputs": [
        {
         "data": {
          "text/plain": "[1620                                      Bank of England policymakers warn UK economy facing bigger risks\n 1619                                   UK economy might take years to recover from COVID hit-BoE's Vlieghe\n 1717                                                       Bank of England gears up for next stimulus push\n 1526                             Britons a bit more upbeat on finances but worried about economy, GfK says\n 1654                                      UK economy extends recovery from COVID crash, growth seen fading\n 305                          UK's Sunak considers sweeping tax hikes to plug COVID-19 hole, newspapers say\n 1509                                             UK economy rebounding for now, as public borrowing mounts\n 1671                       Exclusive: BOJ to offer brighter view on economy as COVID crisis eases: sources\n 1426                                   Britain plans hiring spree to harness big data in pandemic recovery\n 1713                                  British business calls for green recovery, policies to meet net zero\n 1701                              BOJ holds fire, offers brighter view of economy as pandemic impact eases\n 1649                                                          UK economy extends recovery from COVID crash\n 1658                                                   ECB must keep up support for the economy - Villeroy\n 1634                                    Japan's second-quarter capex falls most in decade on pandemic blow\n 1688    German economic recovery to continue in second-half, third-quarter to show strong growth: ministry\n 1691                        German economic recovery to continue in H2, Q3 to show strong growth: ministry\n 1552                                 French central banker says any 2020 GDP forecast revision would be up\n 1613                               India's recovery to take time after economy shrinks 24% in June quarter\n 1202                                                  UK plans to drop 'Facebook tax', Mail on Sunday says\n 255                                 UK says always reviewing quarantine data, no comment on Portugal shift\n Name: title, dtype: object,\n 1620                                https://www.reuters.com/article/britain-boe-idUSL9N2ER032\n 1619                      https://in.reuters.com/article/us-britain-boe-vlieghe-idINKBN25T261\n 1717                             https://www.reuters.com/article/us-britain-boe-idUSKBN2673NS\n 1526          https://www.reuters.com/article/britain-economy-consumersentiment-idUSL8N2FM2YN\n 1654         https://www.reuters.com/article/health-coronavirus-britain-economy-idINKBN2620MS\n 305               https://in.reuters.com/article/health-coronavirus-britain-tax-idINL8N2FW03T\n 1509          https://www.reuters.com/article/healthcoronavirus-britain-economy-idUSL8N2FN2UX\n 1671                          https://www.reuters.com/article/japan-economy-boj-idUSL4N2G714U\n 1426                    https://uk.reuters.com/article/uk-britain-politics-data-idUKKBN25Z3CD\n 1713                  https://www.reuters.com/article/us-climate-change-britain-idUSKBN26410M\n 1701                 https://www.reuters.com/article/japan-economy-boj-decision-idUSKBN268090\n 1649                                          https://www.reuters.com/video/watch/idOVCV929AJ\n 1658                      https://uk.reuters.com/article/uk-ecb-policy-villeroy-idUKKBN2612WC\n 1634                      https://in.reuters.com/article/us-japan-economy-capex-idINKBN25S35N\n 1688                         https://www.reuters.com/article/us-germany-economy-idUKKBN2650ZK\n 1691                         https://www.reuters.com/article/us-germany-economy-idUSKBN2650ZK\n 1552                 https://www.reuters.com/article/us-france-economy-villeroy-idUSKBN25N2RE\n 1613                       https://www.reuters.com/article/us-india-economy-gdp-idUSKBN25R1MT\n 1202                         https://www.reuters.com/article/us-britain-usa-tax-idUSKBN25J09E\n 255     https://in.reuters.com/article/health-coronavirus-portugal-britain-quar-idINL8N2FY3VF\n Name: link, dtype: object]"
         },
         "metadata": {},
         "output_type": "display_data"
        }
       ]
      }
     },
     "cca04ccafe9d465ba38ca6ac845946bc": {
      "model_module": "@jupyter-widgets/controls",
      "model_module_version": "1.5.0",
      "model_name": "TextModel",
      "state": {
       "description": "enter title",
       "layout": "IPY_MODEL_ab07966c5cc54e37b38d80af165f7110",
       "style": "IPY_MODEL_7f96fbbb7a2743c3b491355ef7570d4d"
      }
     },
     "cdda09dafe57431c9712670e3d8552d4": {
      "model_module": "@jupyter-widgets/base",
      "model_module_version": "1.2.0",
      "model_name": "LayoutModel",
      "state": {}
     },
     "cde657db37fb4dd3ade0325e8fbeb4b5": {
      "model_module": "@jupyter-widgets/output",
      "model_module_version": "1.0.0",
      "model_name": "OutputModel",
      "state": {
       "layout": "IPY_MODEL_49b67fd43a8b4b8c9df73b906f0ea075",
       "outputs": [
        {
         "data": {
          "text/plain": "[1654                                        UK economy extends recovery from COVID crash, growth seen fading\n 1704                             New COVID-19 wave must be prevented to support German economy: stats office\n 807                             Businesses working with slavery survivors in India seek ways to offset COVID\n 1619                                     UK economy might take years to recover from COVID hit-BoE's Vlieghe\n 1509                                               UK economy rebounding for now, as public borrowing mounts\n 1570                                        India coronavirus cases cross 3 million mark as economy opens up\n 1543                                  Spain's economy is already recovering from pandemic hit, minister says\n 1372                                                                           Stocks drop in choppy session\n 255                                   UK says always reviewing quarantine data, no comment on Portugal shift\n 700                                                 New York’s Reopened Museums: Where to Go and What to See\n 1554                                           German business morale brightens more than expected in August\n 1318                                                 Uber extends mask selfie verification feature to riders\n 512                                                                                 Is New York City ‘Over’?\n 757                      Trump's HHS Goons Smear CDC as 'Deep State,' Routinely Meddle with Covid-19 Reports\n 306                   U.S. consumer confidence at six-year low; underscores concerns about economic recovery\n 294                                         Australia's Woolworths says virus hits pubs, boosts supermarkets\n 1302                                         U.S. extends some China tariff exclusions only through year end\n 157                                UPDATE 2-TJX forecasts current-quarter comparable sales to drop up to 20%\n 207     Drinking bans are back in fashion during the Covid pandemic. But experts are wary of Prohibition 2.0\n 1228                                                           UPDATE 1-UK Stocks-Factors to watch on Aug 24\n Name: title, dtype: object,\n 1654                    https://www.reuters.com/article/health-coronavirus-britain-economy-idINKBN2620MS\n 1704                 https://www.reuters.com/article/us-health-coronavirus-germany-economy-idINKBN26613C\n 807                https://www.reuters.com/article/us-health-coronavirus-india-trafficking-idUSKCN25E1R7\n 1619                                 https://in.reuters.com/article/us-britain-boe-vlieghe-idINKBN25T261\n 1509                     https://www.reuters.com/article/healthcoronavirus-britain-economy-idUSL8N2FN2UX\n 1570                           https://www.reuters.com/article/us-health-coronavirus-india-idUSKBN25J0E4\n 1543                                         https://www.reuters.com/article/spain-economy-idUSE8N2BG019\n 1372                                                      https://uk.reuters.com/video/watch/idOVCUA40AZ\n 255                https://in.reuters.com/article/health-coronavirus-portugal-britain-quar-idINL8N2FY3VF\n 700              https://www.nytimes.com/2020/09/10/arts/design/new-york-museums-reopen-coronavirus.html\n 1554                                   https://www.reuters.com/article/germany-economy-ifo-idUSS8N27Z072\n 1318                             https://in.reuters.com/article/us-health-coronavirus-uber-idINKBN25S4Z5\n 512                           https://www.nytimes.com/2020/08/25/nyregion/nyc-coronavirus-reopening.html\n 757                https://gizmodo.com/trumps-hhs-goons-smear-cdc-as-deep-state-routinely-med-1845037621\n 306                                  https://in.reuters.com/article/us-usa-economy-housing-idINKBN25L1SC\n 294                                  https://in.reuters.com/article/woolworths-grp-results-idINL4N2FS4ER\n 1302                            https://www.reuters.com/article/us-usa-trade-china-tariffs-idUSKBN25S5CT\n 157                                             https://in.reuters.com/article/tjx-results-idINL4N2FL2UR\n 207     https://www.cnn.com/2020/08/31/health/drinking-bans-alcohol-coronavirus-wellness-intl/index.html\n 1228                                 https://uk.reuters.com/article/britain-stocks-factors-idUKL4N2FQ1KP\n Name: link, dtype: object]"
         },
         "metadata": {},
         "output_type": "display_data"
        }
       ]
      }
     },
     "d034b19725464ed793cb8273c0a6d87e": {
      "model_module": "@jupyter-widgets/base",
      "model_module_version": "1.2.0",
      "model_name": "LayoutModel",
      "state": {}
     },
     "d0d720265dad4e3dbade49e1f1b7154c": {
      "model_module": "@jupyter-widgets/controls",
      "model_module_version": "1.5.0",
      "model_name": "DescriptionStyleModel",
      "state": {
       "description_width": ""
      }
     },
     "d168225d1f7d4835a42886031d31e821": {
      "model_module": "@jupyter-widgets/controls",
      "model_module_version": "1.5.0",
      "model_name": "VBoxModel",
      "state": {
       "_dom_classes": [
        "widget-interact"
       ],
       "children": [
        "IPY_MODEL_0d544d8edefd42d687e012b79a3a05af",
        "IPY_MODEL_bf99717c3de847e4a35ec051aaa4e7a8",
        "IPY_MODEL_57fe2fc5834b4388880857c667715347"
       ],
       "layout": "IPY_MODEL_b3ad575f02d84c46857131e17bfdb954"
      }
     },
     "d538e3e15b314a95a23d9e90011a9d36": {
      "model_module": "@jupyter-widgets/controls",
      "model_module_version": "1.5.0",
      "model_name": "TextareaModel",
      "state": {
       "layout": "IPY_MODEL_875b0515d9b44feea0a36a06da988a38",
       "style": "IPY_MODEL_eb3bf36e7c6b49f09cac4a0bd6eee7ef"
      }
     },
     "d8901c6fc70c41259e82d4461dd775be": {
      "model_module": "@jupyter-widgets/controls",
      "model_module_version": "1.5.0",
      "model_name": "HBoxModel",
      "state": {
       "children": [
        "IPY_MODEL_8bc181866aab4ac7b2567f1992bf1728"
       ],
       "layout": "IPY_MODEL_07505c7c04404ae89c629deda79ea798"
      }
     },
     "dbbfb3aa1a2f4881ab428c21103cbd84": {
      "model_module": "@jupyter-widgets/controls",
      "model_module_version": "1.5.0",
      "model_name": "DescriptionStyleModel",
      "state": {
       "description_width": ""
      }
     },
     "dcc3b18f3dda4931a97d14159a1a00be": {
      "model_module": "@jupyter-widgets/output",
      "model_module_version": "1.0.0",
      "model_name": "OutputModel",
      "state": {
       "layout": "IPY_MODEL_e678b61ad8194d85bd8a41f515847420"
      }
     },
     "e05a8140b3a046d78ae800056e14271c": {
      "model_module": "@jupyter-widgets/controls",
      "model_module_version": "1.5.0",
      "model_name": "DescriptionStyleModel",
      "state": {
       "description_width": ""
      }
     },
     "e0cce7b8a4fa450da20f21925a79324f": {
      "model_module": "@jupyter-widgets/base",
      "model_module_version": "1.2.0",
      "model_name": "LayoutModel",
      "state": {
       "width": "500px"
      }
     },
     "e1fbd121c0b4417f9eedf3519ea5a6dc": {
      "model_module": "@jupyter-widgets/base",
      "model_module_version": "1.2.0",
      "model_name": "LayoutModel",
      "state": {}
     },
     "e49acf7b9e074722b2cce1e5758fbdab": {
      "model_module": "@jupyter-widgets/controls",
      "model_module_version": "1.5.0",
      "model_name": "VBoxModel",
      "state": {
       "_dom_classes": [
        "widget-interact"
       ],
       "children": [
        "IPY_MODEL_e7942353ce8a476189385a32326e7ee4",
        "IPY_MODEL_b379e48e6c13457a83949de2eed952d8",
        "IPY_MODEL_c08ec38dd615442cb7b7eba5176dbc09"
       ],
       "layout": "IPY_MODEL_d034b19725464ed793cb8273c0a6d87e"
      }
     },
     "e53d4d2f69e043e3b9e99900af3e511d": {
      "model_module": "@jupyter-widgets/controls",
      "model_module_version": "1.5.0",
      "model_name": "DescriptionStyleModel",
      "state": {
       "description_width": ""
      }
     },
     "e678b61ad8194d85bd8a41f515847420": {
      "model_module": "@jupyter-widgets/base",
      "model_module_version": "1.2.0",
      "model_name": "LayoutModel",
      "state": {}
     },
     "e6df169590ee42c390ed20a58b4291ed": {
      "model_module": "@jupyter-widgets/output",
      "model_module_version": "1.0.0",
      "model_name": "OutputModel",
      "state": {
       "layout": "IPY_MODEL_46acf3d09fb943a58a5584adfdbd274d"
      }
     },
     "e7942353ce8a476189385a32326e7ee4": {
      "model_module": "@jupyter-widgets/controls",
      "model_module_version": "1.5.0",
      "model_name": "TextModel",
      "state": {
       "description": "enter title",
       "layout": "IPY_MODEL_3bcd19e44f674924809ce75be59c947c",
       "style": "IPY_MODEL_9a550fbc82f94a04afbbdfebb0b504ef",
       "value": "Bank of England policymakers warn of bigger risks for UK economy"
      }
     },
     "eb3bf36e7c6b49f09cac4a0bd6eee7ef": {
      "model_module": "@jupyter-widgets/controls",
      "model_module_version": "1.5.0",
      "model_name": "DescriptionStyleModel",
      "state": {
       "description_width": ""
      }
     },
     "f1e7a6d1b8634ab6a29b7fc45325346a": {
      "model_module": "@jupyter-widgets/controls",
      "model_module_version": "1.5.0",
      "model_name": "ButtonModel",
      "state": {
       "description": "find recommendations",
       "layout": "IPY_MODEL_f557fa5b58164e98aaab7b3ce402ef22",
       "style": "IPY_MODEL_733c15e5625c40d0959e1bfb7cbb27d1"
      }
     },
     "f41fdda0b6ce471884ac05683e7c925b": {
      "model_module": "@jupyter-widgets/output",
      "model_module_version": "1.0.0",
      "model_name": "OutputModel",
      "state": {
       "layout": "IPY_MODEL_3224969be9184deb82fadf78224e1bb8",
       "outputs": [
        {
         "data": {
          "text/plain": "[1620                                      Bank of England policymakers warn UK economy facing bigger risks\n 1619                                   UK economy might take years to recover from COVID hit-BoE's Vlieghe\n 1717                                                       Bank of England gears up for next stimulus push\n 1526                             Britons a bit more upbeat on finances but worried about economy, GfK says\n 1654                                      UK economy extends recovery from COVID crash, growth seen fading\n 305                          UK's Sunak considers sweeping tax hikes to plug COVID-19 hole, newspapers say\n 1509                                             UK economy rebounding for now, as public borrowing mounts\n 1671                       Exclusive: BOJ to offer brighter view on economy as COVID crisis eases: sources\n 1426                                   Britain plans hiring spree to harness big data in pandemic recovery\n 1713                                  British business calls for green recovery, policies to meet net zero\n 1701                              BOJ holds fire, offers brighter view of economy as pandemic impact eases\n 1649                                                          UK economy extends recovery from COVID crash\n 1658                                                   ECB must keep up support for the economy - Villeroy\n 1634                                    Japan's second-quarter capex falls most in decade on pandemic blow\n 1688    German economic recovery to continue in second-half, third-quarter to show strong growth: ministry\n 1691                        German economic recovery to continue in H2, Q3 to show strong growth: ministry\n 1552                                 French central banker says any 2020 GDP forecast revision would be up\n 1613                               India's recovery to take time after economy shrinks 24% in June quarter\n 1202                                                  UK plans to drop 'Facebook tax', Mail on Sunday says\n 255                                 UK says always reviewing quarantine data, no comment on Portugal shift\n Name: title, dtype: object,\n 1620                                https://www.reuters.com/article/britain-boe-idUSL9N2ER032\n 1619                      https://in.reuters.com/article/us-britain-boe-vlieghe-idINKBN25T261\n 1717                             https://www.reuters.com/article/us-britain-boe-idUSKBN2673NS\n 1526          https://www.reuters.com/article/britain-economy-consumersentiment-idUSL8N2FM2YN\n 1654         https://www.reuters.com/article/health-coronavirus-britain-economy-idINKBN2620MS\n 305               https://in.reuters.com/article/health-coronavirus-britain-tax-idINL8N2FW03T\n 1509          https://www.reuters.com/article/healthcoronavirus-britain-economy-idUSL8N2FN2UX\n 1671                          https://www.reuters.com/article/japan-economy-boj-idUSL4N2G714U\n 1426                    https://uk.reuters.com/article/uk-britain-politics-data-idUKKBN25Z3CD\n 1713                  https://www.reuters.com/article/us-climate-change-britain-idUSKBN26410M\n 1701                 https://www.reuters.com/article/japan-economy-boj-decision-idUSKBN268090\n 1649                                          https://www.reuters.com/video/watch/idOVCV929AJ\n 1658                      https://uk.reuters.com/article/uk-ecb-policy-villeroy-idUKKBN2612WC\n 1634                      https://in.reuters.com/article/us-japan-economy-capex-idINKBN25S35N\n 1688                         https://www.reuters.com/article/us-germany-economy-idUKKBN2650ZK\n 1691                         https://www.reuters.com/article/us-germany-economy-idUSKBN2650ZK\n 1552                 https://www.reuters.com/article/us-france-economy-villeroy-idUSKBN25N2RE\n 1613                       https://www.reuters.com/article/us-india-economy-gdp-idUSKBN25R1MT\n 1202                         https://www.reuters.com/article/us-britain-usa-tax-idUSKBN25J09E\n 255     https://in.reuters.com/article/health-coronavirus-portugal-britain-quar-idINL8N2FY3VF\n Name: link, dtype: object]"
         },
         "metadata": {},
         "output_type": "display_data"
        }
       ]
      }
     },
     "f557fa5b58164e98aaab7b3ce402ef22": {
      "model_module": "@jupyter-widgets/base",
      "model_module_version": "1.2.0",
      "model_name": "LayoutModel",
      "state": {}
     },
     "f96c0a2d63ef44eeb8972c34f59e3633": {
      "model_module": "@jupyter-widgets/controls",
      "model_module_version": "1.5.0",
      "model_name": "VBoxModel",
      "state": {
       "_dom_classes": [
        "widget-interact"
       ],
       "children": [
        "IPY_MODEL_80e0cc603e764e28b8293efb2cf9297e",
        "IPY_MODEL_942f16781eeb4e0c951537c343299dcd",
        "IPY_MODEL_dcc3b18f3dda4931a97d14159a1a00be"
       ],
       "layout": "IPY_MODEL_a7ee77444a5e4433a6a22fbdb760fa6e"
      }
     },
     "fdbb88861d18426988489ead831bc6e1": {
      "model_module": "@jupyter-widgets/controls",
      "model_module_version": "1.5.0",
      "model_name": "TextModel",
      "state": {
       "description": "enter title",
       "layout": "IPY_MODEL_b45cb555bb154f34bc412a5fb3c82910",
       "style": "IPY_MODEL_8f4d8672ea2e43329710a1e2dd41c199",
       "value": "Bank of England policymakers warn of bigger risks for UK economy"
      }
     }
    },
    "version_major": 2,
    "version_minor": 0
   }
  }
 },
 "nbformat": 4,
 "nbformat_minor": 5
}
