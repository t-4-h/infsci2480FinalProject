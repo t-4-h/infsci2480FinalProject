{
 "cells": [
  {
   "cell_type": "code",
   "execution_count": 22,
   "id": "8a0d131e-c4ab-41d0-843a-cb21c4795a44",
   "metadata": {
    "tags": [
     "hide",
     "hide-cell"
    ]
   },
   "outputs": [],
   "source": [
    "import pandas as pd\n",
    "import numpy as np\n",
    "import matplotlib as plt\n",
    "from sklearn.feature_extraction.text import TfidfVectorizer\n",
    "from sklearn.metrics.pairwise import cosine_similarity\n",
    "import ipywidgets as widgets\n",
    "from __future__ import print_function\n",
    "from ipywidgets import interact, interactive, fixed, interact_manual\n",
    "from ipywidgets import HBox, VBox\n",
    "from IPython.display import display\n",
    "from nltk.corpus import stopwords\n",
    "from nltk.tokenize import RegexpTokenizer\n",
    "import re\n",
    "import string\n",
    "import random\n",
    "import nbinteract as nbi\n",
    "%matplotlib inline\n",
    "pd.set_option('display.max_colwidth', None)"
   ]
  },
  {
   "cell_type": "code",
   "execution_count": 23,
   "id": "dbbb914e",
   "metadata": {
    "tags": [
     "hide-cell",
     "hide"
    ]
   },
   "outputs": [],
   "source": [
    "df = pd.read_csv('newsData.csv')"
   ]
  },
  {
   "cell_type": "code",
   "execution_count": 24,
   "id": "dd38e65c-fd1a-4496-b46a-8c739af1d770",
   "metadata": {
    "tags": [
     "hide-cell",
     "hide"
    ]
   },
   "outputs": [],
   "source": [
    "# Function for converting into lower case\n",
    "def make_lower_case(text):\n",
    "    return text.lower()\n",
    "\n",
    "\n",
    "# Function for removing punctuation\n",
    "def remove_punctuation(text):\n",
    "    tokenizer = RegexpTokenizer(r'\\w+')\n",
    "    text = tokenizer.tokenize(text)\n",
    "    text = \" \".join(text)\n",
    "    return text\n",
    "\n",
    "# Function for removing the html tags\n",
    "def remove_html(text):\n",
    "    html_pattern = re.compile('<.*?>')\n",
    "    return html_pattern.sub(r'', text)\n",
    "\n",
    "# Applying all the functions in description and storing as \"cleaned\"\n",
    "df['cleaned'] = df['text'].apply(func = make_lower_case)\n",
    "df['cleaned'] = df.cleaned.apply(func=remove_punctuation)\n",
    "df['cleaned'] = df.cleaned.apply(func=remove_html)"
   ]
  },
  {
   "cell_type": "code",
   "execution_count": 25,
   "id": "4b36ed3e",
   "metadata": {
    "tags": [
     "hide-cell",
     "hide"
    ]
   },
   "outputs": [],
   "source": [
    "tf = TfidfVectorizer(analyzer='word',ngram_range=(1, 3),max_df=0.8, min_df=0, stop_words='english')"
   ]
  },
  {
   "cell_type": "code",
   "execution_count": 26,
   "id": "27c151eb",
   "metadata": {
    "tags": [
     "hide-cell",
     "hide"
    ]
   },
   "outputs": [],
   "source": [
    "matrix = tf.fit_transform(df['cleaned'])\n"
   ]
  },
  {
   "cell_type": "code",
   "execution_count": 27,
   "id": "1982a9e8",
   "metadata": {
    "tags": [
     "hide"
    ]
   },
   "outputs": [],
   "source": [
    "cosSim= cosine_similarity(matrix, matrix)\n"
   ]
  },
  {
   "cell_type": "code",
   "execution_count": 28,
   "id": "127ed901",
   "metadata": {
    "tags": [
     "hide-cell",
     "hide-output",
     "hide"
    ]
   },
   "outputs": [],
   "source": [
    "def recommender(title):\n",
    "    #create indices for titles\n",
    "    titles = df['title']\n",
    "    link = df['link']\n",
    "    indices = pd.Series(df.index, index=df['title'])\n",
    "    ##recommend based on cosine similarity\n",
    "    idx = indices[title]\n",
    "    similarity = list(enumerate(cosSim[idx]))\n",
    "    similarity = sorted(similarity, key=lambda x: x[1], reverse=True)\n",
    "    similarity = similarity[1:21]\n",
    "    news_indices = [i[0] for i in similarity]\n",
    "    newsTitle = titles.iloc[news_indices]\n",
    "    newsLink = link.iloc[news_indices]\n",
    "    return [newsTitle, newsLink]"
   ]
  },
  {
   "cell_type": "code",
   "execution_count": 29,
   "id": "708c02ef-80a4-4e75-b828-b3ad8e6756ce",
   "metadata": {},
   "outputs": [],
   "source": [
    "df2 = pd.read_csv('newsData.csv')"
   ]
  },
  {
   "cell_type": "code",
   "execution_count": 30,
   "id": "88833e81-3e53-441a-89fd-a60d2ac83fc2",
   "metadata": {},
   "outputs": [],
   "source": [
    "df2 = df2.replace({'\\'': ''}, regex=True)"
   ]
  },
  {
   "cell_type": "code",
   "execution_count": 31,
   "id": "88e17540-c61a-47da-83b1-c2ed946703ef",
   "metadata": {},
   "outputs": [],
   "source": [
    "df2 = df2.replace({'\\]': ''}, regex=True)"
   ]
  },
  {
   "cell_type": "code",
   "execution_count": 32,
   "id": "583a6baf-6f2d-4f30-90e9-7f931cdfe30e",
   "metadata": {},
   "outputs": [],
   "source": [
    "df2 = df2.replace({'\\[': ''}, regex=True)"
   ]
  },
  {
   "cell_type": "code",
   "execution_count": 33,
   "id": "628351a0-79d6-4efa-92c0-f285e7aa44a4",
   "metadata": {},
   "outputs": [],
   "source": [
    "df2 = df2[['title','text','keywords','link']]"
   ]
  },
  {
   "cell_type": "code",
   "execution_count": 34,
   "id": "f5f85c3e-71d0-42cd-936b-39657a102681",
   "metadata": {},
   "outputs": [],
   "source": [
    "keywords = df2['keywords'].str.split(',')"
   ]
  },
  {
   "cell_type": "code",
   "execution_count": 35,
   "id": "36bd3065-7e20-44a4-8596-80338ab4bf8a",
   "metadata": {},
   "outputs": [],
   "source": [
    "keywords = df2['keywords'].fillna(\"\").astype('str')"
   ]
  },
  {
   "cell_type": "code",
   "execution_count": 36,
   "id": "47c0bf2d-06ef-4d59-ba88-89631f4d4057",
   "metadata": {},
   "outputs": [],
   "source": [
    "tf2 = TfidfVectorizer(analyzer='word',ngram_range=(1, 2),min_df=0, stop_words='english')"
   ]
  },
  {
   "cell_type": "code",
   "execution_count": 37,
   "id": "c41f10fc-5bc7-4659-8ccb-d72f78f6afba",
   "metadata": {},
   "outputs": [],
   "source": [
    "matrix2 = tf2.fit_transform(keywords)\n",
    "##show matrix dimensions"
   ]
  },
  {
   "cell_type": "code",
   "execution_count": 38,
   "id": "d62b4063-de0c-414d-bcd2-7dc5fbf38148",
   "metadata": {
    "tags": []
   },
   "outputs": [],
   "source": [
    "cosSim2= cosine_similarity(matrix2, matrix2)"
   ]
  },
  {
   "cell_type": "code",
   "execution_count": 39,
   "id": "a14b6cb3-e45f-4767-9c4e-687f6075f862",
   "metadata": {},
   "outputs": [],
   "source": [
    "def recommender2(title):\n",
    "    #create indices for titles\n",
    "    titles = df['title']\n",
    "    link = df['link']\n",
    "    indices = pd.Series(df.index, index=df['title'])\n",
    "    ##recommend based on cosine similarity\n",
    "    idx = indices[title]\n",
    "    similarity = list(enumerate(cosSim2[idx]))\n",
    "    similarity = sorted(similarity, key=lambda x: x[1], reverse=True)\n",
    "    similarity = similarity[1:21]\n",
    "    news_indices = [i[0] for i in similarity]\n",
    "    newsTitle = titles.iloc[news_indices]\n",
    "    newsLink = link.iloc[news_indices]\n",
    "    return [newsTitle, newsLink]"
   ]
  },
  {
   "cell_type": "markdown",
   "id": "fcca5594-a954-4661-80c9-78faaa9b120f",
   "metadata": {},
   "source": [
    " # News Recommender system\n",
    " ## | Get recommendations based on article text |\n",
    " ### enter a title to view top 20 recommendations"
   ]
  },
  {
   "cell_type": "code",
   "execution_count": 40,
   "id": "7c7c06c6",
   "metadata": {
    "tags": [
     "hide-input"
    ]
   },
   "outputs": [
    {
     "data": {
      "application/vnd.jupyter.widget-view+json": {
       "model_id": "d168225d1f7d4835a42886031d31e821",
       "version_major": 2,
       "version_minor": 0
      },
      "text/plain": [
       "interactive(children=(Text(value='Bank of England policymakers warn of bigger risks for UK economy', descripti…"
      ]
     },
     "metadata": {},
     "output_type": "display_data"
    },
    {
     "data": {
      "text/plain": [
       "<function __main__.recommender(title)>"
      ]
     },
     "metadata": {},
     "output_type": "display_data"
    }
   ],
   "source": [
    "interact = interact_manual.options(manual_name=\"find recommendations\")\n",
    "im = interact(recommender, title='Bank of England policymakers warn of bigger risks for UK economy')\n",
    "im.widget.children[0].description = 'enter title'\n",
    "display(im)"
   ]
  },
  {
   "cell_type": "markdown",
   "id": "94691a94-b838-40b4-a27d-ef27e2200c67",
   "metadata": {},
   "source": [
    " ## | Get recommendations based on keyword tags |\n",
    " ### enter a title to view top 20 recommendations"
   ]
  },
  {
   "cell_type": "code",
   "execution_count": 42,
   "id": "1dcfba2e-f065-4a16-89a2-8df84f159cc6",
   "metadata": {},
   "outputs": [
    {
     "data": {
      "application/vnd.jupyter.widget-view+json": {
       "model_id": "16552558e44541a9a1712b30c853b3f7",
       "version_major": 2,
       "version_minor": 0
      },
      "text/plain": [
       "interactive(children=(Text(value='UK economy extends recovery from COVID crash', description='title'), Button(…"
      ]
     },
     "metadata": {},
     "output_type": "display_data"
    },
    {
     "data": {
      "text/plain": [
       "<function __main__.recommender2(title)>"
      ]
     },
     "metadata": {},
     "output_type": "display_data"
    }
   ],
   "source": [
    "interact2 = interact_manual.options(manual_name=\"find recommendations\")\n",
    "im2 = interact(recommender2, title='UK economy extends recovery from COVID crash')\n",
    "im2.widget.children[0].description = 'enter title'\n",
    "display(im2)"
   ]
  },
  {
   "cell_type": "code",
   "execution_count": null,
   "id": "c6bdb443-e83f-4d0e-8cd3-e2e294e8482a",
   "metadata": {},
   "outputs": [],
   "source": []
  }
 ],
 "metadata": {
  "kernelspec": {
   "display_name": "Python 3",
   "language": "python",
   "name": "python3"
  },
  "language_info": {
   "codemirror_mode": {
    "name": "ipython",
    "version": 3
   },
   "file_extension": ".py",
   "mimetype": "text/x-python",
   "name": "python",
   "nbconvert_exporter": "python",
   "pygments_lexer": "ipython3",
   "version": "3.9.2"
  },
  "widgets": {
   "application/vnd.jupyter.widget-state+json": {
    "state": {
     "05851f0cffec45e6b44059e739affef8": {
      "model_module": "@jupyter-widgets/base",
      "model_module_version": "1.2.0",
      "model_name": "LayoutModel",
      "state": {}
     },
     "0708cefbe622451fa46a962408be7492": {
      "model_module": "@jupyter-widgets/controls",
      "model_module_version": "1.5.0",
      "model_name": "ButtonModel",
      "state": {
       "description": "find recommendations",
       "layout": "IPY_MODEL_e1fbd121c0b4417f9eedf3519ea5a6dc",
       "style": "IPY_MODEL_0aa288af940e4d67b4d1e91fb355f21e"
      }
     },
     "080cd6c052334135826844b918f2122a": {
      "model_module": "@jupyter-widgets/output",
      "model_module_version": "1.0.0",
      "model_name": "OutputModel",
      "state": {
       "layout": "IPY_MODEL_92432b0ec8224105834427bf97081da0",
       "outputs": [
        {
         "data": {
          "text/plain": "[1620                                      Bank of England policymakers warn UK economy facing bigger risks\n 1619                                   UK economy might take years to recover from COVID hit-BoE's Vlieghe\n 1717                                                       Bank of England gears up for next stimulus push\n 1526                             Britons a bit more upbeat on finances but worried about economy, GfK says\n 1654                                      UK economy extends recovery from COVID crash, growth seen fading\n 305                          UK's Sunak considers sweeping tax hikes to plug COVID-19 hole, newspapers say\n 1509                                             UK economy rebounding for now, as public borrowing mounts\n 1671                       Exclusive: BOJ to offer brighter view on economy as COVID crisis eases: sources\n 1426                                   Britain plans hiring spree to harness big data in pandemic recovery\n 1713                                  British business calls for green recovery, policies to meet net zero\n 1701                              BOJ holds fire, offers brighter view of economy as pandemic impact eases\n 1649                                                          UK economy extends recovery from COVID crash\n 1658                                                   ECB must keep up support for the economy - Villeroy\n 1634                                    Japan's second-quarter capex falls most in decade on pandemic blow\n 1688    German economic recovery to continue in second-half, third-quarter to show strong growth: ministry\n 1691                        German economic recovery to continue in H2, Q3 to show strong growth: ministry\n 1552                                 French central banker says any 2020 GDP forecast revision would be up\n 1613                               India's recovery to take time after economy shrinks 24% in June quarter\n 1202                                                  UK plans to drop 'Facebook tax', Mail on Sunday says\n 255                                 UK says always reviewing quarantine data, no comment on Portugal shift\n Name: title, dtype: object,\n 1620                                https://www.reuters.com/article/britain-boe-idUSL9N2ER032\n 1619                      https://in.reuters.com/article/us-britain-boe-vlieghe-idINKBN25T261\n 1717                             https://www.reuters.com/article/us-britain-boe-idUSKBN2673NS\n 1526          https://www.reuters.com/article/britain-economy-consumersentiment-idUSL8N2FM2YN\n 1654         https://www.reuters.com/article/health-coronavirus-britain-economy-idINKBN2620MS\n 305               https://in.reuters.com/article/health-coronavirus-britain-tax-idINL8N2FW03T\n 1509          https://www.reuters.com/article/healthcoronavirus-britain-economy-idUSL8N2FN2UX\n 1671                          https://www.reuters.com/article/japan-economy-boj-idUSL4N2G714U\n 1426                    https://uk.reuters.com/article/uk-britain-politics-data-idUKKBN25Z3CD\n 1713                  https://www.reuters.com/article/us-climate-change-britain-idUSKBN26410M\n 1701                 https://www.reuters.com/article/japan-economy-boj-decision-idUSKBN268090\n 1649                                          https://www.reuters.com/video/watch/idOVCV929AJ\n 1658                      https://uk.reuters.com/article/uk-ecb-policy-villeroy-idUKKBN2612WC\n 1634                      https://in.reuters.com/article/us-japan-economy-capex-idINKBN25S35N\n 1688                         https://www.reuters.com/article/us-germany-economy-idUKKBN2650ZK\n 1691                         https://www.reuters.com/article/us-germany-economy-idUSKBN2650ZK\n 1552                 https://www.reuters.com/article/us-france-economy-villeroy-idUSKBN25N2RE\n 1613                       https://www.reuters.com/article/us-india-economy-gdp-idUSKBN25R1MT\n 1202                         https://www.reuters.com/article/us-britain-usa-tax-idUSKBN25J09E\n 255     https://in.reuters.com/article/health-coronavirus-portugal-britain-quar-idINL8N2FY3VF\n Name: link, dtype: object]"
         },
         "metadata": {},
         "output_type": "display_data"
        }
       ]
      }
     },
     "0aa288af940e4d67b4d1e91fb355f21e": {
      "model_module": "@jupyter-widgets/controls",
      "model_module_version": "1.5.0",
      "model_name": "ButtonStyleModel",
      "state": {}
     },
     "0d544d8edefd42d687e012b79a3a05af": {
      "model_module": "@jupyter-widgets/controls",
      "model_module_version": "1.5.0",
      "model_name": "TextModel",
      "state": {
       "description": "enter title",
       "layout": "IPY_MODEL_4029cb356cfc4191826110698c58ff63",
       "style": "IPY_MODEL_c80779ca61cd47848276c453e0fab16e",
       "value": "Bank of England policymakers warn of bigger risks for UK economy"
      }
     },
     "16552558e44541a9a1712b30c853b3f7": {
      "model_module": "@jupyter-widgets/controls",
      "model_module_version": "1.5.0",
      "model_name": "VBoxModel",
      "state": {
       "_dom_classes": [
        "widget-interact"
       ],
       "children": [
        "IPY_MODEL_53b51b25825e43f68335dd80740b52ff",
        "IPY_MODEL_aac54c899e844f17928abbe593da3acf",
        "IPY_MODEL_365a03b32e8343a1a653e91285a28d4e"
       ],
       "layout": "IPY_MODEL_4e4be52a288c4144af4c50315c848a16"
      }
     },
     "171111dd8dbf4f0892c7cc024a7b7a9e": {
      "model_module": "@jupyter-widgets/controls",
      "model_module_version": "1.5.0",
      "model_name": "TextModel",
      "state": {
       "description": "enter title",
       "layout": "IPY_MODEL_05851f0cffec45e6b44059e739affef8",
       "style": "IPY_MODEL_d0d720265dad4e3dbade49e1f1b7154c",
       "value": "Bank of England policymakers warn of bigger risks for UK economy"
      }
     },
     "1721e4382d264b5e92ba0209bb6c7bdb": {
      "model_module": "@jupyter-widgets/base",
      "model_module_version": "1.2.0",
      "model_name": "LayoutModel",
      "state": {}
     },
     "1748829b54e0453f9504b23aa57c14e5": {
      "model_module": "@jupyter-widgets/controls",
      "model_module_version": "1.5.0",
      "model_name": "DescriptionStyleModel",
      "state": {
       "description_width": ""
      }
     },
     "2c4d0483839b4b1c847109904922bf72": {
      "model_module": "@jupyter-widgets/controls",
      "model_module_version": "1.5.0",
      "model_name": "TextModel",
      "state": {
       "description": "enter title",
       "layout": "IPY_MODEL_5e939e20c4264ee289e2ca130dc291f2",
       "style": "IPY_MODEL_1748829b54e0453f9504b23aa57c14e5",
       "value": "UK economy extends recovery from COVID crash"
      }
     },
     "333b325c45b84c5a887364cba374ec79": {
      "model_module": "@jupyter-widgets/controls",
      "model_module_version": "1.5.0",
      "model_name": "VBoxModel",
      "state": {
       "_dom_classes": [
        "widget-interact"
       ],
       "children": [
        "IPY_MODEL_2c4d0483839b4b1c847109904922bf72",
        "IPY_MODEL_0708cefbe622451fa46a962408be7492",
        "IPY_MODEL_cde657db37fb4dd3ade0325e8fbeb4b5"
       ],
       "layout": "IPY_MODEL_5a1cf768cbf64ef09088ab5b9dba0325"
      }
     },
     "365a03b32e8343a1a653e91285a28d4e": {
      "model_module": "@jupyter-widgets/output",
      "model_module_version": "1.0.0",
      "model_name": "OutputModel",
      "state": {
       "layout": "IPY_MODEL_bbfd40e42d7d4cc0b5951f7d7927d7f8",
       "outputs": [
        {
         "data": {
          "text/plain": "[1654                                        UK economy extends recovery from COVID crash, growth seen fading\n 1704                             New COVID-19 wave must be prevented to support German economy: stats office\n 807                             Businesses working with slavery survivors in India seek ways to offset COVID\n 1619                                     UK economy might take years to recover from COVID hit-BoE's Vlieghe\n 1509                                               UK economy rebounding for now, as public borrowing mounts\n 1570                                        India coronavirus cases cross 3 million mark as economy opens up\n 1543                                  Spain's economy is already recovering from pandemic hit, minister says\n 1372                                                                           Stocks drop in choppy session\n 255                                   UK says always reviewing quarantine data, no comment on Portugal shift\n 700                                                 New York’s Reopened Museums: Where to Go and What to See\n 1554                                           German business morale brightens more than expected in August\n 1318                                                 Uber extends mask selfie verification feature to riders\n 512                                                                                 Is New York City ‘Over’?\n 757                      Trump's HHS Goons Smear CDC as 'Deep State,' Routinely Meddle with Covid-19 Reports\n 306                   U.S. consumer confidence at six-year low; underscores concerns about economic recovery\n 294                                         Australia's Woolworths says virus hits pubs, boosts supermarkets\n 1302                                         U.S. extends some China tariff exclusions only through year end\n 157                                UPDATE 2-TJX forecasts current-quarter comparable sales to drop up to 20%\n 207     Drinking bans are back in fashion during the Covid pandemic. But experts are wary of Prohibition 2.0\n 1228                                                           UPDATE 1-UK Stocks-Factors to watch on Aug 24\n Name: title, dtype: object,\n 1654                    https://www.reuters.com/article/health-coronavirus-britain-economy-idINKBN2620MS\n 1704                 https://www.reuters.com/article/us-health-coronavirus-germany-economy-idINKBN26613C\n 807                https://www.reuters.com/article/us-health-coronavirus-india-trafficking-idUSKCN25E1R7\n 1619                                 https://in.reuters.com/article/us-britain-boe-vlieghe-idINKBN25T261\n 1509                     https://www.reuters.com/article/healthcoronavirus-britain-economy-idUSL8N2FN2UX\n 1570                           https://www.reuters.com/article/us-health-coronavirus-india-idUSKBN25J0E4\n 1543                                         https://www.reuters.com/article/spain-economy-idUSE8N2BG019\n 1372                                                      https://uk.reuters.com/video/watch/idOVCUA40AZ\n 255                https://in.reuters.com/article/health-coronavirus-portugal-britain-quar-idINL8N2FY3VF\n 700              https://www.nytimes.com/2020/09/10/arts/design/new-york-museums-reopen-coronavirus.html\n 1554                                   https://www.reuters.com/article/germany-economy-ifo-idUSS8N27Z072\n 1318                             https://in.reuters.com/article/us-health-coronavirus-uber-idINKBN25S4Z5\n 512                           https://www.nytimes.com/2020/08/25/nyregion/nyc-coronavirus-reopening.html\n 757                https://gizmodo.com/trumps-hhs-goons-smear-cdc-as-deep-state-routinely-med-1845037621\n 306                                  https://in.reuters.com/article/us-usa-economy-housing-idINKBN25L1SC\n 294                                  https://in.reuters.com/article/woolworths-grp-results-idINL4N2FS4ER\n 1302                            https://www.reuters.com/article/us-usa-trade-china-tariffs-idUSKBN25S5CT\n 157                                             https://in.reuters.com/article/tjx-results-idINL4N2FL2UR\n 207     https://www.cnn.com/2020/08/31/health/drinking-bans-alcohol-coronavirus-wellness-intl/index.html\n 1228                                 https://uk.reuters.com/article/britain-stocks-factors-idUKL4N2FQ1KP\n Name: link, dtype: object]"
         },
         "metadata": {},
         "output_type": "display_data"
        }
       ]
      }
     },
     "38dd95f0a4a34bc6965b16fc80e4dae3": {
      "model_module": "@jupyter-widgets/controls",
      "model_module_version": "1.5.0",
      "model_name": "ButtonStyleModel",
      "state": {}
     },
     "4029cb356cfc4191826110698c58ff63": {
      "model_module": "@jupyter-widgets/base",
      "model_module_version": "1.2.0",
      "model_name": "LayoutModel",
      "state": {}
     },
     "405716ed358849678722c806db46dcb9": {
      "model_module": "@jupyter-widgets/base",
      "model_module_version": "1.2.0",
      "model_name": "LayoutModel",
      "state": {}
     },
     "49b67fd43a8b4b8c9df73b906f0ea075": {
      "model_module": "@jupyter-widgets/base",
      "model_module_version": "1.2.0",
      "model_name": "LayoutModel",
      "state": {}
     },
     "4e4be52a288c4144af4c50315c848a16": {
      "model_module": "@jupyter-widgets/base",
      "model_module_version": "1.2.0",
      "model_name": "LayoutModel",
      "state": {}
     },
     "53b51b25825e43f68335dd80740b52ff": {
      "model_module": "@jupyter-widgets/controls",
      "model_module_version": "1.5.0",
      "model_name": "TextModel",
      "state": {
       "description": "enter title",
       "layout": "IPY_MODEL_99a80b5dbefc4c4fac61ac957d5c5d9c",
       "style": "IPY_MODEL_5687c1980c5a410da460700d01b2f149",
       "value": "UK economy extends recovery from COVID crash"
      }
     },
     "5687c1980c5a410da460700d01b2f149": {
      "model_module": "@jupyter-widgets/controls",
      "model_module_version": "1.5.0",
      "model_name": "DescriptionStyleModel",
      "state": {
       "description_width": ""
      }
     },
     "57fe2fc5834b4388880857c667715347": {
      "model_module": "@jupyter-widgets/output",
      "model_module_version": "1.0.0",
      "model_name": "OutputModel",
      "state": {
       "layout": "IPY_MODEL_1721e4382d264b5e92ba0209bb6c7bdb",
       "outputs": [
        {
         "data": {
          "text/plain": "[1620                                      Bank of England policymakers warn UK economy facing bigger risks\n 1619                                   UK economy might take years to recover from COVID hit-BoE's Vlieghe\n 1717                                                       Bank of England gears up for next stimulus push\n 1526                             Britons a bit more upbeat on finances but worried about economy, GfK says\n 1654                                      UK economy extends recovery from COVID crash, growth seen fading\n 305                          UK's Sunak considers sweeping tax hikes to plug COVID-19 hole, newspapers say\n 1509                                             UK economy rebounding for now, as public borrowing mounts\n 1671                       Exclusive: BOJ to offer brighter view on economy as COVID crisis eases: sources\n 1426                                   Britain plans hiring spree to harness big data in pandemic recovery\n 1713                                  British business calls for green recovery, policies to meet net zero\n 1701                              BOJ holds fire, offers brighter view of economy as pandemic impact eases\n 1649                                                          UK economy extends recovery from COVID crash\n 1658                                                   ECB must keep up support for the economy - Villeroy\n 1634                                    Japan's second-quarter capex falls most in decade on pandemic blow\n 1688    German economic recovery to continue in second-half, third-quarter to show strong growth: ministry\n 1691                        German economic recovery to continue in H2, Q3 to show strong growth: ministry\n 1552                                 French central banker says any 2020 GDP forecast revision would be up\n 1613                               India's recovery to take time after economy shrinks 24% in June quarter\n 1202                                                  UK plans to drop 'Facebook tax', Mail on Sunday says\n 255                                 UK says always reviewing quarantine data, no comment on Portugal shift\n Name: title, dtype: object,\n 1620                                https://www.reuters.com/article/britain-boe-idUSL9N2ER032\n 1619                      https://in.reuters.com/article/us-britain-boe-vlieghe-idINKBN25T261\n 1717                             https://www.reuters.com/article/us-britain-boe-idUSKBN2673NS\n 1526          https://www.reuters.com/article/britain-economy-consumersentiment-idUSL8N2FM2YN\n 1654         https://www.reuters.com/article/health-coronavirus-britain-economy-idINKBN2620MS\n 305               https://in.reuters.com/article/health-coronavirus-britain-tax-idINL8N2FW03T\n 1509          https://www.reuters.com/article/healthcoronavirus-britain-economy-idUSL8N2FN2UX\n 1671                          https://www.reuters.com/article/japan-economy-boj-idUSL4N2G714U\n 1426                    https://uk.reuters.com/article/uk-britain-politics-data-idUKKBN25Z3CD\n 1713                  https://www.reuters.com/article/us-climate-change-britain-idUSKBN26410M\n 1701                 https://www.reuters.com/article/japan-economy-boj-decision-idUSKBN268090\n 1649                                          https://www.reuters.com/video/watch/idOVCV929AJ\n 1658                      https://uk.reuters.com/article/uk-ecb-policy-villeroy-idUKKBN2612WC\n 1634                      https://in.reuters.com/article/us-japan-economy-capex-idINKBN25S35N\n 1688                         https://www.reuters.com/article/us-germany-economy-idUKKBN2650ZK\n 1691                         https://www.reuters.com/article/us-germany-economy-idUSKBN2650ZK\n 1552                 https://www.reuters.com/article/us-france-economy-villeroy-idUSKBN25N2RE\n 1613                       https://www.reuters.com/article/us-india-economy-gdp-idUSKBN25R1MT\n 1202                         https://www.reuters.com/article/us-britain-usa-tax-idUSKBN25J09E\n 255     https://in.reuters.com/article/health-coronavirus-portugal-britain-quar-idINL8N2FY3VF\n Name: link, dtype: object]"
         },
         "metadata": {},
         "output_type": "display_data"
        }
       ]
      }
     },
     "5a1cf768cbf64ef09088ab5b9dba0325": {
      "model_module": "@jupyter-widgets/base",
      "model_module_version": "1.2.0",
      "model_name": "LayoutModel",
      "state": {}
     },
     "5e939e20c4264ee289e2ca130dc291f2": {
      "model_module": "@jupyter-widgets/base",
      "model_module_version": "1.2.0",
      "model_name": "LayoutModel",
      "state": {}
     },
     "5f65023e60e64d089145bab148e796a0": {
      "model_module": "@jupyter-widgets/controls",
      "model_module_version": "1.5.0",
      "model_name": "ButtonStyleModel",
      "state": {}
     },
     "6b4010eb2a4f47919b01681ea43342ad": {
      "model_module": "@jupyter-widgets/controls",
      "model_module_version": "1.5.0",
      "model_name": "VBoxModel",
      "state": {
       "_dom_classes": [
        "widget-interact"
       ],
       "children": [
        "IPY_MODEL_171111dd8dbf4f0892c7cc024a7b7a9e",
        "IPY_MODEL_7fe2ca4388c64577909599ea60bb6aea",
        "IPY_MODEL_080cd6c052334135826844b918f2122a"
       ],
       "layout": "IPY_MODEL_a707d7372fdf4a39b6a17ad467b3990a"
      }
     },
     "6d2dde9259a14a4faa81ce1239d480f2": {
      "model_module": "@jupyter-widgets/base",
      "model_module_version": "1.2.0",
      "model_name": "LayoutModel",
      "state": {}
     },
     "71284a42bca14e22a92f47339d9f8f74": {
      "model_module": "@jupyter-widgets/base",
      "model_module_version": "1.2.0",
      "model_name": "LayoutModel",
      "state": {}
     },
     "72b7d00e891b44669b636b8d1a3df412": {
      "model_module": "@jupyter-widgets/controls",
      "model_module_version": "1.5.0",
      "model_name": "ButtonStyleModel",
      "state": {}
     },
     "7fe2ca4388c64577909599ea60bb6aea": {
      "model_module": "@jupyter-widgets/controls",
      "model_module_version": "1.5.0",
      "model_name": "ButtonModel",
      "state": {
       "description": "find recommendations",
       "layout": "IPY_MODEL_6d2dde9259a14a4faa81ce1239d480f2",
       "style": "IPY_MODEL_5f65023e60e64d089145bab148e796a0"
      }
     },
     "92432b0ec8224105834427bf97081da0": {
      "model_module": "@jupyter-widgets/base",
      "model_module_version": "1.2.0",
      "model_name": "LayoutModel",
      "state": {}
     },
     "99a80b5dbefc4c4fac61ac957d5c5d9c": {
      "model_module": "@jupyter-widgets/base",
      "model_module_version": "1.2.0",
      "model_name": "LayoutModel",
      "state": {}
     },
     "a707d7372fdf4a39b6a17ad467b3990a": {
      "model_module": "@jupyter-widgets/base",
      "model_module_version": "1.2.0",
      "model_name": "LayoutModel",
      "state": {}
     },
     "aac54c899e844f17928abbe593da3acf": {
      "model_module": "@jupyter-widgets/controls",
      "model_module_version": "1.5.0",
      "model_name": "ButtonModel",
      "state": {
       "description": "find recommendations",
       "layout": "IPY_MODEL_405716ed358849678722c806db46dcb9",
       "style": "IPY_MODEL_72b7d00e891b44669b636b8d1a3df412"
      }
     },
     "b3ad575f02d84c46857131e17bfdb954": {
      "model_module": "@jupyter-widgets/base",
      "model_module_version": "1.2.0",
      "model_name": "LayoutModel",
      "state": {}
     },
     "bbfd40e42d7d4cc0b5951f7d7927d7f8": {
      "model_module": "@jupyter-widgets/base",
      "model_module_version": "1.2.0",
      "model_name": "LayoutModel",
      "state": {}
     },
     "bf99717c3de847e4a35ec051aaa4e7a8": {
      "model_module": "@jupyter-widgets/controls",
      "model_module_version": "1.5.0",
      "model_name": "ButtonModel",
      "state": {
       "description": "find recommendations",
       "layout": "IPY_MODEL_71284a42bca14e22a92f47339d9f8f74",
       "style": "IPY_MODEL_38dd95f0a4a34bc6965b16fc80e4dae3"
      }
     },
     "c80779ca61cd47848276c453e0fab16e": {
      "model_module": "@jupyter-widgets/controls",
      "model_module_version": "1.5.0",
      "model_name": "DescriptionStyleModel",
      "state": {
       "description_width": ""
      }
     },
     "cde657db37fb4dd3ade0325e8fbeb4b5": {
      "model_module": "@jupyter-widgets/output",
      "model_module_version": "1.0.0",
      "model_name": "OutputModel",
      "state": {
       "layout": "IPY_MODEL_49b67fd43a8b4b8c9df73b906f0ea075",
       "outputs": [
        {
         "data": {
          "text/plain": "[1654                                        UK economy extends recovery from COVID crash, growth seen fading\n 1704                             New COVID-19 wave must be prevented to support German economy: stats office\n 807                             Businesses working with slavery survivors in India seek ways to offset COVID\n 1619                                     UK economy might take years to recover from COVID hit-BoE's Vlieghe\n 1509                                               UK economy rebounding for now, as public borrowing mounts\n 1570                                        India coronavirus cases cross 3 million mark as economy opens up\n 1543                                  Spain's economy is already recovering from pandemic hit, minister says\n 1372                                                                           Stocks drop in choppy session\n 255                                   UK says always reviewing quarantine data, no comment on Portugal shift\n 700                                                 New York’s Reopened Museums: Where to Go and What to See\n 1554                                           German business morale brightens more than expected in August\n 1318                                                 Uber extends mask selfie verification feature to riders\n 512                                                                                 Is New York City ‘Over’?\n 757                      Trump's HHS Goons Smear CDC as 'Deep State,' Routinely Meddle with Covid-19 Reports\n 306                   U.S. consumer confidence at six-year low; underscores concerns about economic recovery\n 294                                         Australia's Woolworths says virus hits pubs, boosts supermarkets\n 1302                                         U.S. extends some China tariff exclusions only through year end\n 157                                UPDATE 2-TJX forecasts current-quarter comparable sales to drop up to 20%\n 207     Drinking bans are back in fashion during the Covid pandemic. But experts are wary of Prohibition 2.0\n 1228                                                           UPDATE 1-UK Stocks-Factors to watch on Aug 24\n Name: title, dtype: object,\n 1654                    https://www.reuters.com/article/health-coronavirus-britain-economy-idINKBN2620MS\n 1704                 https://www.reuters.com/article/us-health-coronavirus-germany-economy-idINKBN26613C\n 807                https://www.reuters.com/article/us-health-coronavirus-india-trafficking-idUSKCN25E1R7\n 1619                                 https://in.reuters.com/article/us-britain-boe-vlieghe-idINKBN25T261\n 1509                     https://www.reuters.com/article/healthcoronavirus-britain-economy-idUSL8N2FN2UX\n 1570                           https://www.reuters.com/article/us-health-coronavirus-india-idUSKBN25J0E4\n 1543                                         https://www.reuters.com/article/spain-economy-idUSE8N2BG019\n 1372                                                      https://uk.reuters.com/video/watch/idOVCUA40AZ\n 255                https://in.reuters.com/article/health-coronavirus-portugal-britain-quar-idINL8N2FY3VF\n 700              https://www.nytimes.com/2020/09/10/arts/design/new-york-museums-reopen-coronavirus.html\n 1554                                   https://www.reuters.com/article/germany-economy-ifo-idUSS8N27Z072\n 1318                             https://in.reuters.com/article/us-health-coronavirus-uber-idINKBN25S4Z5\n 512                           https://www.nytimes.com/2020/08/25/nyregion/nyc-coronavirus-reopening.html\n 757                https://gizmodo.com/trumps-hhs-goons-smear-cdc-as-deep-state-routinely-med-1845037621\n 306                                  https://in.reuters.com/article/us-usa-economy-housing-idINKBN25L1SC\n 294                                  https://in.reuters.com/article/woolworths-grp-results-idINL4N2FS4ER\n 1302                            https://www.reuters.com/article/us-usa-trade-china-tariffs-idUSKBN25S5CT\n 157                                             https://in.reuters.com/article/tjx-results-idINL4N2FL2UR\n 207     https://www.cnn.com/2020/08/31/health/drinking-bans-alcohol-coronavirus-wellness-intl/index.html\n 1228                                 https://uk.reuters.com/article/britain-stocks-factors-idUKL4N2FQ1KP\n Name: link, dtype: object]"
         },
         "metadata": {},
         "output_type": "display_data"
        }
       ]
      }
     },
     "d0d720265dad4e3dbade49e1f1b7154c": {
      "model_module": "@jupyter-widgets/controls",
      "model_module_version": "1.5.0",
      "model_name": "DescriptionStyleModel",
      "state": {
       "description_width": ""
      }
     },
     "d168225d1f7d4835a42886031d31e821": {
      "model_module": "@jupyter-widgets/controls",
      "model_module_version": "1.5.0",
      "model_name": "VBoxModel",
      "state": {
       "_dom_classes": [
        "widget-interact"
       ],
       "children": [
        "IPY_MODEL_0d544d8edefd42d687e012b79a3a05af",
        "IPY_MODEL_bf99717c3de847e4a35ec051aaa4e7a8",
        "IPY_MODEL_57fe2fc5834b4388880857c667715347"
       ],
       "layout": "IPY_MODEL_b3ad575f02d84c46857131e17bfdb954"
      }
     },
     "e1fbd121c0b4417f9eedf3519ea5a6dc": {
      "model_module": "@jupyter-widgets/base",
      "model_module_version": "1.2.0",
      "model_name": "LayoutModel",
      "state": {}
     }
    },
    "version_major": 2,
    "version_minor": 0
   }
  }
 },
 "nbformat": 4,
 "nbformat_minor": 5
}
