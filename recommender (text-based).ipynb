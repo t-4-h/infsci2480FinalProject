{
 "cells": [
  {
   "cell_type": "code",
   "execution_count": 1,
   "id": "faf7c044",
   "metadata": {},
   "outputs": [],
   "source": [
    "import pandas as pd\n",
    "import numpy as np\n",
    "import matplotlib as plt\n",
    "from sklearn.feature_extraction.text import TfidfVectorizer\n",
    "from sklearn.metrics.pairwise import cosine_similarity\n",
    "import ipywidgets as widgets\n",
    "from __future__ import print_function\n",
    "from ipywidgets import interact, interactive, fixed, interact_manual\n",
    "from ipywidgets import HBox, VBox\n",
    "from IPython.display import display\n",
    "from nltk.corpus import stopwords\n",
    "from nltk.tokenize import RegexpTokenizer\n",
    "import re\n",
    "import string\n",
    "import random\n",
    "%matplotlib inline\n",
    "pd.set_option('display.max_colwidth', None)"
   ]
  },
  {
   "cell_type": "code",
   "execution_count": 2,
   "id": "dbbb914e",
   "metadata": {},
   "outputs": [],
   "source": [
    "df = pd.read_csv('newsData.csv')"
   ]
  },
  {
   "cell_type": "markdown",
   "id": "b0fb7b03",
   "metadata": {},
   "source": [
    "### Text cleaning (remove special characters)"
   ]
  },
  {
   "cell_type": "code",
   "execution_count": 4,
   "id": "dd38e65c-fd1a-4496-b46a-8c739af1d770",
   "metadata": {},
   "outputs": [],
   "source": [
    "# Function for converting into lower case\n",
    "def make_lower_case(text):\n",
    "    return text.lower()\n",
    "\n",
    "\n",
    "# Function for removing punctuation\n",
    "def remove_punctuation(text):\n",
    "    tokenizer = RegexpTokenizer(r'\\w+')\n",
    "    text = tokenizer.tokenize(text)\n",
    "    text = \" \".join(text)\n",
    "    return text\n",
    "\n",
    "# Function for removing the html tags\n",
    "def remove_html(text):\n",
    "    html_pattern = re.compile('<.*?>')\n",
    "    return html_pattern.sub(r'', text)\n",
    "\n",
    "# Applying all the functions in description and storing as \"cleaned\"\n",
    "df['cleaned'] = df['text'].apply(func = make_lower_case)\n",
    "df['cleaned'] = df.cleaned.apply(func=remove_punctuation)\n",
    "df['cleaned'] = df.cleaned.apply(func=remove_html)"
   ]
  },
  {
   "cell_type": "markdown",
   "id": "3931275f",
   "metadata": {},
   "source": [
    "### create tfidf matrix using sklearn TfidfVectorizer \n",
    "max_df = 0.8 (ignores overused words - not helpful), ngram range 1-3, min document freq = 0"
   ]
  },
  {
   "cell_type": "code",
   "execution_count": 28,
   "id": "4b36ed3e",
   "metadata": {},
   "outputs": [],
   "source": [
    "tf = TfidfVectorizer(analyzer='word',ngram_range=(1, 3),max_df=0.8, min_df=0, stop_words='english')"
   ]
  },
  {
   "cell_type": "code",
   "execution_count": 29,
   "id": "27c151eb",
   "metadata": {},
   "outputs": [
    {
     "data": {
      "text/plain": [
       "(1720, 1023226)"
      ]
     },
     "execution_count": 29,
     "metadata": {},
     "output_type": "execute_result"
    }
   ],
   "source": [
    "matrix = tf.fit_transform(df['cleaned'])\n",
    "##show matrix dimensions\n",
    "matrix.shape"
   ]
  },
  {
   "cell_type": "markdown",
   "id": "f4bd35e4-b188-4f1b-89b6-774d3a89ec5e",
   "metadata": {},
   "source": [
    "min document freq = 0.01"
   ]
  },
  {
   "cell_type": "code",
   "execution_count": 25,
   "id": "3f3c6b5b-2f31-42b9-8258-ad59f5b4638e",
   "metadata": {},
   "outputs": [],
   "source": [
    "tf2 = TfidfVectorizer(analyzer='word',ngram_range=(1, 3),max_df=0.8, min_df=0.01, stop_words='english')"
   ]
  },
  {
   "cell_type": "code",
   "execution_count": 26,
   "id": "56b44858-7d18-4bea-a3b9-85507f857069",
   "metadata": {},
   "outputs": [
    {
     "data": {
      "text/plain": [
       "(1720, 4705)"
      ]
     },
     "execution_count": 26,
     "metadata": {},
     "output_type": "execute_result"
    }
   ],
   "source": [
    "matrix2 = tf2.fit_transform(df['cleaned'])\n",
    "##show matrix dimensions\n",
    "matrix2.shape"
   ]
  },
  {
   "cell_type": "markdown",
   "id": "4936a244-28bc-4035-9a43-0c9830d5abf4",
   "metadata": {},
   "source": [
    "min document freq = 0.02"
   ]
  },
  {
   "cell_type": "code",
   "execution_count": 23,
   "id": "6fb43874-752b-4929-8cb7-e607832bb028",
   "metadata": {},
   "outputs": [],
   "source": [
    "tf3 = TfidfVectorizer(analyzer='word',ngram_range=(1, 3),max_df=0.8, min_df=0.02, stop_words='english')"
   ]
  },
  {
   "cell_type": "code",
   "execution_count": 24,
   "id": "7f122822-86ce-4190-959a-70f41bc6ac9c",
   "metadata": {},
   "outputs": [
    {
     "data": {
      "text/plain": [
       "(1720, 2546)"
      ]
     },
     "execution_count": 24,
     "metadata": {},
     "output_type": "execute_result"
    }
   ],
   "source": [
    "matrix3 = tf3.fit_transform(df['cleaned'])\n",
    "##show matrix dimensions\n",
    "matrix3.shape"
   ]
  },
  {
   "cell_type": "markdown",
   "id": "9c9f55dc-b00a-41e9-ab15-b75f6aeea3b6",
   "metadata": {},
   "source": [
    "create tfidf matrix using sklearn TfidfVectorizer - (min document freq = 0.1)"
   ]
  },
  {
   "cell_type": "code",
   "execution_count": 19,
   "id": "5ed6d2b5-9e86-4e41-b73f-096d92859a41",
   "metadata": {},
   "outputs": [],
   "source": [
    "tf4 = TfidfVectorizer(analyzer='word',ngram_range=(1, 3),max_df=0.8, min_df=0.1, stop_words='english')"
   ]
  },
  {
   "cell_type": "code",
   "execution_count": 20,
   "id": "94782ae7-cbcb-4497-a07b-baddf7e3a772",
   "metadata": {},
   "outputs": [
    {
     "data": {
      "text/plain": [
       "(1720, 321)"
      ]
     },
     "execution_count": 20,
     "metadata": {},
     "output_type": "execute_result"
    }
   ],
   "source": [
    "matrix4 = tf4.fit_transform(df['cleaned'])\n",
    "##show matrix dimensions\n",
    "matrix4.shape"
   ]
  },
  {
   "cell_type": "markdown",
   "id": "90f3b1cc",
   "metadata": {},
   "source": [
    "### find cosine similarity using sklearn cosine_similarity"
   ]
  },
  {
   "cell_type": "markdown",
   "id": "8cb46b47-d59c-4838-9940-3fab749c6521",
   "metadata": {},
   "source": [
    "min document freq = 0.0"
   ]
  },
  {
   "cell_type": "code",
   "execution_count": 30,
   "id": "1982a9e8",
   "metadata": {},
   "outputs": [
    {
     "data": {
      "text/plain": [
       "array([[1.        , 0.06880661, 0.01339282, 0.03519993, 0.01280378,\n",
       "        0.03945928, 0.02100663, 0.01491427, 0.02682117, 0.0299798 ],\n",
       "       [0.06880661, 1.        , 0.02662433, 0.07078183, 0.02578568,\n",
       "        0.13277196, 0.04641155, 0.03960896, 0.05256381, 0.06091471],\n",
       "       [0.01339282, 0.02662433, 1.        , 0.02027867, 0.00837577,\n",
       "        0.01316197, 0.01436022, 0.00857093, 0.01848081, 0.01110879],\n",
       "       [0.03519993, 0.07078183, 0.02027867, 1.        , 0.01456893,\n",
       "        0.03787778, 0.04374385, 0.05828577, 0.05494052, 0.05130178],\n",
       "       [0.01280378, 0.02578568, 0.00837577, 0.01456893, 1.        ,\n",
       "        0.02145459, 0.01095427, 0.0140804 , 0.01076846, 0.01222504],\n",
       "       [0.03945928, 0.13277196, 0.01316197, 0.03787778, 0.02145459,\n",
       "        1.        , 0.02894496, 0.03477358, 0.06758499, 0.0645916 ],\n",
       "       [0.02100663, 0.04641155, 0.01436022, 0.04374385, 0.01095427,\n",
       "        0.02894496, 1.        , 0.02564241, 0.03241848, 0.03557593],\n",
       "       [0.01491427, 0.03960896, 0.00857093, 0.05828577, 0.0140804 ,\n",
       "        0.03477358, 0.02564241, 1.        , 0.03592482, 0.04140142],\n",
       "       [0.02682117, 0.05256381, 0.01848081, 0.05494052, 0.01076846,\n",
       "        0.06758499, 0.03241848, 0.03592482, 1.        , 0.21752032],\n",
       "       [0.0299798 , 0.06091471, 0.01110879, 0.05130178, 0.01222504,\n",
       "        0.0645916 , 0.03557593, 0.04140142, 0.21752032, 1.        ]])"
      ]
     },
     "execution_count": 30,
     "metadata": {},
     "output_type": "execute_result"
    }
   ],
   "source": [
    "cosSim= cosine_similarity(matrix, matrix)\n",
    "##show sample of cosine similarity array\n",
    "cosSim[:10, :10]"
   ]
  },
  {
   "cell_type": "markdown",
   "id": "556f3efc-fbe0-4cda-9187-3af1d35dc340",
   "metadata": {},
   "source": [
    "min document freq = 0.01"
   ]
  },
  {
   "cell_type": "code",
   "execution_count": 35,
   "id": "afdcbbce-1f31-46e0-a9f6-87be3d625f6d",
   "metadata": {},
   "outputs": [
    {
     "data": {
      "text/plain": [
       "array([[1.        , 0.30505936, 0.0656685 , 0.24799205, 0.09311692,\n",
       "        0.18504195, 0.15462122, 0.12583555, 0.16716745, 0.16579324],\n",
       "       [0.30505936, 1.        , 0.09965509, 0.36721666, 0.15070892,\n",
       "        0.39200468, 0.24345122, 0.20887752, 0.25975741, 0.26401425],\n",
       "       [0.0656685 , 0.09965509, 1.        , 0.0936003 , 0.0451685 ,\n",
       "        0.04876283, 0.07628341, 0.05362285, 0.08322409, 0.05170567],\n",
       "       [0.24799205, 0.36721666, 0.0936003 , 1.        , 0.11288847,\n",
       "        0.19516325, 0.28900596, 0.32078615, 0.34083782, 0.31967299],\n",
       "       [0.09311692, 0.15070892, 0.0451685 , 0.11288847, 1.        ,\n",
       "        0.11768203, 0.08867926, 0.13065983, 0.07567915, 0.09472805],\n",
       "       [0.18504195, 0.39200468, 0.04876283, 0.19516325, 0.11768203,\n",
       "        1.        , 0.16849977, 0.15129127, 0.19802937, 0.20436147],\n",
       "       [0.15462122, 0.24345122, 0.07628341, 0.28900596, 0.08867926,\n",
       "        0.16849977, 1.        , 0.22489324, 0.22782226, 0.25869016],\n",
       "       [0.12583555, 0.20887752, 0.05362285, 0.32078615, 0.13065983,\n",
       "        0.15129127, 0.22489324, 1.        , 0.25579228, 0.29426138],\n",
       "       [0.16716745, 0.25975741, 0.08322409, 0.34083782, 0.07567915,\n",
       "        0.19802937, 0.22782226, 0.25579228, 1.        , 0.45377887],\n",
       "       [0.16579324, 0.26401425, 0.05170567, 0.31967299, 0.09472805,\n",
       "        0.20436147, 0.25869016, 0.29426138, 0.45377887, 1.        ]])"
      ]
     },
     "execution_count": 35,
     "metadata": {},
     "output_type": "execute_result"
    }
   ],
   "source": [
    "cosSim2= cosine_similarity(matrix2, matrix2)\n",
    "##show sample of cosine similarity array\n",
    "cosSim2[:10, :10]"
   ]
  },
  {
   "cell_type": "markdown",
   "id": "f78cdc75-b7f9-4180-bfff-abf596a7de49",
   "metadata": {},
   "source": [
    "min document freq = 0.02"
   ]
  },
  {
   "cell_type": "code",
   "execution_count": 34,
   "id": "76ba11fc-6961-4061-94f4-08ada983a99b",
   "metadata": {},
   "outputs": [
    {
     "data": {
      "text/plain": [
       "array([[1.        , 0.35747672, 0.08055533, 0.31276858, 0.13564879,\n",
       "        0.25902813, 0.2031346 , 0.15672031, 0.20438778, 0.22315506],\n",
       "       [0.35747672, 1.        , 0.10597623, 0.40097926, 0.18447785,\n",
       "        0.47995665, 0.26980388, 0.22590872, 0.28734823, 0.29643917],\n",
       "       [0.08055533, 0.10597623, 1.        , 0.09659528, 0.05244029,\n",
       "        0.05904306, 0.08390779, 0.05981697, 0.0798675 , 0.05826872],\n",
       "       [0.31276858, 0.40097926, 0.09659528, 1.        , 0.14136134,\n",
       "        0.23845456, 0.32022135, 0.34650285, 0.38680462, 0.36008027],\n",
       "       [0.13564879, 0.18447785, 0.05244029, 0.14136134, 1.        ,\n",
       "        0.16476722, 0.11279112, 0.16135931, 0.09826678, 0.12344018],\n",
       "       [0.25902813, 0.47995665, 0.05904306, 0.23845456, 0.16476722,\n",
       "        1.        , 0.19210005, 0.1937333 , 0.24009762, 0.25208536],\n",
       "       [0.2031346 , 0.26980388, 0.08390779, 0.32022135, 0.11279112,\n",
       "        0.19210005, 1.        , 0.25370296, 0.26678052, 0.29621404],\n",
       "       [0.15672031, 0.22590872, 0.05981697, 0.34650285, 0.16135931,\n",
       "        0.1937333 , 0.25370296, 1.        , 0.29889561, 0.32239784],\n",
       "       [0.20438778, 0.28734823, 0.0798675 , 0.38680462, 0.09826678,\n",
       "        0.24009762, 0.26678052, 0.29889561, 1.        , 0.50543027],\n",
       "       [0.22315506, 0.29643917, 0.05826872, 0.36008027, 0.12344018,\n",
       "        0.25208536, 0.29621404, 0.32239784, 0.50543027, 1.        ]])"
      ]
     },
     "execution_count": 34,
     "metadata": {},
     "output_type": "execute_result"
    }
   ],
   "source": [
    "cosSim3= cosine_similarity(matrix3, matrix3)\n",
    "##show sample of cosine similarity array\n",
    "cosSim3[:10, :10]"
   ]
  },
  {
   "cell_type": "code",
   "execution_count": 33,
   "id": "e3d62b41",
   "metadata": {},
   "outputs": [
    {
     "data": {
      "text/plain": [
       "title\n",
       "Indian telecom giant Vodafone Idea rebrands as ‘Vi’ – TechCrunch                                                      0\n",
       "Facebook addresses political controversy in India, monetization opportunities, startup investments – TechCrunch       1\n",
       "YouTube launches its TikTok rival, YouTube Shorts, initially in India – TechCrunch                                    2\n",
       "Groww, an investment app for millennials in India, raises $30M led by YC Continuity – TechCrunch                      3\n",
       "LanzaTech is developing a small-scale waste biomass gasifier for ethanol production in India – TechCrunch             4\n",
       "                                                                                                                   ... \n",
       "Europe's electricity could be 80% fossil fuel-free by 2030: industry group                                         1715\n",
       "Brazil's Guedes finds influence waning as Bolsonaro takes up spending reins                                        1716\n",
       "Bank of England gears up for next stimulus push                                                                    1717\n",
       "Syria says U.S. sanctions behind acute fuel crisis                                                                 1718\n",
       "METALS-LME copper falls most in seven sessions on stronger dollar                                                  1719\n",
       "Length: 1720, dtype: int64"
      ]
     },
     "execution_count": 33,
     "metadata": {},
     "output_type": "execute_result"
    }
   ],
   "source": [
    "titles = df['title']\n",
    "link = df['link']\n",
    "indices = pd.Series(df.index, index=df['title'])\n",
    "indices"
   ]
  },
  {
   "cell_type": "code",
   "execution_count": 39,
   "id": "127ed901",
   "metadata": {},
   "outputs": [],
   "source": [
    "def recommender(title):\n",
    "\n",
    "    idx = indices[title]\n",
    "    similarity = list(enumerate(cosSim[idx]))\n",
    "    similarity = sorted(similarity, key=lambda x: x[1], reverse=True)\n",
    "    similarity = similarity[1:21]\n",
    "    news_indices = [i[0] for i in similarity]\n",
    "    newsTitle = titles.iloc[news_indices]\n",
    "    newsLink = link.iloc[news_indices]\n",
    "    return [newsTitle, newsLink]"
   ]
  },
  {
   "cell_type": "code",
   "execution_count": 40,
   "id": "8c14df33-1f85-492c-8588-8da988df10f6",
   "metadata": {},
   "outputs": [],
   "source": [
    "def recommender2(title):\n",
    "\n",
    "    idx = indices[title]\n",
    "    similarity = list(enumerate(cosSim2[idx]))\n",
    "    similarity = sorted(similarity, key=lambda x: x[1], reverse=True)\n",
    "    similarity = similarity[1:21]\n",
    "    news_indices = [i[0] for i in similarity]\n",
    "    newsTitle = titles.iloc[news_indices]\n",
    "    newsLink = link.iloc[news_indices]\n",
    "    return [newsTitle, newsLink]"
   ]
  },
  {
   "cell_type": "code",
   "execution_count": 41,
   "id": "596f7aff-8029-4c74-ba94-b8c950757dff",
   "metadata": {},
   "outputs": [],
   "source": [
    "def recommender3(title):\n",
    "\n",
    "    idx = indices[title]\n",
    "    similarity = list(enumerate(cosSim3[idx]))\n",
    "    similarity = sorted(similarity, key=lambda x: x[1], reverse=True)\n",
    "    similarity = similarity[1:21]\n",
    "    news_indices = [i[0] for i in similarity]\n",
    "    newsTitle = titles.iloc[news_indices]\n",
    "    newsLink = link.iloc[news_indices]\n",
    "    return [newsTitle, newsLink]"
   ]
  },
  {
   "cell_type": "markdown",
   "id": "fae024a2-9e6a-4aa7-86d8-4af04a8d1a0a",
   "metadata": {},
   "source": [
    "### test recommenders"
   ]
  },
  {
   "cell_type": "code",
   "execution_count": 37,
   "id": "a6d2c729",
   "metadata": {},
   "outputs": [
    {
     "data": {
      "text/plain": [
       "[1600                            Bank of England policymakers warn of bigger risks for UK economy\n",
       " 1620                            Bank of England policymakers warn UK economy facing bigger risks\n",
       " 1619                         UK economy might take years to recover from COVID hit-BoE's Vlieghe\n",
       " 1654                            UK economy extends recovery from COVID crash, growth seen fading\n",
       " 1652                                              ECB sees \"strong rebound\" signs, monitoring FX\n",
       " 1701                    BOJ holds fire, offers brighter view of economy as pandemic impact eases\n",
       " 1604              Australia's central bank has limited options as economy sinks into steep slump\n",
       " 1707         Taiwan central bank likely to stand pat as economy weathers pandemic - Reuters poll\n",
       " 1552                       French central banker says any 2020 GDP forecast revision would be up\n",
       " 1633                    UPDATE 1-Australia central bank holds rates, expands bank funding scheme\n",
       " 1684                       Australia central bank policy measures working as expected - official\n",
       " 1671             Exclusive: BOJ to offer brighter view on economy as COVID crisis eases: sources\n",
       " 1615                  Russia to cut rates in 2020, helping economy to grow in 2021: Reuters Poll\n",
       " 1459    Wall Street Weekahead: Fed meeting in focus as stocks wobble and coronavirus bill stalls\n",
       " 1631                      Australia central bank expands low-cost funding as dire GDP data looms\n",
       " 1458    RPT-Wall St Week Ahead-Fed meeting in focus as stocks wobble and coronavirus bill stalls\n",
       " 217                                                         Morning News Call - India, August 31\n",
       " 1526                   Britons a bit more upbeat on finances but worried about economy, GfK says\n",
       " 129                                                         Morning News Call - India, August 21\n",
       " 281                                                         Morning News Call - India, August 28\n",
       " Name: title, dtype: object,\n",
       " 1600                           https://www.reuters.com/article/britain-boe-idUSL8N2FZ41G\n",
       " 1620                           https://www.reuters.com/article/britain-boe-idUSL9N2ER032\n",
       " 1619                 https://in.reuters.com/article/us-britain-boe-vlieghe-idINKBN25T261\n",
       " 1654    https://www.reuters.com/article/health-coronavirus-britain-economy-idINKBN2620MS\n",
       " 1652             https://www.reuters.com/article/us-europe-ecb-instantview-idUSKBN261288\n",
       " 1701            https://www.reuters.com/article/japan-economy-boj-decision-idUSKBN268090\n",
       " 1604                 https://www.reuters.com/article/australia-economy-rba-idUSL4N2FY29G\n",
       " 1707         https://www.reuters.com/article/taiwan-economy-rates-poll-int-idUSKBN2650Z9\n",
       " 1552            https://www.reuters.com/article/us-france-economy-villeroy-idUSKBN25N2RE\n",
       " 1633               https://www.reuters.com/article/australia-economy-rates-idUSL4N2FY1EP\n",
       " 1684             https://www.reuters.com/article/australia-economy-rba-int-idUSKBN26807S\n",
       " 1671                     https://www.reuters.com/article/japan-economy-boj-idUSL4N2G714U\n",
       " 1615                https://www.reuters.com/article/us-russia-economy-poll-idUSKBN25R1UI\n",
       " 1459               https://www.reuters.com/article/us-usa-stocks-weekahead-idUSKBN2622QJ\n",
       " 1631               https://www.reuters.com/article/australia-economy-rates-idUSL4N2FY1GN\n",
       " 1458                  https://www.reuters.com/article/usa-stocks-weekahead-idUKL1N2G819T\n",
       " 217                       https://in.reuters.com/article/india-morningcall-idINL4N2FX0FM\n",
       " 1526     https://www.reuters.com/article/britain-economy-consumersentiment-idUSL8N2FM2YN\n",
       " 129                       https://in.reuters.com/article/india-morningcall-idINL4N2FN08R\n",
       " 281                       https://in.reuters.com/article/india-morningcall-idINL4N2FU08N\n",
       " Name: link, dtype: object]"
      ]
     },
     "execution_count": 37,
     "metadata": {},
     "output_type": "execute_result"
    }
   ],
   "source": [
    "recommender('Bank of England gears up for next stimulus push')"
   ]
  },
  {
   "cell_type": "code",
   "execution_count": 42,
   "id": "31de1bc1-1933-4325-b63a-22d98233343a",
   "metadata": {},
   "outputs": [
    {
     "data": {
      "text/plain": [
       "[1600                            Bank of England policymakers warn of bigger risks for UK economy\n",
       " 1619                         UK economy might take years to recover from COVID hit-BoE's Vlieghe\n",
       " 1620                            Bank of England policymakers warn UK economy facing bigger risks\n",
       " 1654                            UK economy extends recovery from COVID crash, growth seen fading\n",
       " 1652                                              ECB sees \"strong rebound\" signs, monitoring FX\n",
       " 1552                       French central banker says any 2020 GDP forecast revision would be up\n",
       " 1701                    BOJ holds fire, offers brighter view of economy as pandemic impact eases\n",
       " 1604              Australia's central bank has limited options as economy sinks into steep slump\n",
       " 1633                    UPDATE 1-Australia central bank holds rates, expands bank funding scheme\n",
       " 1658                                         ECB must keep up support for the economy - Villeroy\n",
       " 1684                       Australia central bank policy measures working as expected - official\n",
       " 1526                   Britons a bit more upbeat on finances but worried about economy, GfK says\n",
       " 217                                                         Morning News Call - India, August 31\n",
       " 1631                      Australia central bank expands low-cost funding as dire GDP data looms\n",
       " 1671             Exclusive: BOJ to offer brighter view on economy as COVID crisis eases: sources\n",
       " 1615                  Russia to cut rates in 2020, helping economy to grow in 2021: Reuters Poll\n",
       " 1518                                       Buoyant Indian stock markets to correct: RBI governor\n",
       " 1458    RPT-Wall St Week Ahead-Fed meeting in focus as stocks wobble and coronavirus bill stalls\n",
       " 1707         Taiwan central bank likely to stand pat as economy weathers pandemic - Reuters poll\n",
       " 1459    Wall Street Weekahead: Fed meeting in focus as stocks wobble and coronavirus bill stalls\n",
       " Name: title, dtype: object,\n",
       " 1600                           https://www.reuters.com/article/britain-boe-idUSL8N2FZ41G\n",
       " 1619                 https://in.reuters.com/article/us-britain-boe-vlieghe-idINKBN25T261\n",
       " 1620                           https://www.reuters.com/article/britain-boe-idUSL9N2ER032\n",
       " 1654    https://www.reuters.com/article/health-coronavirus-britain-economy-idINKBN2620MS\n",
       " 1652             https://www.reuters.com/article/us-europe-ecb-instantview-idUSKBN261288\n",
       " 1552            https://www.reuters.com/article/us-france-economy-villeroy-idUSKBN25N2RE\n",
       " 1701            https://www.reuters.com/article/japan-economy-boj-decision-idUSKBN268090\n",
       " 1604                 https://www.reuters.com/article/australia-economy-rba-idUSL4N2FY29G\n",
       " 1633               https://www.reuters.com/article/australia-economy-rates-idUSL4N2FY1EP\n",
       " 1658                 https://uk.reuters.com/article/uk-ecb-policy-villeroy-idUKKBN2612WC\n",
       " 1684             https://www.reuters.com/article/australia-economy-rba-int-idUSKBN26807S\n",
       " 1526     https://www.reuters.com/article/britain-economy-consumersentiment-idUSL8N2FM2YN\n",
       " 217                       https://in.reuters.com/article/india-morningcall-idINL4N2FX0FM\n",
       " 1631               https://www.reuters.com/article/australia-economy-rates-idUSL4N2FY1GN\n",
       " 1671                     https://www.reuters.com/article/japan-economy-boj-idUSL4N2G714U\n",
       " 1615                https://www.reuters.com/article/us-russia-economy-poll-idUSKBN25R1UI\n",
       " 1518                              https://in.reuters.com/article/india-rbi-idINKBN25H2EJ\n",
       " 1458                  https://www.reuters.com/article/usa-stocks-weekahead-idUKL1N2G819T\n",
       " 1707         https://www.reuters.com/article/taiwan-economy-rates-poll-int-idUSKBN2650Z9\n",
       " 1459               https://www.reuters.com/article/us-usa-stocks-weekahead-idUSKBN2622QJ\n",
       " Name: link, dtype: object]"
      ]
     },
     "execution_count": 42,
     "metadata": {},
     "output_type": "execute_result"
    }
   ],
   "source": [
    "recommender2('Bank of England gears up for next stimulus push')"
   ]
  },
  {
   "cell_type": "code",
   "execution_count": 43,
   "id": "9f8462cc-a14e-44ea-8acf-13b685883319",
   "metadata": {},
   "outputs": [
    {
     "data": {
      "text/plain": [
       "[1600                            Bank of England policymakers warn of bigger risks for UK economy\n",
       " 1652                                              ECB sees \"strong rebound\" signs, monitoring FX\n",
       " 1620                            Bank of England policymakers warn UK economy facing bigger risks\n",
       " 1619                         UK economy might take years to recover from COVID hit-BoE's Vlieghe\n",
       " 1654                            UK economy extends recovery from COVID crash, growth seen fading\n",
       " 1552                       French central banker says any 2020 GDP forecast revision would be up\n",
       " 1701                    BOJ holds fire, offers brighter view of economy as pandemic impact eases\n",
       " 1604              Australia's central bank has limited options as economy sinks into steep slump\n",
       " 1707         Taiwan central bank likely to stand pat as economy weathers pandemic - Reuters poll\n",
       " 1633                    UPDATE 1-Australia central bank holds rates, expands bank funding scheme\n",
       " 1658                                         ECB must keep up support for the economy - Villeroy\n",
       " 1684                       Australia central bank policy measures working as expected - official\n",
       " 1458    RPT-Wall St Week Ahead-Fed meeting in focus as stocks wobble and coronavirus bill stalls\n",
       " 1459    Wall Street Weekahead: Fed meeting in focus as stocks wobble and coronavirus bill stalls\n",
       " 217                                                         Morning News Call - India, August 31\n",
       " 1526                   Britons a bit more upbeat on finances but worried about economy, GfK says\n",
       " 1631                      Australia central bank expands low-cost funding as dire GDP data looms\n",
       " 1518                                       Buoyant Indian stock markets to correct: RBI governor\n",
       " 1671             Exclusive: BOJ to offer brighter view on economy as COVID crisis eases: sources\n",
       " 281                                                         Morning News Call - India, August 28\n",
       " Name: title, dtype: object,\n",
       " 1600                           https://www.reuters.com/article/britain-boe-idUSL8N2FZ41G\n",
       " 1652             https://www.reuters.com/article/us-europe-ecb-instantview-idUSKBN261288\n",
       " 1620                           https://www.reuters.com/article/britain-boe-idUSL9N2ER032\n",
       " 1619                 https://in.reuters.com/article/us-britain-boe-vlieghe-idINKBN25T261\n",
       " 1654    https://www.reuters.com/article/health-coronavirus-britain-economy-idINKBN2620MS\n",
       " 1552            https://www.reuters.com/article/us-france-economy-villeroy-idUSKBN25N2RE\n",
       " 1701            https://www.reuters.com/article/japan-economy-boj-decision-idUSKBN268090\n",
       " 1604                 https://www.reuters.com/article/australia-economy-rba-idUSL4N2FY29G\n",
       " 1707         https://www.reuters.com/article/taiwan-economy-rates-poll-int-idUSKBN2650Z9\n",
       " 1633               https://www.reuters.com/article/australia-economy-rates-idUSL4N2FY1EP\n",
       " 1658                 https://uk.reuters.com/article/uk-ecb-policy-villeroy-idUKKBN2612WC\n",
       " 1684             https://www.reuters.com/article/australia-economy-rba-int-idUSKBN26807S\n",
       " 1458                  https://www.reuters.com/article/usa-stocks-weekahead-idUKL1N2G819T\n",
       " 1459               https://www.reuters.com/article/us-usa-stocks-weekahead-idUSKBN2622QJ\n",
       " 217                       https://in.reuters.com/article/india-morningcall-idINL4N2FX0FM\n",
       " 1526     https://www.reuters.com/article/britain-economy-consumersentiment-idUSL8N2FM2YN\n",
       " 1631               https://www.reuters.com/article/australia-economy-rates-idUSL4N2FY1GN\n",
       " 1518                              https://in.reuters.com/article/india-rbi-idINKBN25H2EJ\n",
       " 1671                     https://www.reuters.com/article/japan-economy-boj-idUSL4N2G714U\n",
       " 281                       https://in.reuters.com/article/india-morningcall-idINL4N2FU08N\n",
       " Name: link, dtype: object]"
      ]
     },
     "execution_count": 43,
     "metadata": {},
     "output_type": "execute_result"
    }
   ],
   "source": [
    "recommender3('Bank of England gears up for next stimulus push')"
   ]
  },
  {
   "cell_type": "markdown",
   "id": "453673ed-a703-4ad4-848e-abfdd786f66d",
   "metadata": {},
   "source": [
    "not immediately clear which recommender is best (all seem to include relevant sources) - future work would require user feedback to understand which version users consider most relevant"
   ]
  },
  {
   "cell_type": "markdown",
   "id": "fcca5594-a954-4661-80c9-78faaa9b120f",
   "metadata": {},
   "source": [
    " ## Get recommendations based on text\n",
    " ### enter a title to view top 20 recommendations"
   ]
  },
  {
   "cell_type": "code",
   "execution_count": 44,
   "id": "7c7c06c6",
   "metadata": {},
   "outputs": [
    {
     "data": {
      "application/vnd.jupyter.widget-view+json": {
       "model_id": "6787b64d5ac3401b9b5e3d0b3096c02c",
       "version_major": 2,
       "version_minor": 0
      },
      "text/plain": [
       "interactive(children=(Text(value='Brazils Guedes finds influence waning as Bolsonaro takes up spending reins',…"
      ]
     },
     "metadata": {},
     "output_type": "display_data"
    },
    {
     "data": {
      "text/plain": [
       "<function __main__.recommender(title)>"
      ]
     },
     "execution_count": 44,
     "metadata": {},
     "output_type": "execute_result"
    }
   ],
   "source": [
    "interact_manual(recommender, title='Brazils Guedes finds influence waning as Bolsonaro takes up spending reins')"
   ]
  },
  {
   "cell_type": "code",
   "execution_count": null,
   "id": "1dcfba2e-f065-4a16-89a2-8df84f159cc6",
   "metadata": {},
   "outputs": [],
   "source": []
  }
 ],
 "metadata": {
  "kernelspec": {
   "display_name": "Python 3",
   "language": "python",
   "name": "python3"
  },
  "language_info": {
   "codemirror_mode": {
    "name": "ipython",
    "version": 3
   },
   "file_extension": ".py",
   "mimetype": "text/x-python",
   "name": "python",
   "nbconvert_exporter": "python",
   "pygments_lexer": "ipython3",
   "version": "3.9.2"
  }
 },
 "nbformat": 4,
 "nbformat_minor": 5
}
