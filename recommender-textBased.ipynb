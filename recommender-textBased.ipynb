{
 "cells": [
  {
   "cell_type": "code",
   "execution_count": 1,
   "id": "90d7437b-f428-4075-ab59-e853f5a4985d",
   "metadata": {
    "tags": []
   },
   "outputs": [],
   "source": [
    "import pandas as pd\n",
    "import numpy as np\n",
    "import matplotlib as plt\n",
    "from sklearn.feature_extraction.text import TfidfVectorizer\n",
    "from sklearn.metrics.pairwise import cosine_similarity\n",
    "import ipywidgets as widgets\n",
    "from __future__ import print_function\n",
    "from ipywidgets import interact, interactive, fixed, interact_manual\n",
    "from ipywidgets import HBox, VBox\n",
    "from IPython.display import display\n",
    "from nltk.corpus import stopwords\n",
    "from nltk.tokenize import RegexpTokenizer\n",
    "import re\n",
    "import string\n",
    "import random\n",
    "import nbinteract as nbi\n",
    "%matplotlib inline\n",
    "pd.set_option('display.max_colwidth', None)"
   ]
  },
  {
   "cell_type": "code",
   "execution_count": 2,
   "id": "dbbb914e",
   "metadata": {},
   "outputs": [],
   "source": [
    "df = pd.read_csv('newsData.csv')"
   ]
  },
  {
   "cell_type": "markdown",
   "id": "b0fb7b03",
   "metadata": {},
   "source": [
    "### Text cleaning (remove special characters)"
   ]
  },
  {
   "cell_type": "code",
   "execution_count": 3,
   "id": "dd38e65c-fd1a-4496-b46a-8c739af1d770",
   "metadata": {},
   "outputs": [],
   "source": [
    "# Function for converting into lower case\n",
    "def make_lower_case(text):\n",
    "    return text.lower()\n",
    "\n",
    "\n",
    "# Function for removing punctuation\n",
    "def remove_punctuation(text):\n",
    "    tokenizer = RegexpTokenizer(r'\\w+')\n",
    "    text = tokenizer.tokenize(text)\n",
    "    text = \" \".join(text)\n",
    "    return text\n",
    "\n",
    "# Function for removing the html tags\n",
    "def remove_html(text):\n",
    "    html_pattern = re.compile('<.*?>')\n",
    "    return html_pattern.sub(r'', text)\n",
    "\n",
    "# Applying all the functions in description and storing as \"cleaned\"\n",
    "df['cleaned'] = df['text'].apply(func = make_lower_case)\n",
    "df['cleaned'] = df.cleaned.apply(func=remove_punctuation)\n",
    "df['cleaned'] = df.cleaned.apply(func=remove_html)"
   ]
  },
  {
   "cell_type": "markdown",
   "id": "3931275f",
   "metadata": {},
   "source": [
    "### create tfidf matrix using sklearn TfidfVectorizer \n",
    "max_df = 0.8 (ignores overused words - not helpful), ngram range 1-3, min document freq = 0"
   ]
  },
  {
   "cell_type": "code",
   "execution_count": 4,
   "id": "4b36ed3e",
   "metadata": {},
   "outputs": [],
   "source": [
    "tf = TfidfVectorizer(analyzer='word',ngram_range=(1, 3),max_df=0.8, min_df=0, stop_words='english')"
   ]
  },
  {
   "cell_type": "code",
   "execution_count": 5,
   "id": "27c151eb",
   "metadata": {},
   "outputs": [
    {
     "data": {
      "text/plain": [
       "(1720, 1023226)"
      ]
     },
     "execution_count": 5,
     "metadata": {},
     "output_type": "execute_result"
    }
   ],
   "source": [
    "matrix = tf.fit_transform(df['cleaned'])\n",
    "##show matrix dimensions\n",
    "matrix.shape"
   ]
  },
  {
   "cell_type": "markdown",
   "id": "f4bd35e4-b188-4f1b-89b6-774d3a89ec5e",
   "metadata": {},
   "source": [
    "min document freq = 0.01"
   ]
  },
  {
   "cell_type": "code",
   "execution_count": 6,
   "id": "3f3c6b5b-2f31-42b9-8258-ad59f5b4638e",
   "metadata": {},
   "outputs": [],
   "source": [
    "tf2 = TfidfVectorizer(analyzer='word',ngram_range=(1, 3),max_df=0.8, min_df=0.01, stop_words='english')"
   ]
  },
  {
   "cell_type": "code",
   "execution_count": 7,
   "id": "56b44858-7d18-4bea-a3b9-85507f857069",
   "metadata": {},
   "outputs": [
    {
     "data": {
      "text/plain": [
       "(1720, 4705)"
      ]
     },
     "execution_count": 7,
     "metadata": {},
     "output_type": "execute_result"
    }
   ],
   "source": [
    "matrix2 = tf2.fit_transform(df['cleaned'])\n",
    "##show matrix dimensions\n",
    "matrix2.shape"
   ]
  },
  {
   "cell_type": "markdown",
   "id": "4936a244-28bc-4035-9a43-0c9830d5abf4",
   "metadata": {},
   "source": [
    "min document freq = 0.02"
   ]
  },
  {
   "cell_type": "code",
   "execution_count": 8,
   "id": "6fb43874-752b-4929-8cb7-e607832bb028",
   "metadata": {},
   "outputs": [],
   "source": [
    "tf3 = TfidfVectorizer(analyzer='word',ngram_range=(1, 3),max_df=0.8, min_df=0.02, stop_words='english')"
   ]
  },
  {
   "cell_type": "code",
   "execution_count": 9,
   "id": "7f122822-86ce-4190-959a-70f41bc6ac9c",
   "metadata": {},
   "outputs": [
    {
     "data": {
      "text/plain": [
       "(1720, 2546)"
      ]
     },
     "execution_count": 9,
     "metadata": {},
     "output_type": "execute_result"
    }
   ],
   "source": [
    "matrix3 = tf3.fit_transform(df['cleaned'])\n",
    "##show matrix dimensions\n",
    "matrix3.shape"
   ]
  },
  {
   "cell_type": "markdown",
   "id": "9c9f55dc-b00a-41e9-ab15-b75f6aeea3b6",
   "metadata": {},
   "source": [
    "min document freq = 0.1"
   ]
  },
  {
   "cell_type": "code",
   "execution_count": 10,
   "id": "5ed6d2b5-9e86-4e41-b73f-096d92859a41",
   "metadata": {},
   "outputs": [],
   "source": [
    "tf4 = TfidfVectorizer(analyzer='word',ngram_range=(1, 3),max_df=0.8, min_df=0.1, stop_words='english')"
   ]
  },
  {
   "cell_type": "code",
   "execution_count": 11,
   "id": "94782ae7-cbcb-4497-a07b-baddf7e3a772",
   "metadata": {},
   "outputs": [
    {
     "data": {
      "text/plain": [
       "(1720, 321)"
      ]
     },
     "execution_count": 11,
     "metadata": {},
     "output_type": "execute_result"
    }
   ],
   "source": [
    "matrix4 = tf4.fit_transform(df['cleaned'])\n",
    "##show matrix dimensions\n",
    "matrix4.shape"
   ]
  },
  {
   "cell_type": "markdown",
   "id": "90f3b1cc",
   "metadata": {},
   "source": [
    "### find cosine similarity using sklearn cosine_similarity"
   ]
  },
  {
   "cell_type": "markdown",
   "id": "8cb46b47-d59c-4838-9940-3fab749c6521",
   "metadata": {},
   "source": [
    "min document freq = 0.0"
   ]
  },
  {
   "cell_type": "code",
   "execution_count": 12,
   "id": "1982a9e8",
   "metadata": {},
   "outputs": [
    {
     "data": {
      "text/plain": [
       "array([[1.        , 0.06880661, 0.01339282, 0.03519993, 0.01280378,\n",
       "        0.03945928, 0.02100663, 0.01491427, 0.02682117, 0.0299798 ],\n",
       "       [0.06880661, 1.        , 0.02662433, 0.07078183, 0.02578568,\n",
       "        0.13277196, 0.04641155, 0.03960896, 0.05256381, 0.06091471],\n",
       "       [0.01339282, 0.02662433, 1.        , 0.02027867, 0.00837577,\n",
       "        0.01316197, 0.01436022, 0.00857093, 0.01848081, 0.01110879],\n",
       "       [0.03519993, 0.07078183, 0.02027867, 1.        , 0.01456893,\n",
       "        0.03787778, 0.04374385, 0.05828577, 0.05494052, 0.05130178],\n",
       "       [0.01280378, 0.02578568, 0.00837577, 0.01456893, 1.        ,\n",
       "        0.02145459, 0.01095427, 0.0140804 , 0.01076846, 0.01222504],\n",
       "       [0.03945928, 0.13277196, 0.01316197, 0.03787778, 0.02145459,\n",
       "        1.        , 0.02894496, 0.03477358, 0.06758499, 0.0645916 ],\n",
       "       [0.02100663, 0.04641155, 0.01436022, 0.04374385, 0.01095427,\n",
       "        0.02894496, 1.        , 0.02564241, 0.03241848, 0.03557593],\n",
       "       [0.01491427, 0.03960896, 0.00857093, 0.05828577, 0.0140804 ,\n",
       "        0.03477358, 0.02564241, 1.        , 0.03592482, 0.04140142],\n",
       "       [0.02682117, 0.05256381, 0.01848081, 0.05494052, 0.01076846,\n",
       "        0.06758499, 0.03241848, 0.03592482, 1.        , 0.21752032],\n",
       "       [0.0299798 , 0.06091471, 0.01110879, 0.05130178, 0.01222504,\n",
       "        0.0645916 , 0.03557593, 0.04140142, 0.21752032, 1.        ]])"
      ]
     },
     "execution_count": 12,
     "metadata": {},
     "output_type": "execute_result"
    }
   ],
   "source": [
    "cosSim= cosine_similarity(matrix, matrix)\n",
    "##show sample of cosine similarity array\n",
    "cosSim[:10, :10]"
   ]
  },
  {
   "cell_type": "markdown",
   "id": "556f3efc-fbe0-4cda-9187-3af1d35dc340",
   "metadata": {},
   "source": [
    "min document freq = 0.01"
   ]
  },
  {
   "cell_type": "code",
   "execution_count": 13,
   "id": "afdcbbce-1f31-46e0-a9f6-87be3d625f6d",
   "metadata": {},
   "outputs": [
    {
     "data": {
      "text/plain": [
       "array([[1.        , 0.30505936, 0.0656685 , 0.24799205, 0.09311692,\n",
       "        0.18504195, 0.15462122, 0.12583555, 0.16716745, 0.16579324],\n",
       "       [0.30505936, 1.        , 0.09965509, 0.36721666, 0.15070892,\n",
       "        0.39200468, 0.24345122, 0.20887752, 0.25975741, 0.26401425],\n",
       "       [0.0656685 , 0.09965509, 1.        , 0.0936003 , 0.0451685 ,\n",
       "        0.04876283, 0.07628341, 0.05362285, 0.08322409, 0.05170567],\n",
       "       [0.24799205, 0.36721666, 0.0936003 , 1.        , 0.11288847,\n",
       "        0.19516325, 0.28900596, 0.32078615, 0.34083782, 0.31967299],\n",
       "       [0.09311692, 0.15070892, 0.0451685 , 0.11288847, 1.        ,\n",
       "        0.11768203, 0.08867926, 0.13065983, 0.07567915, 0.09472805],\n",
       "       [0.18504195, 0.39200468, 0.04876283, 0.19516325, 0.11768203,\n",
       "        1.        , 0.16849977, 0.15129127, 0.19802937, 0.20436147],\n",
       "       [0.15462122, 0.24345122, 0.07628341, 0.28900596, 0.08867926,\n",
       "        0.16849977, 1.        , 0.22489324, 0.22782226, 0.25869016],\n",
       "       [0.12583555, 0.20887752, 0.05362285, 0.32078615, 0.13065983,\n",
       "        0.15129127, 0.22489324, 1.        , 0.25579228, 0.29426138],\n",
       "       [0.16716745, 0.25975741, 0.08322409, 0.34083782, 0.07567915,\n",
       "        0.19802937, 0.22782226, 0.25579228, 1.        , 0.45377887],\n",
       "       [0.16579324, 0.26401425, 0.05170567, 0.31967299, 0.09472805,\n",
       "        0.20436147, 0.25869016, 0.29426138, 0.45377887, 1.        ]])"
      ]
     },
     "execution_count": 13,
     "metadata": {},
     "output_type": "execute_result"
    }
   ],
   "source": [
    "cosSim2= cosine_similarity(matrix2, matrix2)\n",
    "##show sample of cosine similarity array\n",
    "cosSim2[:10, :10]"
   ]
  },
  {
   "cell_type": "markdown",
   "id": "f78cdc75-b7f9-4180-bfff-abf596a7de49",
   "metadata": {},
   "source": [
    "min document freq = 0.02"
   ]
  },
  {
   "cell_type": "code",
   "execution_count": 14,
   "id": "76ba11fc-6961-4061-94f4-08ada983a99b",
   "metadata": {},
   "outputs": [
    {
     "data": {
      "text/plain": [
       "array([[1.        , 0.35747672, 0.08055533, 0.31276858, 0.13564879,\n",
       "        0.25902813, 0.2031346 , 0.15672031, 0.20438778, 0.22315506],\n",
       "       [0.35747672, 1.        , 0.10597623, 0.40097926, 0.18447785,\n",
       "        0.47995665, 0.26980388, 0.22590872, 0.28734823, 0.29643917],\n",
       "       [0.08055533, 0.10597623, 1.        , 0.09659528, 0.05244029,\n",
       "        0.05904306, 0.08390779, 0.05981697, 0.0798675 , 0.05826872],\n",
       "       [0.31276858, 0.40097926, 0.09659528, 1.        , 0.14136134,\n",
       "        0.23845456, 0.32022135, 0.34650285, 0.38680462, 0.36008027],\n",
       "       [0.13564879, 0.18447785, 0.05244029, 0.14136134, 1.        ,\n",
       "        0.16476722, 0.11279112, 0.16135931, 0.09826678, 0.12344018],\n",
       "       [0.25902813, 0.47995665, 0.05904306, 0.23845456, 0.16476722,\n",
       "        1.        , 0.19210005, 0.1937333 , 0.24009762, 0.25208536],\n",
       "       [0.2031346 , 0.26980388, 0.08390779, 0.32022135, 0.11279112,\n",
       "        0.19210005, 1.        , 0.25370296, 0.26678052, 0.29621404],\n",
       "       [0.15672031, 0.22590872, 0.05981697, 0.34650285, 0.16135931,\n",
       "        0.1937333 , 0.25370296, 1.        , 0.29889561, 0.32239784],\n",
       "       [0.20438778, 0.28734823, 0.0798675 , 0.38680462, 0.09826678,\n",
       "        0.24009762, 0.26678052, 0.29889561, 1.        , 0.50543027],\n",
       "       [0.22315506, 0.29643917, 0.05826872, 0.36008027, 0.12344018,\n",
       "        0.25208536, 0.29621404, 0.32239784, 0.50543027, 1.        ]])"
      ]
     },
     "execution_count": 14,
     "metadata": {},
     "output_type": "execute_result"
    }
   ],
   "source": [
    "cosSim3= cosine_similarity(matrix3, matrix3)\n",
    "##show sample of cosine similarity array\n",
    "cosSim3[:10, :10]"
   ]
  },
  {
   "cell_type": "code",
   "execution_count": 15,
   "id": "e3d62b41",
   "metadata": {},
   "outputs": [
    {
     "data": {
      "text/plain": [
       "title\n",
       "Indian telecom giant Vodafone Idea rebrands as ‘Vi’ – TechCrunch                                                      0\n",
       "Facebook addresses political controversy in India, monetization opportunities, startup investments – TechCrunch       1\n",
       "YouTube launches its TikTok rival, YouTube Shorts, initially in India – TechCrunch                                    2\n",
       "Groww, an investment app for millennials in India, raises $30M led by YC Continuity – TechCrunch                      3\n",
       "LanzaTech is developing a small-scale waste biomass gasifier for ethanol production in India – TechCrunch             4\n",
       "                                                                                                                   ... \n",
       "Europe's electricity could be 80% fossil fuel-free by 2030: industry group                                         1715\n",
       "Brazil's Guedes finds influence waning as Bolsonaro takes up spending reins                                        1716\n",
       "Bank of England gears up for next stimulus push                                                                    1717\n",
       "Syria says U.S. sanctions behind acute fuel crisis                                                                 1718\n",
       "METALS-LME copper falls most in seven sessions on stronger dollar                                                  1719\n",
       "Length: 1720, dtype: int64"
      ]
     },
     "execution_count": 15,
     "metadata": {},
     "output_type": "execute_result"
    }
   ],
   "source": [
    "titles = df['title']\n",
    "link = df['link']\n",
    "indices = pd.Series(df.index, index=df['title'])\n",
    "indices"
   ]
  },
  {
   "cell_type": "code",
   "execution_count": 16,
   "id": "127ed901",
   "metadata": {},
   "outputs": [],
   "source": [
    "def recommender(title):\n",
    "\n",
    "    idx = indices[title]\n",
    "    similarity = list(enumerate(cosSim[idx]))\n",
    "    similarity = sorted(similarity, key=lambda x: x[1], reverse=True)\n",
    "    similarity = similarity[1:21]\n",
    "    news_indices = [i[0] for i in similarity]\n",
    "    newsTitle = titles.iloc[news_indices]\n",
    "    newsLink = link.iloc[news_indices]\n",
    "    return [newsTitle, newsLink]"
   ]
  },
  {
   "cell_type": "code",
   "execution_count": 17,
   "id": "8c14df33-1f85-492c-8588-8da988df10f6",
   "metadata": {},
   "outputs": [],
   "source": [
    "def recommender2(title):\n",
    "\n",
    "    idx = indices[title]\n",
    "    similarity = list(enumerate(cosSim2[idx]))\n",
    "    similarity = sorted(similarity, key=lambda x: x[1], reverse=True)\n",
    "    similarity = similarity[1:21]\n",
    "    news_indices = [i[0] for i in similarity]\n",
    "    newsTitle = titles.iloc[news_indices]\n",
    "    newsLink = link.iloc[news_indices]\n",
    "    return [newsTitle, newsLink]"
   ]
  },
  {
   "cell_type": "code",
   "execution_count": 18,
   "id": "596f7aff-8029-4c74-ba94-b8c950757dff",
   "metadata": {},
   "outputs": [],
   "source": [
    "def recommender3(title):\n",
    "\n",
    "    idx = indices[title]\n",
    "    similarity = list(enumerate(cosSim3[idx]))\n",
    "    similarity = sorted(similarity, key=lambda x: x[1], reverse=True)\n",
    "    similarity = similarity[1:21]\n",
    "    news_indices = [i[0] for i in similarity]\n",
    "    newsTitle = titles.iloc[news_indices]\n",
    "    newsLink = link.iloc[news_indices]\n",
    "    return [newsTitle, newsLink]"
   ]
  },
  {
   "cell_type": "markdown",
   "id": "fae024a2-9e6a-4aa7-86d8-4af04a8d1a0a",
   "metadata": {},
   "source": [
    "### test recommenders"
   ]
  },
  {
   "cell_type": "code",
   "execution_count": 23,
   "id": "a6d2c729",
   "metadata": {},
   "outputs": [
    {
     "ename": "SyntaxError",
     "evalue": "invalid syntax (<ipython-input-23-fc09e599a65c>, line 1)",
     "output_type": "error",
     "traceback": [
      "\u001b[0;36m  File \u001b[0;32m\"<ipython-input-23-fc09e599a65c>\"\u001b[0;36m, line \u001b[0;32m1\u001b[0m\n\u001b[0;31m    recommender('UK plans to drop 'Facebook tax', Mail on Sunday says')\u001b[0m\n\u001b[0m                                   ^\u001b[0m\n\u001b[0;31mSyntaxError\u001b[0m\u001b[0;31m:\u001b[0m invalid syntax\n"
     ]
    }
   ],
   "source": [
    "recommender('Bank of England gears up for next stimulus push')"
   ]
  },
  {
   "cell_type": "code",
   "execution_count": 20,
   "id": "31de1bc1-1933-4325-b63a-22d98233343a",
   "metadata": {},
   "outputs": [
    {
     "data": {
      "text/plain": [
       "[1600                            Bank of England policymakers warn of bigger risks for UK economy\n",
       " 1619                         UK economy might take years to recover from COVID hit-BoE's Vlieghe\n",
       " 1620                            Bank of England policymakers warn UK economy facing bigger risks\n",
       " 1654                            UK economy extends recovery from COVID crash, growth seen fading\n",
       " 1652                                              ECB sees \"strong rebound\" signs, monitoring FX\n",
       " 1552                       French central banker says any 2020 GDP forecast revision would be up\n",
       " 1701                    BOJ holds fire, offers brighter view of economy as pandemic impact eases\n",
       " 1604              Australia's central bank has limited options as economy sinks into steep slump\n",
       " 1633                    UPDATE 1-Australia central bank holds rates, expands bank funding scheme\n",
       " 1658                                         ECB must keep up support for the economy - Villeroy\n",
       " 1684                       Australia central bank policy measures working as expected - official\n",
       " 1526                   Britons a bit more upbeat on finances but worried about economy, GfK says\n",
       " 217                                                         Morning News Call - India, August 31\n",
       " 1631                      Australia central bank expands low-cost funding as dire GDP data looms\n",
       " 1671             Exclusive: BOJ to offer brighter view on economy as COVID crisis eases: sources\n",
       " 1615                  Russia to cut rates in 2020, helping economy to grow in 2021: Reuters Poll\n",
       " 1518                                       Buoyant Indian stock markets to correct: RBI governor\n",
       " 1458    RPT-Wall St Week Ahead-Fed meeting in focus as stocks wobble and coronavirus bill stalls\n",
       " 1707         Taiwan central bank likely to stand pat as economy weathers pandemic - Reuters poll\n",
       " 1459    Wall Street Weekahead: Fed meeting in focus as stocks wobble and coronavirus bill stalls\n",
       " Name: title, dtype: object,\n",
       " 1600                           https://www.reuters.com/article/britain-boe-idUSL8N2FZ41G\n",
       " 1619                 https://in.reuters.com/article/us-britain-boe-vlieghe-idINKBN25T261\n",
       " 1620                           https://www.reuters.com/article/britain-boe-idUSL9N2ER032\n",
       " 1654    https://www.reuters.com/article/health-coronavirus-britain-economy-idINKBN2620MS\n",
       " 1652             https://www.reuters.com/article/us-europe-ecb-instantview-idUSKBN261288\n",
       " 1552            https://www.reuters.com/article/us-france-economy-villeroy-idUSKBN25N2RE\n",
       " 1701            https://www.reuters.com/article/japan-economy-boj-decision-idUSKBN268090\n",
       " 1604                 https://www.reuters.com/article/australia-economy-rba-idUSL4N2FY29G\n",
       " 1633               https://www.reuters.com/article/australia-economy-rates-idUSL4N2FY1EP\n",
       " 1658                 https://uk.reuters.com/article/uk-ecb-policy-villeroy-idUKKBN2612WC\n",
       " 1684             https://www.reuters.com/article/australia-economy-rba-int-idUSKBN26807S\n",
       " 1526     https://www.reuters.com/article/britain-economy-consumersentiment-idUSL8N2FM2YN\n",
       " 217                       https://in.reuters.com/article/india-morningcall-idINL4N2FX0FM\n",
       " 1631               https://www.reuters.com/article/australia-economy-rates-idUSL4N2FY1GN\n",
       " 1671                     https://www.reuters.com/article/japan-economy-boj-idUSL4N2G714U\n",
       " 1615                https://www.reuters.com/article/us-russia-economy-poll-idUSKBN25R1UI\n",
       " 1518                              https://in.reuters.com/article/india-rbi-idINKBN25H2EJ\n",
       " 1458                  https://www.reuters.com/article/usa-stocks-weekahead-idUKL1N2G819T\n",
       " 1707         https://www.reuters.com/article/taiwan-economy-rates-poll-int-idUSKBN2650Z9\n",
       " 1459               https://www.reuters.com/article/us-usa-stocks-weekahead-idUSKBN2622QJ\n",
       " Name: link, dtype: object]"
      ]
     },
     "execution_count": 20,
     "metadata": {},
     "output_type": "execute_result"
    }
   ],
   "source": [
    "recommender2('Bank of England gears up for next stimulus push')"
   ]
  },
  {
   "cell_type": "code",
   "execution_count": 21,
   "id": "9f8462cc-a14e-44ea-8acf-13b685883319",
   "metadata": {},
   "outputs": [
    {
     "data": {
      "text/plain": [
       "[1600                            Bank of England policymakers warn of bigger risks for UK economy\n",
       " 1652                                              ECB sees \"strong rebound\" signs, monitoring FX\n",
       " 1620                            Bank of England policymakers warn UK economy facing bigger risks\n",
       " 1619                         UK economy might take years to recover from COVID hit-BoE's Vlieghe\n",
       " 1654                            UK economy extends recovery from COVID crash, growth seen fading\n",
       " 1552                       French central banker says any 2020 GDP forecast revision would be up\n",
       " 1701                    BOJ holds fire, offers brighter view of economy as pandemic impact eases\n",
       " 1604              Australia's central bank has limited options as economy sinks into steep slump\n",
       " 1707         Taiwan central bank likely to stand pat as economy weathers pandemic - Reuters poll\n",
       " 1633                    UPDATE 1-Australia central bank holds rates, expands bank funding scheme\n",
       " 1658                                         ECB must keep up support for the economy - Villeroy\n",
       " 1684                       Australia central bank policy measures working as expected - official\n",
       " 1458    RPT-Wall St Week Ahead-Fed meeting in focus as stocks wobble and coronavirus bill stalls\n",
       " 1459    Wall Street Weekahead: Fed meeting in focus as stocks wobble and coronavirus bill stalls\n",
       " 217                                                         Morning News Call - India, August 31\n",
       " 1526                   Britons a bit more upbeat on finances but worried about economy, GfK says\n",
       " 1631                      Australia central bank expands low-cost funding as dire GDP data looms\n",
       " 1518                                       Buoyant Indian stock markets to correct: RBI governor\n",
       " 1671             Exclusive: BOJ to offer brighter view on economy as COVID crisis eases: sources\n",
       " 281                                                         Morning News Call - India, August 28\n",
       " Name: title, dtype: object,\n",
       " 1600                           https://www.reuters.com/article/britain-boe-idUSL8N2FZ41G\n",
       " 1652             https://www.reuters.com/article/us-europe-ecb-instantview-idUSKBN261288\n",
       " 1620                           https://www.reuters.com/article/britain-boe-idUSL9N2ER032\n",
       " 1619                 https://in.reuters.com/article/us-britain-boe-vlieghe-idINKBN25T261\n",
       " 1654    https://www.reuters.com/article/health-coronavirus-britain-economy-idINKBN2620MS\n",
       " 1552            https://www.reuters.com/article/us-france-economy-villeroy-idUSKBN25N2RE\n",
       " 1701            https://www.reuters.com/article/japan-economy-boj-decision-idUSKBN268090\n",
       " 1604                 https://www.reuters.com/article/australia-economy-rba-idUSL4N2FY29G\n",
       " 1707         https://www.reuters.com/article/taiwan-economy-rates-poll-int-idUSKBN2650Z9\n",
       " 1633               https://www.reuters.com/article/australia-economy-rates-idUSL4N2FY1EP\n",
       " 1658                 https://uk.reuters.com/article/uk-ecb-policy-villeroy-idUKKBN2612WC\n",
       " 1684             https://www.reuters.com/article/australia-economy-rba-int-idUSKBN26807S\n",
       " 1458                  https://www.reuters.com/article/usa-stocks-weekahead-idUKL1N2G819T\n",
       " 1459               https://www.reuters.com/article/us-usa-stocks-weekahead-idUSKBN2622QJ\n",
       " 217                       https://in.reuters.com/article/india-morningcall-idINL4N2FX0FM\n",
       " 1526     https://www.reuters.com/article/britain-economy-consumersentiment-idUSL8N2FM2YN\n",
       " 1631               https://www.reuters.com/article/australia-economy-rates-idUSL4N2FY1GN\n",
       " 1518                              https://in.reuters.com/article/india-rbi-idINKBN25H2EJ\n",
       " 1671                     https://www.reuters.com/article/japan-economy-boj-idUSL4N2G714U\n",
       " 281                       https://in.reuters.com/article/india-morningcall-idINL4N2FU08N\n",
       " Name: link, dtype: object]"
      ]
     },
     "execution_count": 21,
     "metadata": {},
     "output_type": "execute_result"
    }
   ],
   "source": [
    "recommender3('Bank of England gears up for next stimulus push')"
   ]
  },
  {
   "cell_type": "markdown",
   "id": "453673ed-a703-4ad4-848e-abfdd786f66d",
   "metadata": {},
   "source": [
    "not immediately clear which recommender is best (all seem to include relevant sources) - future work would require user feedback to understand which version users consider most relevant"
   ]
  },
  {
   "cell_type": "markdown",
   "id": "fcca5594-a954-4661-80c9-78faaa9b120f",
   "metadata": {},
   "source": [
    " ## Get recommendations based on text\n",
    " ### enter a title to view top 20 recommendations"
   ]
  },
  {
   "cell_type": "code",
   "execution_count": 25,
   "id": "7c7c06c6",
   "metadata": {},
   "outputs": [
    {
     "data": {
      "application/vnd.jupyter.widget-view+json": {
       "model_id": "45372b9eb6a44957992e15343218d43e",
       "version_major": 2,
       "version_minor": 0
      },
      "text/plain": [
       "interactive(children=(Text(value='Bank of England policymakers warn of bigger risks for UK economy', descripti…"
      ]
     },
     "metadata": {},
     "output_type": "display_data"
    },
    {
     "data": {
      "text/plain": [
       "<function __main__.recommender(title)>"
      ]
     },
     "metadata": {},
     "output_type": "display_data"
    }
   ],
   "source": [
    "interact = interact_manual.options(manual_name=\"find recommendations\")\n",
    "im = interact(recommender, title='Bank of England policymakers warn of bigger risks for UK economy')\n",
    "im.widget.children[0].description = 'enter title'\n",
    "display(im)"
   ]
  },
  {
   "cell_type": "code",
   "execution_count": null,
   "id": "1dcfba2e-f065-4a16-89a2-8df84f159cc6",
   "metadata": {},
   "outputs": [],
   "source": []
  }
 ],
 "metadata": {
  "kernelspec": {
   "display_name": "Python 3",
   "language": "python",
   "name": "python3"
  },
  "language_info": {
   "codemirror_mode": {
    "name": "ipython",
    "version": 3
   },
   "file_extension": ".py",
   "mimetype": "text/x-python",
   "name": "python",
   "nbconvert_exporter": "python",
   "pygments_lexer": "ipython3",
   "version": "3.9.2"
  },
  "widgets": {
   "application/vnd.jupyter.widget-state+json": {
    "state": {
     "0276910df34e47e7bbbe234074935f00": {
      "model_module": "@jupyter-widgets/base",
      "model_module_version": "1.2.0",
      "model_name": "LayoutModel",
      "state": {}
     },
     "034860e0e58c4bb89e640a77ecfcbca2": {
      "model_module": "@jupyter-widgets/base",
      "model_module_version": "1.2.0",
      "model_name": "LayoutModel",
      "state": {}
     },
     "13fdc530fa7c449bbd9ec8f356ae48dc": {
      "model_module": "@jupyter-widgets/controls",
      "model_module_version": "1.5.0",
      "model_name": "DescriptionStyleModel",
      "state": {
       "description_width": ""
      }
     },
     "149c9ba6ca7a40c394a0cf25562bd82c": {
      "model_module": "@jupyter-widgets/controls",
      "model_module_version": "1.5.0",
      "model_name": "ButtonStyleModel",
      "state": {}
     },
     "1555675fb6504b1e9ea9bb868d2157e1": {
      "model_module": "@jupyter-widgets/base",
      "model_module_version": "1.2.0",
      "model_name": "LayoutModel",
      "state": {}
     },
     "15761cb446eb460e8b4b15fb707f9a6f": {
      "model_module": "@jupyter-widgets/base",
      "model_module_version": "1.2.0",
      "model_name": "LayoutModel",
      "state": {}
     },
     "1eedd4e3a27344bc9ff37ecaa12ba1ef": {
      "model_module": "@jupyter-widgets/controls",
      "model_module_version": "1.5.0",
      "model_name": "ButtonStyleModel",
      "state": {}
     },
     "254ca003859f41a8908620c28499174b": {
      "model_module": "@jupyter-widgets/controls",
      "model_module_version": "1.5.0",
      "model_name": "ButtonModel",
      "state": {
       "description": "find recommendations",
       "layout": "IPY_MODEL_e6eec11eed7b4cf5b47ea8af0d707fcc",
       "style": "IPY_MODEL_149c9ba6ca7a40c394a0cf25562bd82c"
      }
     },
     "2fb3a90657204c82a74399dae8683cdc": {
      "model_module": "@jupyter-widgets/base",
      "model_module_version": "1.2.0",
      "model_name": "LayoutModel",
      "state": {}
     },
     "45372b9eb6a44957992e15343218d43e": {
      "model_module": "@jupyter-widgets/controls",
      "model_module_version": "1.5.0",
      "model_name": "VBoxModel",
      "state": {
       "_dom_classes": [
        "widget-interact"
       ],
       "children": [
        "IPY_MODEL_aaa3ed8c49c84a40943ccbe70f727fa1",
        "IPY_MODEL_254ca003859f41a8908620c28499174b",
        "IPY_MODEL_76a51a139e5d48b9a8ac3bb0d66e9f6a"
       ],
       "layout": "IPY_MODEL_15761cb446eb460e8b4b15fb707f9a6f"
      }
     },
     "45bbb1c4ca854213af842be422eb17f2": {
      "model_module": "@jupyter-widgets/base",
      "model_module_version": "1.2.0",
      "model_name": "LayoutModel",
      "state": {}
     },
     "500bef8cfdd84216a88549435fbca33e": {
      "model_module": "@jupyter-widgets/controls",
      "model_module_version": "1.5.0",
      "model_name": "VBoxModel",
      "state": {
       "_dom_classes": [
        "widget-interact"
       ],
       "children": [
        "IPY_MODEL_acb0783232d84be8be161dd93f1fda3d",
        "IPY_MODEL_d8557954a285490eb0bece9b4051c10d",
        "IPY_MODEL_78049e31584145338cfed56c76bb1457"
       ],
       "layout": "IPY_MODEL_1555675fb6504b1e9ea9bb868d2157e1"
      }
     },
     "5d8a690e33c44b188088fe44cfc91ea5": {
      "model_module": "@jupyter-widgets/base",
      "model_module_version": "1.2.0",
      "model_name": "LayoutModel",
      "state": {}
     },
     "5ef81a573b844e8e920f0e04cb9ba5fa": {
      "model_module": "@jupyter-widgets/output",
      "model_module_version": "1.0.0",
      "model_name": "OutputModel",
      "state": {
       "layout": "IPY_MODEL_e9da569afa4e4dd69c152f284094c996",
       "outputs": [
        {
         "data": {
          "text/plain": "[1613                               India's recovery to take time after economy shrinks 24% in June quarter\n 1618                            Brazil economy back to 2009 size after record 9.7% slump in second quarter\n 1563         Turkey's economy severely contracted 11.8% in second-quarter as coronavirus hit: Reuters poll\n 1491                                       Coronavirus: Japan suffers its biggest economic slump on record\n 1569                                 German economy contracts at record pace, recovery hinges on consumers\n 1702                                New Zealand economy in deepest recession as second-quarter GDP shrinks\n 1502                     Japan's economy minister vows to take 'flexible, timely' action to support growth\n 1706                        Japan's economy minister instructed by new PM to take steps without hesitation\n 1659                      Japan's worst postwar economic downturn could force new leader to boost stimulus\n 1671                       Exclusive: BOJ to offer brighter view on economy as COVID crisis eases: sources\n 1602                                        Factories worldwide shake off COVID-19 gloom but outlook shaky\n 1656                                          Japan's Nishimura says rising income to underpin consumption\n 1653          Japan's new government should focus on response to coronavirus, digitalization: Reuters poll\n 1688    German economic recovery to continue in second-half, third-quarter to show strong growth: ministry\n 1691                        German economic recovery to continue in H2, Q3 to show strong growth: ministry\n 1614                           Turkey's economy shrinks nearly 10% in second quarter under pandemic impact\n 1650                                                         South African economy contracts 51% q/q in Q2\n 1565                                 Recovery hopes dashed for India's recession-hit economy: Reuters poll\n 1667                      Indian economy projected to contract 11.8% year-on-year, Fitch domestic arm says\n 1655                                           Japan's Q2 GDP revised down to annualised 28.1% contraction\n Name: title, dtype: object,\n 1613          https://www.reuters.com/article/us-india-economy-gdp-idUSKBN25R1MT\n 1618         https://www.reuters.com/article/us-brazil-economy-gdp-idUSKBN25S507\n 1563         https://www.reuters.com/article/us-turkey-economy-gdp-idUSKBN25O0V0\n 1491                                https://www.bbc.co.uk/news/business-53802967\n 1569        https://www.reuters.com/article/us-germany-economy-gdp-idUSKBN25L0J2\n 1702        https://www.reuters.com/article/newzealand-economy-gdp-idUSKBN26804K\n 1502    https://www.reuters.com/article/us-japan-economy-nishimura-idUSKCN25D02H\n 1706     https://uk.reuters.com/article/us-japan-economy-nishimura-idUKKBN268069\n 1659              https://uk.reuters.com/article/japan-economy-gdp-idINKBN25Z08A\n 1671             https://www.reuters.com/article/japan-economy-boj-idUSL4N2G714U\n 1602                 https://in.reuters.com/article/global-economy-idINKBN25S3GP\n 1656    https://www.reuters.com/article/us-japan-economy-nishimura-idUSKBN25Z074\n 1653         https://www.reuters.com/article/us-japan-economy-poll-idUSKBN2620FB\n 1688            https://www.reuters.com/article/us-germany-economy-idUKKBN2650ZK\n 1691            https://www.reuters.com/article/us-germany-economy-idUSKBN2650ZK\n 1614         https://www.reuters.com/article/us-turkey-economy-gdp-idUSKBN25R1GU\n 1650           https://www.reuters.com/article/safrica-economy-gdp-idUSJ8N2A6024\n 1565         https://www.reuters.com/article/us-india-economy-poll-idUSKBN25O0AC\n 1667           https://in.reuters.com/article/us-india-economy-gdp-idINKBN25Z0VF\n 1655             https://www.reuters.com/article/japan-economy-gdp-idUST9N2F502P\n Name: link, dtype: object]"
         },
         "metadata": {},
         "output_type": "display_data"
        }
       ]
      }
     },
     "7401f9066665413e8dac381c5b920e19": {
      "model_module": "@jupyter-widgets/base",
      "model_module_version": "1.2.0",
      "model_name": "LayoutModel",
      "state": {}
     },
     "76a51a139e5d48b9a8ac3bb0d66e9f6a": {
      "model_module": "@jupyter-widgets/output",
      "model_module_version": "1.0.0",
      "model_name": "OutputModel",
      "state": {
       "layout": "IPY_MODEL_796e1994364f48bca93a76d7b2c1a895",
       "outputs": [
        {
         "data": {
          "text/plain": "[1620                                      Bank of England policymakers warn UK economy facing bigger risks\n 1619                                   UK economy might take years to recover from COVID hit-BoE's Vlieghe\n 1717                                                       Bank of England gears up for next stimulus push\n 1526                             Britons a bit more upbeat on finances but worried about economy, GfK says\n 1654                                      UK economy extends recovery from COVID crash, growth seen fading\n 305                          UK's Sunak considers sweeping tax hikes to plug COVID-19 hole, newspapers say\n 1509                                             UK economy rebounding for now, as public borrowing mounts\n 1671                       Exclusive: BOJ to offer brighter view on economy as COVID crisis eases: sources\n 1426                                   Britain plans hiring spree to harness big data in pandemic recovery\n 1713                                  British business calls for green recovery, policies to meet net zero\n 1701                              BOJ holds fire, offers brighter view of economy as pandemic impact eases\n 1649                                                          UK economy extends recovery from COVID crash\n 1658                                                   ECB must keep up support for the economy - Villeroy\n 1634                                    Japan's second-quarter capex falls most in decade on pandemic blow\n 1688    German economic recovery to continue in second-half, third-quarter to show strong growth: ministry\n 1691                        German economic recovery to continue in H2, Q3 to show strong growth: ministry\n 1552                                 French central banker says any 2020 GDP forecast revision would be up\n 1613                               India's recovery to take time after economy shrinks 24% in June quarter\n 1202                                                  UK plans to drop 'Facebook tax', Mail on Sunday says\n 255                                 UK says always reviewing quarantine data, no comment on Portugal shift\n Name: title, dtype: object,\n 1620                                https://www.reuters.com/article/britain-boe-idUSL9N2ER032\n 1619                      https://in.reuters.com/article/us-britain-boe-vlieghe-idINKBN25T261\n 1717                             https://www.reuters.com/article/us-britain-boe-idUSKBN2673NS\n 1526          https://www.reuters.com/article/britain-economy-consumersentiment-idUSL8N2FM2YN\n 1654         https://www.reuters.com/article/health-coronavirus-britain-economy-idINKBN2620MS\n 305               https://in.reuters.com/article/health-coronavirus-britain-tax-idINL8N2FW03T\n 1509          https://www.reuters.com/article/healthcoronavirus-britain-economy-idUSL8N2FN2UX\n 1671                          https://www.reuters.com/article/japan-economy-boj-idUSL4N2G714U\n 1426                    https://uk.reuters.com/article/uk-britain-politics-data-idUKKBN25Z3CD\n 1713                  https://www.reuters.com/article/us-climate-change-britain-idUSKBN26410M\n 1701                 https://www.reuters.com/article/japan-economy-boj-decision-idUSKBN268090\n 1649                                          https://www.reuters.com/video/watch/idOVCV929AJ\n 1658                      https://uk.reuters.com/article/uk-ecb-policy-villeroy-idUKKBN2612WC\n 1634                      https://in.reuters.com/article/us-japan-economy-capex-idINKBN25S35N\n 1688                         https://www.reuters.com/article/us-germany-economy-idUKKBN2650ZK\n 1691                         https://www.reuters.com/article/us-germany-economy-idUSKBN2650ZK\n 1552                 https://www.reuters.com/article/us-france-economy-villeroy-idUSKBN25N2RE\n 1613                       https://www.reuters.com/article/us-india-economy-gdp-idUSKBN25R1MT\n 1202                         https://www.reuters.com/article/us-britain-usa-tax-idUSKBN25J09E\n 255     https://in.reuters.com/article/health-coronavirus-portugal-britain-quar-idINL8N2FY3VF\n Name: link, dtype: object]"
         },
         "metadata": {},
         "output_type": "display_data"
        }
       ]
      }
     },
     "78049e31584145338cfed56c76bb1457": {
      "model_module": "@jupyter-widgets/output",
      "model_module_version": "1.0.0",
      "model_name": "OutputModel",
      "state": {
       "layout": "IPY_MODEL_fab3d3ba84f1481aa06d5101df10a8f2",
       "outputs": [
        {
         "data": {
          "text/plain": "[1620                           Bank of England policymakers warn UK economy facing bigger risks\n 1619                        UK economy might take years to recover from COVID hit-BoE's Vlieghe\n 1717                                            Bank of England gears up for next stimulus push\n 1654                           UK economy extends recovery from COVID crash, growth seen fading\n 1526                  Britons a bit more upbeat on finances but worried about economy, GfK says\n 1671            Exclusive: BOJ to offer brighter view on economy as COVID crisis eases: sources\n 1658                                        ECB must keep up support for the economy - Villeroy\n 305               UK's Sunak considers sweeping tax hikes to plug COVID-19 hole, newspapers say\n 1509                                  UK economy rebounding for now, as public borrowing mounts\n 1552                      French central banker says any 2020 GDP forecast revision would be up\n 1595                         Norway's interest rate unlikely to go negative - deputy cbank head\n 1519                        UPDATE 1-Indonesia c.bank keeps rates on hold, eases car loan rules\n 1713                       British business calls for green recovery, policies to meet net zero\n 1659           Japan's worst postwar economic downturn could force new leader to boost stimulus\n 1649                                               UK economy extends recovery from COVID crash\n 1518                                      Buoyant Indian stock markets to correct: RBI governor\n 1606                           German finance watchdog says worst of coronavirus crisis to come\n 1613                    India's recovery to take time after economy shrinks 24% in June quarter\n 1701                   BOJ holds fire, offers brighter view of economy as pandemic impact eases\n 1560    Indian government consumption key to growth in economy amid pandemic, central bank says\n Name: title, dtype: object,\n 1620                           https://www.reuters.com/article/britain-boe-idUSL9N2ER032\n 1619                 https://in.reuters.com/article/us-britain-boe-vlieghe-idINKBN25T261\n 1717                        https://www.reuters.com/article/us-britain-boe-idUSKBN2673NS\n 1654    https://www.reuters.com/article/health-coronavirus-britain-economy-idINKBN2620MS\n 1526     https://www.reuters.com/article/britain-economy-consumersentiment-idUSL8N2FM2YN\n 1671                     https://www.reuters.com/article/japan-economy-boj-idUSL4N2G714U\n 1658                 https://uk.reuters.com/article/uk-ecb-policy-villeroy-idUKKBN2612WC\n 305          https://in.reuters.com/article/health-coronavirus-britain-tax-idINL8N2FW03T\n 1509     https://www.reuters.com/article/healthcoronavirus-britain-economy-idUSL8N2FN2UX\n 1552            https://www.reuters.com/article/us-france-economy-villeroy-idUSKBN25N2RE\n 1595                        https://www.reuters.com/article/norway-cenbank-idUSO9N2AP02C\n 1519               https://www.reuters.com/article/indonesia-economy-rates-idUSL4N2FK2BV\n 1713             https://www.reuters.com/article/us-climate-change-britain-idUSKBN26410M\n 1659                      https://uk.reuters.com/article/japan-economy-gdp-idINKBN25Z08A\n 1649                                     https://www.reuters.com/video/watch/idOVCV929AJ\n 1518                              https://in.reuters.com/article/india-rbi-idINKBN25H2EJ\n 1606                      https://www.reuters.com/article/us-germany-banks-idUSKBN25T130\n 1613                  https://www.reuters.com/article/us-india-economy-gdp-idUSKBN25R1MT\n 1701            https://www.reuters.com/article/japan-economy-boj-decision-idUSKBN268090\n 1560                  https://www.reuters.com/article/india-cenbank-report-idUSL4N2FR1QW\n Name: link, dtype: object]"
         },
         "metadata": {},
         "output_type": "display_data"
        }
       ]
      }
     },
     "796e1994364f48bca93a76d7b2c1a895": {
      "model_module": "@jupyter-widgets/base",
      "model_module_version": "1.2.0",
      "model_name": "LayoutModel",
      "state": {}
     },
     "991c39f4f83046faad26aa9554437481": {
      "model_module": "@jupyter-widgets/controls",
      "model_module_version": "1.5.0",
      "model_name": "ButtonModel",
      "state": {
       "description": "find recommendations",
       "layout": "IPY_MODEL_7401f9066665413e8dac381c5b920e19",
       "style": "IPY_MODEL_1eedd4e3a27344bc9ff37ecaa12ba1ef"
      }
     },
     "aaa3ed8c49c84a40943ccbe70f727fa1": {
      "model_module": "@jupyter-widgets/controls",
      "model_module_version": "1.5.0",
      "model_name": "TextModel",
      "state": {
       "description": "enter title",
       "layout": "IPY_MODEL_5d8a690e33c44b188088fe44cfc91ea5",
       "style": "IPY_MODEL_13fdc530fa7c449bbd9ec8f356ae48dc",
       "value": "Bank of England policymakers warn of bigger risks for UK economy"
      }
     },
     "acb0783232d84be8be161dd93f1fda3d": {
      "model_module": "@jupyter-widgets/controls",
      "model_module_version": "1.5.0",
      "model_name": "TextModel",
      "state": {
       "description": "enter title",
       "layout": "IPY_MODEL_034860e0e58c4bb89e640a77ecfcbca2",
       "style": "IPY_MODEL_b7c59fc68f24411f9743596f0e406f2e",
       "value": "Bank of England policymakers warn of bigger risks for UK economy"
      }
     },
     "ad57e3402bae48adad386cf8ab2df7b1": {
      "model_module": "@jupyter-widgets/controls",
      "model_module_version": "1.5.0",
      "model_name": "VBoxModel",
      "state": {
       "_dom_classes": [
        "widget-interact"
       ],
       "children": [
        "IPY_MODEL_fac1757e511747e9a9019825d1209cc9",
        "IPY_MODEL_991c39f4f83046faad26aa9554437481",
        "IPY_MODEL_5ef81a573b844e8e920f0e04cb9ba5fa"
       ],
       "layout": "IPY_MODEL_0276910df34e47e7bbbe234074935f00"
      }
     },
     "b6f59c9c564c44cd827d3e363a5da71e": {
      "model_module": "@jupyter-widgets/controls",
      "model_module_version": "1.5.0",
      "model_name": "DescriptionStyleModel",
      "state": {
       "description_width": ""
      }
     },
     "b7c59fc68f24411f9743596f0e406f2e": {
      "model_module": "@jupyter-widgets/controls",
      "model_module_version": "1.5.0",
      "model_name": "DescriptionStyleModel",
      "state": {
       "description_width": ""
      }
     },
     "d8557954a285490eb0bece9b4051c10d": {
      "model_module": "@jupyter-widgets/controls",
      "model_module_version": "1.5.0",
      "model_name": "ButtonModel",
      "state": {
       "description": "find recommendations",
       "layout": "IPY_MODEL_45bbb1c4ca854213af842be422eb17f2",
       "style": "IPY_MODEL_e6e3ff51ed5c4b6fb1f71d64b4a73418"
      }
     },
     "e6e3ff51ed5c4b6fb1f71d64b4a73418": {
      "model_module": "@jupyter-widgets/controls",
      "model_module_version": "1.5.0",
      "model_name": "ButtonStyleModel",
      "state": {}
     },
     "e6eec11eed7b4cf5b47ea8af0d707fcc": {
      "model_module": "@jupyter-widgets/base",
      "model_module_version": "1.2.0",
      "model_name": "LayoutModel",
      "state": {}
     },
     "e9da569afa4e4dd69c152f284094c996": {
      "model_module": "@jupyter-widgets/base",
      "model_module_version": "1.2.0",
      "model_name": "LayoutModel",
      "state": {}
     },
     "fab3d3ba84f1481aa06d5101df10a8f2": {
      "model_module": "@jupyter-widgets/base",
      "model_module_version": "1.2.0",
      "model_name": "LayoutModel",
      "state": {}
     },
     "fac1757e511747e9a9019825d1209cc9": {
      "model_module": "@jupyter-widgets/controls",
      "model_module_version": "1.5.0",
      "model_name": "TextModel",
      "state": {
       "description": "enter title",
       "layout": "IPY_MODEL_2fb3a90657204c82a74399dae8683cdc",
       "style": "IPY_MODEL_b6f59c9c564c44cd827d3e363a5da71e",
       "value": "Japan's second-quarter capex falls most in decade on pandemic blow"
      }
     }
    },
    "version_major": 2,
    "version_minor": 0
   }
  }
 },
 "nbformat": 4,
 "nbformat_minor": 5
}
